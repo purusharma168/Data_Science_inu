{
 "cells": [
  {
   "cell_type": "markdown",
   "id": "dbd3820f",
   "metadata": {},
   "source": [
    "1. Write a Python Program to Find LCM?\n",
    "2. Write a Python Program to Find HCF?\n",
    "3. Write a Python Program to Convert Decimal to Binary, Octal and Hexadecimal?\n",
    "4. Write a Python Program To Find ASCII value of a character?\n",
    "5. Write a Python Program to Make a Simple Calculator with 4 basic mathematical operations?"
   ]
  },
  {
   "cell_type": "code",
   "execution_count": 1,
   "id": "b6279d63",
   "metadata": {},
   "outputs": [
    {
     "name": "stdout",
     "output_type": "stream",
     "text": [
      "Enter 1st number: 34\n",
      "Enter 2nd number: 21\n",
      "LCM of 34 and 21 is 714\n"
     ]
    }
   ],
   "source": [
    "# Q1\n",
    "import logging as lg\n",
    "lg.basicConfig(filename=\"error.log\",level=lg.INFO)\n",
    "class LCM:\n",
    "    def __init__(self,num1,num2):\n",
    "        self.num1=num1\n",
    "        self.num2=num2\n",
    "        \n",
    "    def my_fun(self):\n",
    "        try:\n",
    "            if self.num1 > self.num2:\n",
    "                greater = self.num1\n",
    "            else:\n",
    "                greater = self.num2\n",
    "\n",
    "            while(True):\n",
    "                if((greater%self.num1==0) and (greater%self.num2==0)):\n",
    "                    lcm=greater\n",
    "                    break\n",
    "                greater+=1\n",
    "            return greater\n",
    "        except Exception as e:\n",
    "            lg.info(str(e))\n",
    "            \n",
    "    def __str__(self):\n",
    "        return \"LCM class created\"\n",
    "\n",
    "try:\n",
    "    num1 = int(input(\"Enter 1st number: \"))\n",
    "    num2 = int(input(\"Enter 2nd number: \"))\n",
    "    obj = LCM(num1 , num2)\n",
    "    print(\"LCM of {} and {} is {}\".format(num1 , num2 , obj.my_fun()))\n",
    "except Exception as e:\n",
    "    lg.info(str(e))"
   ]
  },
  {
   "cell_type": "code",
   "execution_count": 2,
   "id": "625ed546",
   "metadata": {},
   "outputs": [
    {
     "name": "stdout",
     "output_type": "stream",
     "text": [
      "Enter 1st number: 67\n",
      "Enter 2nd number: 432\n",
      "HCF of 67 and 432 is 1\n"
     ]
    }
   ],
   "source": [
    "# Q2\n",
    "import logging as lg\n",
    "lg.basicConfig(filename=\"error.log\",level=lg.INFO)\n",
    "class HCF:\n",
    "    def __init__(self,num1,num2):\n",
    "        self.num1=num1\n",
    "        self.num2=num2\n",
    "        \n",
    "    def my_fun(self):\n",
    "        try:\n",
    "            if self.num1 < self.num2:\n",
    "                smaller = self.num1\n",
    "            else:\n",
    "                smaller = self.num2\n",
    "\n",
    "            for i in range(1,smaller+1):\n",
    "                if((self.num1%i==0) and (self.num2%i==0)):\n",
    "                    hcf=i\n",
    "            return hcf\n",
    "        except Exception as e:\n",
    "            lg.info(str(e))\n",
    "            \n",
    "    def __str__(self):\n",
    "        return \"LCM class created\"\n",
    "\n",
    "try:\n",
    "    num1 = int(input(\"Enter 1st number: \"))\n",
    "    num2 = int(input(\"Enter 2nd number: \"))\n",
    "    obj = HCF(num1 , num2)\n",
    "    print(\"HCF of {} and {} is {}\".format(num1 , num2 , obj.my_fun()))\n",
    "except Exception as e:\n",
    "    lg.info(str(e))"
   ]
  },
  {
   "cell_type": "code",
   "execution_count": 3,
   "id": "b5b422bd",
   "metadata": {},
   "outputs": [
    {
     "name": "stdout",
     "output_type": "stream",
     "text": [
      "Enter number: 345\n",
      "Binary of 345 is 0b101011001 Octal of 345 is 0o531 Hex of 345 is 0x159\n"
     ]
    }
   ],
   "source": [
    "# Q3\n",
    "import logging as lg\n",
    "lg.basicConfig(filename=\"error.log\",level=lg.INFO)\n",
    "class Conversion:\n",
    "    def __init__(self,num):\n",
    "        self.num=num\n",
    "        \n",
    "    def DecimalToBinary(self):\n",
    "        try:\n",
    "            return bin(self.num)\n",
    "        except Exception as e:\n",
    "            lg.info(str(e))\n",
    "    def DecimalToOct(self):\n",
    "        try:\n",
    "            return oct(self.num)\n",
    "        except Exception as e:\n",
    "            lg.info(str(e))\n",
    "            \n",
    "    def DecimalToHex(self):\n",
    "        try:\n",
    "            return hex(self.num)\n",
    "        except Exception as e:\n",
    "            lg.info(str(e))\n",
    "            \n",
    "    def __str__(self):\n",
    "        return \"Conversion class created\"\n",
    "\n",
    "try:\n",
    "    num = int(input(\"Enter number: \"))\n",
    "    obj = Conversion(num)\n",
    "    print(\"Binary of {} is {} Octal of {} is {} Hex of {} is {}\".format(num,obj.DecimalToBinary(),num,obj.DecimalToOct(),num,obj.DecimalToHex()))\n",
    "except Exception as e:\n",
    "    lg.info(str(e))"
   ]
  },
  {
   "cell_type": "code",
   "execution_count": 6,
   "id": "3db13f53",
   "metadata": {},
   "outputs": [
    {
     "name": "stdout",
     "output_type": "stream",
     "text": [
      "Enter character: R\n",
      "ASCII value of R is 82\n"
     ]
    }
   ],
   "source": [
    "# Q4\n",
    "import logging as lg\n",
    "lg.basicConfig(filename=\"error.log\",level=lg.INFO)\n",
    "class ASCII:\n",
    "    def __init__(self,num):\n",
    "        self.num=num\n",
    "        \n",
    "    def mainFun(self):\n",
    "        try:\n",
    "            return ord(self.num)\n",
    "        except Exception as e:\n",
    "            lg.info(str(e))\n",
    "            \n",
    "    def __str__(self):\n",
    "        return \"ASCII class created\"\n",
    "\n",
    "try:\n",
    "    num = input(\"Enter character: \")\n",
    "    obj = ASCII(num)\n",
    "    print(\"ASCII value of {} is {}\".format(num , obj.mainFun()))\n",
    "except Exception as e:\n",
    "    lg.info(str(e))"
   ]
  },
  {
   "cell_type": "code",
   "execution_count": 7,
   "id": "e9116625",
   "metadata": {},
   "outputs": [
    {
     "name": "stdout",
     "output_type": "stream",
     "text": [
      "Enter Num1: 3\n",
      "Enter Num2: 2\n",
      "5\n",
      "1\n",
      "6\n",
      "1\n"
     ]
    }
   ],
   "source": [
    "# Q5\n",
    "import logging as lg\n",
    "lg.basicConfig(filename=\"error.log\",level=lg.INFO)\n",
    "class Calculator:\n",
    "    \n",
    "    def __init__(self,num1,num2):\n",
    "        self.num1 = num1\n",
    "        self.num2= num2\n",
    "        \n",
    "    def Addition(self):\n",
    "        try:\n",
    "            return self.num1+self.num2\n",
    "        except Exception as e:\n",
    "            lg.info(str(e))\n",
    "    \n",
    "       \n",
    "    def Subtraction(self):\n",
    "        try:\n",
    "            if self.num1 > self.num2:\n",
    "                return self.num1-self.num2\n",
    "            else:\n",
    "                return self.num2-self.num1\n",
    "        except Exception as e:\n",
    "            lg.info(str(e))\n",
    "\n",
    "    def Multiplication(self):\n",
    "        try:\n",
    "            return self.num1*self.num2\n",
    "        except Exception as e:\n",
    "            lg.info(str(e))\n",
    "       \n",
    "    def Division(self):\n",
    "        try:\n",
    "            if self.num1 > self.num2:\n",
    "                return self.num1//self.num2\n",
    "            else:\n",
    "                return self.num2//self.num1\n",
    "        except Exception as e:\n",
    "            lg.info(str(e))\n",
    "    def __str__(self):\n",
    "        return \"Calculator class created\"\n",
    "\n",
    "try:\n",
    "    num1 = int(input(\"Enter Num1: \"))\n",
    "    num2 = int(input(\"Enter Num2: \"))\n",
    "    obj = Calculator(num1,num2)\n",
    "    print(obj.Addition())\n",
    "    print(obj.Subtraction())\n",
    "    print(obj.Multiplication())\n",
    "    print(obj.Division())\n",
    "except Exception as e:\n",
    "    lg.info(str(e))"
   ]
  },
  {
   "cell_type": "code",
   "execution_count": null,
   "id": "e322f4e1",
   "metadata": {},
   "outputs": [],
   "source": []
  }
 ],
 "metadata": {
  "kernelspec": {
   "display_name": "Python 3",
   "language": "python",
   "name": "python3"
  },
  "language_info": {
   "codemirror_mode": {
    "name": "ipython",
    "version": 3
   },
   "file_extension": ".py",
   "mimetype": "text/x-python",
   "name": "python",
   "nbconvert_exporter": "python",
   "pygments_lexer": "ipython3",
   "version": "3.9.6"
  }
 },
 "nbformat": 4,
 "nbformat_minor": 5
}
