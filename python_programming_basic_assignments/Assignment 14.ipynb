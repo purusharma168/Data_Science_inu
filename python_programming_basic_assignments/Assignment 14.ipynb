{
 "cells": [
  {
   "cell_type": "code",
   "execution_count": 1,
   "id": "442e19cd",
   "metadata": {},
   "outputs": [
    {
     "name": "stdout",
     "output_type": "stream",
     "text": [
      "15\n",
      "[0, 7, 14]\n",
      "0 True\n",
      "1 False\n",
      "2 False\n",
      "3 False\n",
      "4 False\n",
      "5 False\n",
      "6 False\n",
      "7 True\n",
      "8 False\n",
      "9 False\n",
      "10 False\n",
      "11 False\n",
      "12 False\n",
      "13 False\n",
      "14 True\n"
     ]
    }
   ],
   "source": [
    "#1.\n",
    "n = int(input())\n",
    "divBy7 = [i for i in range(0, n) if (i % 7 == 0)]\n",
    "print(divBy7)\n",
    "\n",
    "def divChecker(n):\n",
    "    for i in range(n):\n",
    "        if i % 7 == 0:\n",
    "            value = True\n",
    "        else:\n",
    "            value = False\n",
    "        print(i, value)\n",
    "\n",
    "divChecker(n)"
   ]
  },
  {
   "cell_type": "code",
   "execution_count": 2,
   "id": "6234a055",
   "metadata": {},
   "outputs": [
    {
     "name": "stdout",
     "output_type": "stream",
     "text": [
      "Type in: New to Python or choosing between Python 2 and Python 3? Read Python 2 or Python 3.\n",
      "[('New', 1), ('Python', 5), ('Read', 1), ('and', 1), ('between', 1), ('choosing', 1), ('or', 2), ('to', 1)]\n",
      "New 1\n",
      "Python 5\n",
      "Read 1\n",
      "and 1\n",
      "between 1\n",
      "choosing 1\n",
      "or 2\n",
      "to 1\n"
     ]
    }
   ],
   "source": [
    "#2.\n",
    "import operator\n",
    "\n",
    "text_line = input(\"Type in: \")\n",
    "\n",
    "freq_dict = {}\n",
    "\n",
    "for i in text_line.split(' '):\n",
    "    if i.isalpha():\n",
    "        if i not in freq_dict:\n",
    "            freq_dict[i] = 1\n",
    "        elif i in freq_dict:\n",
    "            freq_dict[i] = freq_dict[i] + 1\n",
    "    else:\n",
    "        pass\n",
    "\n",
    "sorted_freq_dict = sorted(freq_dict.items(), key = operator.itemgetter(0))\n",
    "print(sorted_freq_dict)\n",
    "\n",
    "for i in sorted_freq_dict:\n",
    "    print(i[0], i[1])"
   ]
  },
  {
   "cell_type": "code",
   "execution_count": 10,
   "id": "b2460904",
   "metadata": {},
   "outputs": [
    {
     "name": "stdout",
     "output_type": "stream",
     "text": [
      "Male\n",
      "Female\n"
     ]
    }
   ],
   "source": [
    "#3.\n",
    "class  Person(object):  \n",
    "    def  getGender(  self  ):  \n",
    "        return  \"Unknown\"  \n",
    "class  Male(  Person  ):  \n",
    "    def  getGender(  self  ):  \n",
    "        return  \"Male\"  \n",
    "class  Female(  Person  ):  \n",
    "    def  getGender(  self  ):  \n",
    "        return  \"Female\"  \n",
    "# Test\n",
    "aMale  =  Male()  \n",
    "aFemale=  Female()  \n",
    "print(aMale.getGender())  \n",
    "print  (aFemale.getGender())"
   ]
  },
  {
   "cell_type": "code",
   "execution_count": 3,
   "id": "837a4bbb",
   "metadata": {},
   "outputs": [
    {
     "name": "stdout",
     "output_type": "stream",
     "text": [
      "i Play hockey\n",
      "i Play football\n",
      "i love hockey\n",
      "i love football\n",
      "you Play hockey\n",
      "you Play football\n",
      "you love hockey\n",
      "you love football\n"
     ]
    }
   ],
   "source": [
    "#4.\n",
    "\n",
    "subject=[\"i\", \"you\"]\n",
    "verb=[\"Play\", \"love\"]\n",
    "obj=[\"hockey\",\"football\"]\n",
    "\n",
    "# Use list comprehension instead of looping over each of the predicates\n",
    "sentence_list = [(sub+\" \"+ vb + \" \" + ob) for sub in subject for vb in verb for ob in obj]\n",
    "for sentence in sentence_list:\n",
    " print (sentence)\n"
   ]
  },
  {
   "cell_type": "code",
   "execution_count": 8,
   "id": "de52e782",
   "metadata": {},
   "outputs": [
    {
     "name": "stdout",
     "output_type": "stream",
     "text": [
      "b'\\x1f\\x8b\\x08\\x00\\x83w\\x12a\\x02\\xff\\xcbH\\xcd\\xc9\\xc9W(\\xcf/\\xcaIQ\\xcc\\x00\\xb1\\xcb\\x919P6\\x00\\x11\\xd5\\xba\\xc2%\\x00\\x00\\x00'\n",
      "b'hello world!hellow world!hello world!'\n"
     ]
    }
   ],
   "source": [
    "#5.\n",
    "# import gzip and decompress\n",
    "import gzip\n",
    "s = b'hello world!hellow world!hello world!'\n",
    "s = gzip.compress(s)\n",
    "print(s)\n",
    "\n",
    "# using gzip.decompress(s) method\n",
    "t = gzip.decompress(s)\n",
    "print(t)\n"
   ]
  },
  {
   "cell_type": "code",
   "execution_count": 9,
   "id": "ae4b5257",
   "metadata": {},
   "outputs": [
    {
     "name": "stdout",
     "output_type": "stream",
     "text": [
      "Element is present at index 3\n"
     ]
    }
   ],
   "source": [
    "#6.\n",
    "# Python 3 program for recursive binary search.\n",
    "# Modifications needed for the older Python 2 are found in comments.\n",
    "\n",
    "# Returns index of x in arr if present, else -1\n",
    "def binary_search(arr, low, high, x):\n",
    "\n",
    "\t# Check base case\n",
    "\tif high >= low:\n",
    "\n",
    "\t\tmid = (high + low) // 2\n",
    "\n",
    "\t\t# If element is present at the middle itself\n",
    "\t\tif arr[mid] == x:\n",
    "\t\t\treturn mid\n",
    "\n",
    "\t\t# If element is smaller than mid, then it can only\n",
    "\t\t# be present in left subarray\n",
    "\t\telif arr[mid] > x:\n",
    "\t\t\treturn binary_search(arr, low, mid - 1, x)\n",
    "\n",
    "\t\t# Else the element can only be present in right subarray\n",
    "\t\telse:\n",
    "\t\t\treturn binary_search(arr, mid + 1, high, x)\n",
    "\n",
    "\telse:\n",
    "\t\t# Element is not present in the array\n",
    "\t\treturn -1\n",
    "\n",
    "# Test array\n",
    "arr = [ 2, 3, 4, 10, 40 ]\n",
    "x = 10\n",
    "\n",
    "# Function call\n",
    "result = binary_search(arr, 0, len(arr)-1, x)\n",
    "\n",
    "if result != -1:\n",
    "\tprint(\"Element is present at index\", str(result))\n",
    "else:\n",
    "\tprint(\"Element is not present in array\")\n"
   ]
  },
  {
   "cell_type": "code",
   "execution_count": null,
   "id": "828dedc2",
   "metadata": {},
   "outputs": [],
   "source": []
  }
 ],
 "metadata": {
  "kernelspec": {
   "display_name": "Python 3",
   "language": "python",
   "name": "python3"
  },
  "language_info": {
   "codemirror_mode": {
    "name": "ipython",
    "version": 3
   },
   "file_extension": ".py",
   "mimetype": "text/x-python",
   "name": "python",
   "nbconvert_exporter": "python",
   "pygments_lexer": "ipython3",
   "version": "3.9.6"
  }
 },
 "nbformat": 4,
 "nbformat_minor": 5
}
