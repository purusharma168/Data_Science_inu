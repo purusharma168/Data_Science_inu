{
 "cells": [
  {
   "cell_type": "markdown",
   "id": "66439b2f",
   "metadata": {},
   "source": [
    "# 1. What does an empty dictionary&#39;s code look like?"
   ]
  },
  {
   "cell_type": "raw",
   "id": "1ab98e9d",
   "metadata": {},
   "source": [
    "mydict = {}\n",
    "mydictdict"
   ]
  },
  {
   "cell_type": "markdown",
   "id": "90f8c865",
   "metadata": {},
   "source": [
    "# 2. What is the value of a dictionary value with the key &#39;foo&#39; and the value 42?\n"
   ]
  },
  {
   "cell_type": "code",
   "execution_count": 2,
   "id": "09c86882",
   "metadata": {},
   "outputs": [
    {
     "data": {
      "text/plain": [
       "dict_values([42])"
      ]
     },
     "execution_count": 2,
     "metadata": {},
     "output_type": "execute_result"
    }
   ],
   "source": [
    "mydict = {\"foo\":42}\n",
    "mydict.values()"
   ]
  },
  {
   "cell_type": "markdown",
   "id": "4cef75bc",
   "metadata": {},
   "source": [
    "# 3. What is the most significant distinction between a dictionary and a list?\n"
   ]
  },
  {
   "cell_type": "raw",
   "id": "07aa79e4",
   "metadata": {},
   "source": [
    "# Dictionary consist of key,value pair and list consist of normal values of different datatype\n",
    "Example\n",
    "Dictionary:\n",
    "mydict = {'a':1,'b':2,'c':3,'d':4}\n",
    "List:\n",
    "mylist = [1,\"puru\",3,4,5]"
   ]
  },
  {
   "cell_type": "markdown",
   "id": "b398051a",
   "metadata": {},
   "source": [
    "# 4. What happens if you try to access spam[&#39;foo&#39;] if spam is {&#39;bar&#39;: 100}?\n"
   ]
  },
  {
   "cell_type": "raw",
   "id": "75504dae",
   "metadata": {},
   "source": [
    "spam = {'bar':100}\n",
    "spam['foo'] will give me the error as we don't have any key of foo in the spam dictionary "
   ]
  },
  {
   "cell_type": "markdown",
   "id": "295a3e3f",
   "metadata": {},
   "source": [
    "# 5. If a dictionary is stored in spam, what is the difference between the expressions &#39;cat&#39; in spam and &#39;cat&#39; in spam.keys()?\n"
   ]
  },
  {
   "cell_type": "raw",
   "id": "a985886b",
   "metadata": {},
   "source": [
    "spam = {'cat':1}\n",
    "spam.keys()\n",
    "As we can see 'cat' in the dictionary spam is a key with value 1 and when we write \n",
    "spam.keys() we are able to find keys(i.e cat) in the spam dictionary"
   ]
  },
  {
   "cell_type": "markdown",
   "id": "a9ffdb97",
   "metadata": {},
   "source": [
    "# 6. If a dictionary is stored in spam, what is the difference between the expressions &#39;cat&#39; in spam and &#39;cat&#39; in spam.values()?\n"
   ]
  },
  {
   "cell_type": "raw",
   "id": "29c46b71",
   "metadata": {},
   "source": [
    "spam = {'cat':1}\n",
    "spam.values()\n",
    "As we can see 'cat' in the dictionary spam is a key with value 1 and when we write \n",
    "spam.values() we are able to find values in the spam dictionary"
   ]
  },
  {
   "cell_type": "markdown",
   "id": "2d34c27a",
   "metadata": {},
   "source": [
    "# 7. What is a shortcut for the following code?\n",
    "if &#39;color&#39; not in spam:\n",
    "spam[&#39;color&#39;] = &#39;black&#39;\n"
   ]
  },
  {
   "cell_type": "code",
   "execution_count": 7,
   "id": "b0f95155",
   "metadata": {},
   "outputs": [
    {
     "data": {
      "text/plain": [
       "{'cat': 1, 'a': 2, 'b': 3, 'color': 'black'}"
      ]
     },
     "execution_count": 7,
     "metadata": {},
     "output_type": "execute_result"
    }
   ],
   "source": [
    "spam = {'cat':1 , 'a':2 , 'b':3}\n",
    "if 'color' not in spam.keys():\n",
    "    spam['color']='black'\n",
    "spam"
   ]
  },
  {
   "cell_type": "markdown",
   "id": "18806ec0",
   "metadata": {},
   "source": [
    "# 8. How do you &quot;pretty print&quot; dictionary values using which module and function?"
   ]
  },
  {
   "cell_type": "code",
   "execution_count": 8,
   "id": "19f37318",
   "metadata": {},
   "outputs": [
    {
     "data": {
      "text/plain": [
       "[1, 2, 3]"
      ]
     },
     "execution_count": 8,
     "metadata": {},
     "output_type": "execute_result"
    }
   ],
   "source": [
    "spam = {'cat':1 , 'a':2 , 'b':3}\n",
    "list(spam.values())"
   ]
  },
  {
   "cell_type": "code",
   "execution_count": null,
   "id": "e975ce5c",
   "metadata": {},
   "outputs": [],
   "source": []
  }
 ],
 "metadata": {
  "kernelspec": {
   "display_name": "Python 3",
   "language": "python",
   "name": "python3"
  },
  "language_info": {
   "codemirror_mode": {
    "name": "ipython",
    "version": 3
   },
   "file_extension": ".py",
   "mimetype": "text/x-python",
   "name": "python",
   "nbconvert_exporter": "python",
   "pygments_lexer": "ipython3",
   "version": "3.8.5"
  }
 },
 "nbformat": 4,
 "nbformat_minor": 5
}
