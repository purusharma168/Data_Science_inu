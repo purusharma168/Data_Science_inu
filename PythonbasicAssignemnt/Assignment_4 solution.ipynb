{
 "cells": [
  {
   "cell_type": "markdown",
   "id": "51f1d181",
   "metadata": {},
   "source": [
    "# 1. What exactly is []?"
   ]
  },
  {
   "cell_type": "raw",
   "id": "bde94cb5",
   "metadata": {},
   "source": [
    "list[]\n",
    "\n",
    "The list is a most versatile datatype available in Python which can be written as a list of comma-separated values (items) between square brackets."
   ]
  },
  {
   "cell_type": "markdown",
   "id": "3bb67b6b",
   "metadata": {},
   "source": [
    "# 2. In a list of values stored in a variable called spam, how would you assign the value &#39;hello&#39; as the\n",
    "third value? (Assume [2, 4, 6, 8, 10] are in spam.)\n",
    "Let&#39;s pretend the spam includes the list [&#39;a&#39;, &#39;b&#39;, &#39;c&#39;, &#39;d&#39;] for the next three queries."
   ]
  },
  {
   "cell_type": "code",
   "execution_count": 7,
   "id": "08c1799d",
   "metadata": {},
   "outputs": [
    {
     "name": "stdout",
     "output_type": "stream",
     "text": [
      "[2, 4, 6, 8, 10]\n",
      "[2, 4, 'hello', 6, 8, 10]\n"
     ]
    }
   ],
   "source": [
    "# solution\n",
    "spam=[2, 4, 6, 8, 10]\n",
    "print(spam)\n",
    "spam.insert(2,'hello')  # here i have given 2 for indexing thats why hello print on 3rtd index\n",
    "print(spam)"
   ]
  },
  {
   "cell_type": "code",
   "execution_count": 11,
   "id": "08881da0",
   "metadata": {},
   "outputs": [
    {
     "name": "stdout",
     "output_type": "stream",
     "text": [
      "[2, 4, 6, 8, 10]\n",
      "[2, 4, 6, 'puru', 8, 10]\n"
     ]
    }
   ],
   "source": [
    "# exmaple for better understanding\n",
    "spam=[2, 4, 6, 8, 10]\n",
    "print(spam)\n",
    "spam.insert(3,'puru')  # here i have given 3 for indexing thats why  puru print on 3rtd index\n",
    "print(spam)"
   ]
  },
  {
   "cell_type": "markdown",
   "id": "489644f5",
   "metadata": {},
   "source": [
    "# Let&#39;s pretend the spam includes the list [&#39;a&#39;, &#39;b&#39;, &#39;c&#39;, &#39;d&#39;] for the next three queries.\n",
    "# 3. What is the value of spam[int(int(&#39;3&#39; * 2) / 11)]?\n",
    "# 4. What is the value of spam[-1]?\n",
    "# 5. What is the value of spam[:2]?"
   ]
  },
  {
   "cell_type": "markdown",
   "id": "95b4f121",
   "metadata": {},
   "source": [
    "# Ans. 3\n",
    "\n"
   ]
  },
  {
   "cell_type": "code",
   "execution_count": 18,
   "id": "4fcee430",
   "metadata": {},
   "outputs": [
    {
     "data": {
      "text/plain": [
       "'d'"
      ]
     },
     "execution_count": 18,
     "metadata": {},
     "output_type": "execute_result"
    }
   ],
   "source": [
    "spam=['a', 'b', 'c', 'd']\n",
    "\n",
    "spam[int(int('3' * 2) / 11)]"
   ]
  },
  {
   "cell_type": "markdown",
   "id": "c7076618",
   "metadata": {},
   "source": [
    "# Ans. 4"
   ]
  },
  {
   "cell_type": "code",
   "execution_count": 20,
   "id": "97bbf923",
   "metadata": {},
   "outputs": [
    {
     "data": {
      "text/plain": [
       "'d'"
      ]
     },
     "execution_count": 20,
     "metadata": {},
     "output_type": "execute_result"
    }
   ],
   "source": [
    "spam=['a', 'b', 'c', 'd']\n",
    "\n",
    "spam[-1]"
   ]
  },
  {
   "cell_type": "markdown",
   "id": "db6ef214",
   "metadata": {},
   "source": [
    "#  Let&#39;s pretend bacon has the list [3.14, &#39;cat,&#39; 11, &#39;cat,&#39; True] for the next three questions.\n",
    "# 6. What is the value of bacon.index(&#39;cat&#39;)?\n",
    "# 7. How does bacon.append(99) change the look of the list value in bacon?\n",
    "# 8. How does bacon.remove(&#39;cat&#39;) change the look of the list in bacon?"
   ]
  },
  {
   "cell_type": "markdown",
   "id": "e1ba27e6",
   "metadata": {},
   "source": [
    "# Ans. 6"
   ]
  },
  {
   "cell_type": "code",
   "execution_count": 24,
   "id": "c66ae3e5",
   "metadata": {},
   "outputs": [
    {
     "data": {
      "text/plain": [
       "1"
      ]
     },
     "execution_count": 24,
     "metadata": {},
     "output_type": "execute_result"
    }
   ],
   "source": [
    "bacon =[3.14, 'cat', 11, 'cat', True]\n",
    "bacon.index('cat')"
   ]
  },
  {
   "cell_type": "markdown",
   "id": "327879a1",
   "metadata": {},
   "source": [
    "# Ans. 7"
   ]
  },
  {
   "cell_type": "code",
   "execution_count": 25,
   "id": "b937c0f1",
   "metadata": {},
   "outputs": [
    {
     "name": "stdout",
     "output_type": "stream",
     "text": [
      "Before List =  [3.14, 'cat', 11, 'cat', True]\n",
      "After List =  [3.14, 'cat', 11, 'cat', True, 99]\n"
     ]
    }
   ],
   "source": [
    "bacon = [3.14,'cat', 11, 'cat', True]\n",
    "print(\"Before List = \" , bacon)\n",
    "bacon.append(99)\n",
    "print(\"After List = \" , bacon)"
   ]
  },
  {
   "cell_type": "markdown",
   "id": "427df5f9",
   "metadata": {},
   "source": [
    "# Ans. 8"
   ]
  },
  {
   "cell_type": "code",
   "execution_count": 26,
   "id": "1a3e2edb",
   "metadata": {},
   "outputs": [
    {
     "name": "stdout",
     "output_type": "stream",
     "text": [
      "Before List =  [3.14, 'cat', 11, 'cat', True]\n",
      "After List =  [3.14, 11, 'cat', True]\n"
     ]
    }
   ],
   "source": [
    "bacon = [3.14,'cat', 11, 'cat', True]\n",
    "print(\"Before List = \" , bacon)\n",
    "bacon.remove('cat')\n",
    "print(\"After List = \" , bacon)"
   ]
  },
  {
   "cell_type": "markdown",
   "id": "047a9c88",
   "metadata": {},
   "source": [
    "# 9. What are the list concatenation and list replication operators?\n"
   ]
  },
  {
   "cell_type": "code",
   "execution_count": 28,
   "id": "d8037566",
   "metadata": {},
   "outputs": [
    {
     "name": "stdout",
     "output_type": "stream",
     "text": [
      "[6, 7, 8, 9, 10, 1, 2, 3, 4, 5]\n"
     ]
    }
   ],
   "source": [
    "# List Concatination\n",
    "list1 = [1,2,3,4,5]\n",
    "list2 = [6,7,8,9,10]\n",
    "for i in list1:\n",
    "    list2.append(i)\n",
    "print(list2)\n"
   ]
  },
  {
   "cell_type": "code",
   "execution_count": 31,
   "id": "f51a7e6a",
   "metadata": {},
   "outputs": [
    {
     "name": "stdout",
     "output_type": "stream",
     "text": [
      "[2, 3, 10, 11, 12, 13, 14, 15]\n"
     ]
    }
   ],
   "source": [
    "#List replication\n",
    "def repli():\n",
    "    list3 = [10,11,12,13,14,15]\n",
    "    list4 = [2,3]\n",
    "    list4.extend(list3)\n",
    "    print(list4)\n",
    "repli()"
   ]
  },
  {
   "cell_type": "markdown",
   "id": "8b7c470f",
   "metadata": {},
   "source": [
    "\n",
    "# 10. What is difference between the list methods append() and insert()?\n"
   ]
  },
  {
   "cell_type": "code",
   "execution_count": 34,
   "id": "51388e34",
   "metadata": {},
   "outputs": [
    {
     "data": {
      "text/plain": [
       "[2, 4, 'puru', 3, 4, 5, 6, 20]"
      ]
     },
     "execution_count": 34,
     "metadata": {},
     "output_type": "execute_result"
    }
   ],
   "source": [
    "list = [2,4,3,4,5,6]\n",
    "list.append(20) #insert 20 at end of the list\n",
    "list.insert(2,'puru')   #insert 'puru' at 2nd position\n",
    "list"
   ]
  },
  {
   "cell_type": "markdown",
   "id": "16c0c5d7",
   "metadata": {},
   "source": [
    "# 11. What are the two methods for removing items from a list?\n"
   ]
  },
  {
   "cell_type": "code",
   "execution_count": 37,
   "id": "cc84dd8a",
   "metadata": {},
   "outputs": [
    {
     "name": "stdout",
     "output_type": "stream",
     "text": [
      "[1, 3, 4, 5]\n",
      "[2, 4, 'puru', 3, 4, 5, 6, 20]\n"
     ]
    }
   ],
   "source": [
    "list1 = [1,2,3,4,5]\n",
    "#1st method to remove item from the list\n",
    "list1.remove(2)\n",
    "print(list1)\n",
    "#2nd method to remove item from the list\n",
    "list1.pop(0)\n",
    "print(list)"
   ]
  },
  {
   "cell_type": "markdown",
   "id": "247656d5",
   "metadata": {},
   "source": [
    "# 12. Describe how list values and string values are identical.\n"
   ]
  },
  {
   "cell_type": "raw",
   "id": "55ed19a6",
   "metadata": {},
   "source": [
    "List can contain any type of datatype values be it integer or string , values in the string is denoted by the index number thats why list values and string values are identical."
   ]
  },
  {
   "cell_type": "markdown",
   "id": "7e7d33d0",
   "metadata": {},
   "source": [
    "# 13. What&#39;s the difference between tuples and lists?\n"
   ]
  },
  {
   "cell_type": "raw",
   "id": "4d3ff187",
   "metadata": {},
   "source": [
    "Tuples\n",
    "\n",
    "A tuple is a collection of objects which ordered and immutable. Tuples are sequences, just like lists. The differences between tuples and lists are, the tuples cannot be changed unlike lists and tuples use parentheses, whereas lists use square brackets.\n",
    "\n",
    "Denoted by ()\n",
    "Immutable \n",
    "\n",
    "example\n",
    "\n",
    "tup2 = (1, 2, 3, 4, 5 )\n"
   ]
  },
  {
   "cell_type": "raw",
   "id": "cfd4456a",
   "metadata": {},
   "source": [
    "List\n",
    "\n",
    "The list is a most versatile datatype available in Python which can be written as a list of comma-separated values (items) between square brackets. Important thing about a list is that items in a list need not be of the same type.\n",
    "\n",
    "\n",
    "Denoted by []\n",
    "\n",
    "example\n",
    "list2 = [1, 2, 3, 4, 5 ]\n"
   ]
  },
  {
   "cell_type": "markdown",
   "id": "584cc300",
   "metadata": {},
   "source": [
    "#  14. How do you type a tuple value that only contains the integer 42?\n"
   ]
  },
  {
   "cell_type": "code",
   "execution_count": 38,
   "id": "94995d17",
   "metadata": {},
   "outputs": [
    {
     "data": {
      "text/plain": [
       "42"
      ]
     },
     "execution_count": 38,
     "metadata": {},
     "output_type": "execute_result"
    }
   ],
   "source": [
    "tuple1 = (42)\n",
    "tuple1"
   ]
  },
  {
   "cell_type": "markdown",
   "id": "15ea5eb3",
   "metadata": {},
   "source": [
    "# 15. How do you get a list value&#39;s tuple form? How do you get a tuple "
   ]
  },
  {
   "cell_type": "code",
   "execution_count": 4,
   "id": "e381015f",
   "metadata": {},
   "outputs": [
    {
     "name": "stdout",
     "output_type": "stream",
     "text": [
      "(1, 2, 3)\n",
      "[1, 2, 3, 'Puru', 'Sharma']\n"
     ]
    }
   ],
   "source": [
    "#List value tuple form\n",
    "tu = tuple([1,2,3])\n",
    "print(tu)\n",
    "#tuple value list form\n",
    "li = (1,2,3,\"Puru\",\"Sharma\")\n",
    "res = list(li)\n",
    "print(res)"
   ]
  },
  {
   "cell_type": "markdown",
   "id": "7ca9b956",
   "metadata": {},
   "source": [
    "#  16. Variables that &quot;contain&quot; list values are not necessarily lists themselves. Instead, what do they contain?\n"
   ]
  },
  {
   "cell_type": "raw",
   "id": "12132a1b",
   "metadata": {},
   "source": [
    "# List can contain different type of datatype\n",
    "Eg:li=[1,2,3,\"abc\",\"xyz\"]\n",
    "    "
   ]
  },
  {
   "cell_type": "markdown",
   "id": "4ac0e56e",
   "metadata": {},
   "source": [
    "# 17. How do you distinguish between copy.copy() and copy.deepcopy()?# "
   ]
  },
  {
   "cell_type": "code",
   "execution_count": 8,
   "id": "4b7da30c",
   "metadata": {},
   "outputs": [
    {
     "name": "stdout",
     "output_type": "stream",
     "text": [
      "[1, 2, 3] [10000, 2, 3]\n",
      "[[1, 2, 3], [4, 5, 6], [7, 8, 9]] [[1, 2, 3], [10000, 5, 6], [7, 8, 9]]\n"
     ]
    }
   ],
   "source": [
    "import copy\n",
    "#Shallow copy\n",
    "list1 = [1,2,3]\n",
    "list2 = copy.copy(list1) #assign list at other memory location\n",
    "list2[0] =  10000\n",
    "print(list1 , list2)\n",
    "#deep copy\n",
    "list3 = [[1,2,3] , [4,5,6] , [7,8,9]]\n",
    "list4 =  copy.deepcopy(list3)\n",
    "list4[1][0] = 10000\n",
    "print(list3 , list4)\n",
    "\n",
    "#Note in single dimension list shallow copy is == deep copy"
   ]
  },
  {
   "cell_type": "code",
   "execution_count": null,
   "id": "89e84299",
   "metadata": {},
   "outputs": [],
   "source": []
  }
 ],
 "metadata": {
  "kernelspec": {
   "display_name": "Python 3",
   "language": "python",
   "name": "python3"
  },
  "language_info": {
   "codemirror_mode": {
    "name": "ipython",
    "version": 3
   },
   "file_extension": ".py",
   "mimetype": "text/x-python",
   "name": "python",
   "nbconvert_exporter": "python",
   "pygments_lexer": "ipython3",
   "version": "3.8.5"
  }
 },
 "nbformat": 4,
 "nbformat_minor": 5
}
