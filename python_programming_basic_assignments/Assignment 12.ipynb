{
 "cells": [
  {
   "cell_type": "code",
   "execution_count": 1,
   "id": "742a3112",
   "metadata": {},
   "outputs": [
    {
     "name": "stdout",
     "output_type": "stream",
     "text": [
      "[1, 2, 5, 6, 7, 8, 10, 11, 12]\n"
     ]
    }
   ],
   "source": [
    "#1.\n",
    "test_dict = {'gfg' : [5, 6, 7, 8],\n",
    "             'is' : [10, 11, 7, 5],\n",
    "             'best' : [6, 12, 10, 8],\n",
    "             'for' : [1, 2, 5]}\n",
    "dict_values = list(sorted({ele for val in test_dict.values() for ele in val}))\n",
    "print(dict_values)"
   ]
  },
  {
   "cell_type": "code",
   "execution_count": 2,
   "id": "22ec3aef",
   "metadata": {},
   "outputs": [
    {
     "data": {
      "text/plain": [
       "18"
      ]
     },
     "execution_count": 2,
     "metadata": {},
     "output_type": "execute_result"
    }
   ],
   "source": [
    "#2.\n",
    "dict1 = {'a': 10, 'b': 8}\n",
    "\n",
    "def Dict_sum(dict):\n",
    "    sum = 0\n",
    "    for i in dict:\n",
    "        sum = sum + dict[i]\n",
    "    return sum\n",
    "\n",
    "Dict_sum(dict1)\n"
   ]
  },
  {
   "cell_type": "code",
   "execution_count": 3,
   "id": "cf27c305",
   "metadata": {},
   "outputs": [
    {
     "data": {
      "text/plain": [
       "{'gfg': [5, 6, 7, 8],\n",
       " 'is': [10, 11, 7, 5],\n",
       " 'best': [6, 12, 10, 8],\n",
       " 'for': [1, 2, 5],\n",
       " 'a': 10,\n",
       " 'b': 8}"
      ]
     },
     "execution_count": 3,
     "metadata": {},
     "output_type": "execute_result"
    }
   ],
   "source": [
    "#3.\n",
    "test_dict = {'gfg' : [5, 6, 7, 8],\n",
    "             'is' : [10, 11, 7, 5],\n",
    "             'best' : [6, 12, 10, 8],\n",
    "             'for' : [1, 2, 5]}\n",
    "dict1 = {'a': 10, 'b': 8}\n",
    "\n",
    "def merge(dict1,dict2):\n",
    "    dict1.update(dict2)\n",
    "    return dict1\n",
    "    \n",
    "merge(test_dict,dict1)\n"
   ]
  },
  {
   "cell_type": "code",
   "execution_count": 4,
   "id": "5b36c80b",
   "metadata": {},
   "outputs": [
    {
     "name": "stdout",
     "output_type": "stream",
     "text": [
      "The original dictionary is : {'month': [1, 2, 3], 'name': ['Jan', 'Feb', 'March']}\n",
      "Flattened dictionary : {1: 'Jan', 2: 'Feb', 3: 'March'}\n"
     ]
    }
   ],
   "source": [
    "#4.\n",
    "\n",
    "test_dict = {'month' : [1, 2, 3],\n",
    "'name' : ['Jan', 'Feb', 'March']}\n",
    "\n",
    "\n",
    "print(\"The original dictionary is : \" + str(test_dict))\n",
    "\n",
    "\n",
    "res = dict(zip(test_dict['month'], test_dict['name']))\n",
    "\n",
    "\n",
    "print(\"Flattened dictionary : \" + str(res))\n"
   ]
  },
  {
   "cell_type": "code",
   "execution_count": 5,
   "id": "c49d6cde",
   "metadata": {},
   "outputs": [
    {
     "name": "stdout",
     "output_type": "stream",
     "text": [
      "{'b': 1, 'c': 2}\n"
     ]
    }
   ],
   "source": [
    "#5.\n",
    "dict1 = {\"b\":1,\"c\":2}\n",
    "dict2 = {\"a\":12}\n",
    "dict2.update(dict1)\n",
    "print(dict1)"
   ]
  },
  {
   "cell_type": "code",
   "execution_count": 8,
   "id": "e94cbb58",
   "metadata": {},
   "outputs": [
    {
     "name": "stdout",
     "output_type": "stream",
     "text": [
      "true\n"
     ]
    }
   ],
   "source": [
    "#6.\n",
    "\n",
    "from collections import OrderedDict\n",
    "\n",
    "def checkOrder(input, pattern):\n",
    "    \n",
    "    \n",
    "    dict = OrderedDict.fromkeys(input)\n",
    "\n",
    "\n",
    "    ptrlen = 0\n",
    "    for key,value in dict.items():\n",
    "        if (key == pattern[ptrlen]):\n",
    "            ptrlen = ptrlen + 1\n",
    "\n",
    "\n",
    "        if (ptrlen == (len(pattern))):\n",
    "            return 'true'\n",
    "\n",
    "\n",
    "    return 'false'\n",
    "\n",
    "\n",
    "if __name__ == \"__main__\":\n",
    "    input = 'engineers rock'\n",
    "    pattern = 'egr'\n",
    "    print (checkOrder(input,pattern))\n"
   ]
  },
  {
   "cell_type": "code",
   "execution_count": 19,
   "id": "31abaee8",
   "metadata": {},
   "outputs": [
    {
     "name": "stdout",
     "output_type": "stream",
     "text": [
      "{'one': 'Monday', 'two': 'Tuesday', 'three': 'Wednesday', 'four': 'Thursday', 'five': 'Friday', 'six': 'Saturday', 'seven': 'Sunday'}\n",
      "['one', 'two', 'three', 'four', 'five', 'six', 'seven']\n",
      "['Monday', 'Tuesday', 'Wednesday', 'Thursday', 'Friday', 'Saturday', 'Sunday']\n"
     ]
    }
   ],
   "source": [
    "#7.\n",
    "day = { 'one' : 'Monday' , 'two' : 'Tuesday' , 'three' : 'Wednesday' , 'four' : 'Thursday' , 'five': 'Friday' , 'six' : 'Saturday' , 'seven': 'Sunday'}\n",
    "print(day)\n",
    "number = { 'one' : 1 , 'two' : 2 , 'three' : 3 , 'four' : 4 , 'five' : 5 , 'six' : 6 , 'seven' : 7}\n",
    "print(sorted(day , key=number.__getitem__))\n",
    "print([day[i] for i in sorted(day , key=number.__getitem__)])"
   ]
  },
  {
   "cell_type": "code",
   "execution_count": null,
   "id": "47438761",
   "metadata": {},
   "outputs": [],
   "source": []
  }
 ],
 "metadata": {
  "kernelspec": {
   "display_name": "Python 3",
   "language": "python",
   "name": "python3"
  },
  "language_info": {
   "codemirror_mode": {
    "name": "ipython",
    "version": 3
   },
   "file_extension": ".py",
   "mimetype": "text/x-python",
   "name": "python",
   "nbconvert_exporter": "python",
   "pygments_lexer": "ipython3",
   "version": "3.9.6"
  }
 },
 "nbformat": 4,
 "nbformat_minor": 5
}
