{
 "cells": [
  {
   "cell_type": "code",
   "execution_count": 2,
   "id": "d98ce78b",
   "metadata": {},
   "outputs": [
    {
     "name": "stdout",
     "output_type": "stream",
     "text": [
      "N\n"
     ]
    }
   ],
   "source": [
    "#1.\n",
    "def firstRepeatedChar(str):\n",
    "\n",
    "\th = {} \n",
    "\tfor ch in str:\n",
    "\n",
    "\n",
    "\t\tif ch in h:\n",
    "\t\t\treturn ch;\n",
    "\n",
    "\t\telse:\n",
    "\t\t\th[ch] = 0\n",
    "\n",
    "\treturn '\\0'\n",
    "print(firstRepeatedChar(\"INEURON\"))\n"
   ]
  },
  {
   "cell_type": "code",
   "execution_count": 5,
   "id": "65043b1c",
   "metadata": {},
   "outputs": [
    {
     "name": "stdout",
     "output_type": "stream",
     "text": [
      "False\n",
      "True\n",
      "boolean expected\n",
      "boolean expected\n"
     ]
    }
   ],
   "source": [
    "#2.\n",
    "def reverse(arg):\n",
    "    if arg == bool:\n",
    "        return not arg\n",
    "    else:\n",
    "        return \"boolean expected\"\n",
    "\n",
    "# Examples Edabit:\n",
    "def reverse(arg):\n",
    "\tif isinstance(arg, bool):\n",
    "\t\treturn not arg\n",
    "\telse:\n",
    "\t\treturn('boolean expected')\n",
    "\n",
    "def reverse(arg=None):\n",
    "\treturn not arg if type(arg) == bool else \"boolean expected\"\n",
    "\n",
    "print(reverse(True)) \n",
    "print(reverse(False)) \n",
    "print(reverse(0)) \n",
    "print(reverse(None)) "
   ]
  },
  {
   "cell_type": "code",
   "execution_count": 6,
   "id": "15aff858",
   "metadata": {},
   "outputs": [],
   "source": [
    "#3.\n",
    "def fn(a):\n",
    "    res = 0.5\n",
    "    for _ in range(a):\n",
    "        res *= 2\n",
    "    # return res for mm\n",
    "    return res / 1000"
   ]
  },
  {
   "cell_type": "code",
   "execution_count": 8,
   "id": "cb9e4bc1",
   "metadata": {},
   "outputs": [
    {
     "name": "stdout",
     "output_type": "stream",
     "text": [
      "The original string is : IneuRonForEveryone\n",
      "Uppercase elements indices : [0, 4, 7, 10]\n"
     ]
    }
   ],
   "source": [
    "#4.\n",
    "\n",
    "test_str = 'IneuRonForEveryone'\n",
    "print(\"The original string is : \" + str(test_str))\n",
    "\n",
    "\n",
    "res = [idx for idx in range(len(test_str)) if test_str[idx].isupper()]\n",
    "\n",
    "print(\"Uppercase elements indices : \" + str(res))\n"
   ]
  },
  {
   "cell_type": "code",
   "execution_count": 9,
   "id": "f6addb39",
   "metadata": {},
   "outputs": [
    {
     "name": "stdout",
     "output_type": "stream",
     "text": [
      "Even numbers in the list:  [10, 4, 66]\n"
     ]
    }
   ],
   "source": [
    "#5.\n",
    "list1 = [10, 21, 4, 45, 66, 93]\n",
    "\n",
    "\n",
    "even_nos = [num for num in list1 if num % 2 == 0]\n",
    "\n",
    "print(\"Even numbers in the list: \", even_nos)\n"
   ]
  },
  {
   "cell_type": "code",
   "execution_count": null,
   "id": "4f073a06",
   "metadata": {},
   "outputs": [],
   "source": []
  }
 ],
 "metadata": {
  "kernelspec": {
   "display_name": "Python 3",
   "language": "python",
   "name": "python3"
  },
  "language_info": {
   "codemirror_mode": {
    "name": "ipython",
    "version": 3
   },
   "file_extension": ".py",
   "mimetype": "text/x-python",
   "name": "python",
   "nbconvert_exporter": "python",
   "pygments_lexer": "ipython3",
   "version": "3.8.5"
  }
 },
 "nbformat": 4,
 "nbformat_minor": 5
}
