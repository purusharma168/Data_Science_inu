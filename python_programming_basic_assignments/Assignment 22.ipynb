{
 "cells": [
  {
   "cell_type": "code",
   "execution_count": 11,
   "metadata": {},
   "outputs": [
    {
     "data": {
      "text/plain": [
       "13.5"
      ]
     },
     "execution_count": 11,
     "metadata": {},
     "output_type": "execute_result"
    }
   ],
   "source": [
    "#1.\n",
    "def func(x,y,n):\n",
    "    for i in range(x,y):\n",
    "        for j in range(1,n):\n",
    "            no = i/j\n",
    "            return no*3\n",
    "\n",
    "func(1,10,3)"
   ]
  },
  {
   "cell_type": "code",
   "execution_count": 16,
   "metadata": {},
   "outputs": [
    {
     "name": "stdout",
     "output_type": "stream",
     "text": [
      "True\n"
     ]
    }
   ],
   "source": [
    "#2.\n",
    "def common_data(list1, list2):\n",
    "     result = False\n",
    "     for x in list1:\n",
    "         for y in list2:\n",
    "             if x == y:\n",
    "                 result = True\n",
    "                 return result\n",
    "print(common_data([1,2,3,4,5], [5,6,7,8,9]))\n"
   ]
  },
  {
   "cell_type": "code",
   "execution_count": 20,
   "metadata": {},
   "outputs": [
    {
     "name": "stdout",
     "output_type": "stream",
     "text": [
      "Hw\n"
     ]
    },
    {
     "data": {
      "text/plain": [
       "'Hw'"
      ]
     },
     "execution_count": 20,
     "metadata": {},
     "output_type": "execute_result"
    }
   ],
   "source": [
    "#3.\n",
    "\n",
    "def firstLetterWord(str):\n",
    "\n",
    "\tresult = \"\"\n",
    "\n",
    "\tv = True\n",
    "\tfor i in range(len(str)):\n",
    "\t\t\n",
    "\t\tif (str[i] == ' '):\n",
    "\t\t\tv = True\n",
    "\n",
    "\t\t\n",
    "\t\telif (str[i] != ' ' and v == True):\n",
    "\t\t\tresult += (str[i])\n",
    "\t\t\tv = False\n",
    "\n",
    "\treturn result\n",
    "\n",
    "if __name__ == \"__main__\":\n",
    "\t\n",
    "\tstr = \"Hellow world\"\n",
    "\tprint(firstLetterWord(str))\n",
    "\n",
    "\n",
    "firstLetterWord(str)\n",
    "\n",
    "\n"
   ]
  },
  {
   "cell_type": "code",
   "execution_count": 22,
   "metadata": {},
   "outputs": [
    {
     "name": "stdout",
     "output_type": "stream",
     "text": [
      "True\n",
      "True\n",
      "False\n",
      "False\n"
     ]
    }
   ],
   "source": [
    "#4.\n",
    "def is_isogram(word):\n",
    "\n",
    "\tclean_word = word.lower()\n",
    "\n",
    "\tletter_list = []\n",
    "\n",
    "\tfor letter in clean_word:\n",
    "\n",
    "\t\tif letter.isalpha():\n",
    "\t\t\tif letter in letter_list:\n",
    "\t\t\t\treturn False\n",
    "\t\t\tletter_list.append(letter)\n",
    "\n",
    "\treturn True\n",
    "\n",
    "if __name__ == '__main__':\n",
    "\tprint(is_isogram(\"Machine\"))\t\t\t\t\t\t\t\n",
    "\tprint(is_isogram(\"isogram\"))\t\t\t\t\t\t\n",
    "\tprint(is_isogram(\"Ineuron\"))\t\t\t\t\t\n",
    "\tprint(is_isogram(\"Alphabet \"))\t\t\t\t\t\t\t\t\t\t\t\n"
   ]
  },
  {
   "cell_type": "code",
   "execution_count": 23,
   "metadata": {},
   "outputs": [
    {
     "name": "stdout",
     "output_type": "stream",
     "text": [
      "Yes\n"
     ]
    }
   ],
   "source": [
    "#5.\n",
    "def isAlphabaticOrder(s):\n",
    "\t\n",
    "\t\n",
    "\tn = len(s)\n",
    "\n",
    "\t\n",
    "\tc = [s[i] for i in range(len(s))]\n",
    "\n",
    "\t\n",
    "\tc.sort(reverse = False)\n",
    "\n",
    "\t\n",
    "\tfor i in range(n):\n",
    "\t\tif (c[i] != s[i]):\n",
    "\t\t\treturn False\n",
    "\t\t\n",
    "\treturn True\n",
    "\n",
    "if __name__ == '__main__':\n",
    "\ts = \"aabbbcc\"\n",
    "\n",
    "\t\n",
    "\tif (isAlphabaticOrder(s)):\n",
    "\t\tprint(\"Yes\")\n",
    "\telse:\n",
    "\t\tprint(\"No\")\n",
    "\n",
    "\n"
   ]
  },
  {
   "cell_type": "code",
   "execution_count": null,
   "metadata": {},
   "outputs": [],
   "source": []
  }
 ],
 "metadata": {
  "interpreter": {
   "hash": "c58d10f40f0b856b9f76130d9ed183997b07a9ef1518b907aa0aba494584eb5b"
  },
  "kernelspec": {
   "display_name": "Python 3",
   "language": "python",
   "name": "python3"
  },
  "language_info": {
   "codemirror_mode": {
    "name": "ipython",
    "version": 3
   },
   "file_extension": ".py",
   "mimetype": "text/x-python",
   "name": "python",
   "nbconvert_exporter": "python",
   "pygments_lexer": "ipython3",
   "version": "3.9.6"
  }
 },
 "nbformat": 4,
 "nbformat_minor": 2
}
