{
 "cells": [
  {
   "cell_type": "markdown",
   "id": "cf98de24",
   "metadata": {},
   "source": [
    "#### 1. Given a list of numbers, create a function that removes 25% from every number in the list except the smallest number, and adds the total amount removed to the smallest number.\n",
    "\n",
    "Examples\n",
    "\n",
    "show_the_love([4, 1, 4]) ➞ [3, 3, 3]\n",
    "\n",
    "show_the_love([16, 10, 8]) ➞ [12, 7.5, 14.5]\n",
    "\n",
    "show_the_love([2, 100]) ➞ [27, 75]\n"
   ]
  },
  {
   "cell_type": "code",
   "execution_count": 10,
   "id": "4a1df5a5",
   "metadata": {},
   "outputs": [],
   "source": [
    "def show_the_love(num_list):\n",
    "    \"\"\"\n",
    "    a function that removes 25% from every number in the list\n",
    "    except the smallest number,\n",
    "    and adds the total amount removed to the smallest number.\n",
    "    \"\"\"\n",
    "    try:\n",
    "        smallest_id = num_list.index(min(num_list))\n",
    "        for num in range(len(num_list)):\n",
    "            if num != smallest_id:\n",
    "                num_list[smallest_id] += 0.25*num_list[num]\n",
    "                num_list[num] = num_list[num]-0.25*num_list[num]\n",
    "        \n",
    "        print(num_list)\n",
    "                \n",
    "    except Exception as  e:\n",
    "        print(\"error occurred \",e)\n",
    "    "
   ]
  },
  {
   "cell_type": "code",
   "execution_count": 11,
   "id": "23608657",
   "metadata": {},
   "outputs": [
    {
     "name": "stdout",
     "output_type": "stream",
     "text": [
      "[3.0, 3.0, 3.0]\n"
     ]
    }
   ],
   "source": [
    "show_the_love([4, 1, 4]) "
   ]
  },
  {
   "cell_type": "code",
   "execution_count": 12,
   "id": "ea949019",
   "metadata": {},
   "outputs": [
    {
     "name": "stdout",
     "output_type": "stream",
     "text": [
      "[12.0, 7.5, 14.5]\n"
     ]
    }
   ],
   "source": [
    "show_the_love([16, 10, 8]) "
   ]
  },
  {
   "cell_type": "code",
   "execution_count": 13,
   "id": "737322f9",
   "metadata": {},
   "outputs": [
    {
     "name": "stdout",
     "output_type": "stream",
     "text": [
      "[27.0, 75.0]\n"
     ]
    }
   ],
   "source": [
    "show_the_love([2, 100])"
   ]
  },
  {
   "cell_type": "markdown",
   "id": "76236785",
   "metadata": {},
   "source": [
    "#### 2. Create a function that takes in two words as input and returns a list of three elements, in the following order:\n",
    "\n",
    "   1.Shared letters between two words.\n",
    "   \n",
    "   2.Letters unique to word 1.\n",
    "   \n",
    "   3.Letters unique to word 2.\n",
    "\n",
    "Each element should have unique letters, and have each letter be alphabetically sorted.\n",
    "\n",
    "Examples\n",
    "\n",
    "letters(\"sharp\", \"soap\") ➞ [\"aps\", \"hr\", \"o\"]\n",
    "\n",
    "letters(\"board\", \"bored\") ➞ [\"bdor\", \"a\", \"e\"]\n",
    "\n",
    "letters(\"happiness\", \"envelope\") ➞ [\"enp\", \"ahis\", \"lov\"]\n",
    "\n",
    "letters(\"kerfuffle\", \"fluffy\") ➞ [\"flu\", \"ekr\", \"y\"]\n",
    "#### Even with multiple matching letters (e.g. 3 f's), there should only exist a single \"f\" in your first element.\n",
    "\n",
    "letters(\"match\", \"ham\") ➞ [\"ahm\", \"ct\", \"\"]\n",
    "#### \"ham\" does not contain any letters that are not found already in \"match\".\n"
   ]
  },
  {
   "cell_type": "code",
   "execution_count": 14,
   "id": "58d02c46",
   "metadata": {},
   "outputs": [],
   "source": [
    "def letters(w1,w2):\n",
    "    \"\"\"\n",
    "    function that takes in two words as input and returns a list of three elements, in the following order:\n",
    "    1.Shared letters between two words.\n",
    "\n",
    "    2.Letters unique to word 1.\n",
    "\n",
    "    3.Letters unique to word 2\n",
    "    \"\"\"\n",
    "    try:\n",
    "        shared_word = ''.join(sorted(set(w1) & set(w2)))\n",
    "        \n",
    "        unique_to_w1 = ''.join(sorted(set(w1).difference(set(w2))))\n",
    "        \n",
    "        unique_to_w2 = ''.join(sorted(set(w2).difference(set(w1))))\n",
    "        \n",
    "        print([shared_word, unique_to_w1, unique_to_w2])\n",
    "        \n",
    "                \n",
    "    except Exception as  e:\n",
    "        print(\"error occurred \",e)"
   ]
  },
  {
   "cell_type": "code",
   "execution_count": 16,
   "id": "e47dc2b1",
   "metadata": {},
   "outputs": [
    {
     "name": "stdout",
     "output_type": "stream",
     "text": [
      "['aps', 'hr', 'o']\n"
     ]
    }
   ],
   "source": [
    "letters(\"sharp\", \"soap\") "
   ]
  },
  {
   "cell_type": "code",
   "execution_count": 17,
   "id": "45592fc3",
   "metadata": {},
   "outputs": [
    {
     "name": "stdout",
     "output_type": "stream",
     "text": [
      "['bdor', 'a', 'e']\n"
     ]
    }
   ],
   "source": [
    "letters(\"board\", \"bored\")"
   ]
  },
  {
   "cell_type": "code",
   "execution_count": 18,
   "id": "9227345d",
   "metadata": {},
   "outputs": [
    {
     "name": "stdout",
     "output_type": "stream",
     "text": [
      "['enp', 'ahis', 'lov']\n"
     ]
    }
   ],
   "source": [
    "letters(\"happiness\", \"envelope\")"
   ]
  },
  {
   "cell_type": "code",
   "execution_count": 19,
   "id": "60c511e2",
   "metadata": {},
   "outputs": [
    {
     "name": "stdout",
     "output_type": "stream",
     "text": [
      "['flu', 'ekr', 'y']\n"
     ]
    }
   ],
   "source": [
    "letters(\"kerfuffle\", \"fluffy\")"
   ]
  },
  {
   "cell_type": "code",
   "execution_count": 20,
   "id": "15ccee4e",
   "metadata": {},
   "outputs": [
    {
     "name": "stdout",
     "output_type": "stream",
     "text": [
      "['ahm', 'ct', '']\n"
     ]
    }
   ],
   "source": [
    "letters(\"match\", \"ham\")"
   ]
  },
  {
   "cell_type": "markdown",
   "id": "b0f4ceb5",
   "metadata": {},
   "source": [
    "#### 3. Write a function that pairs the first number in an array with the last, the second number with the second to last, etc.\n",
    "\n",
    "Examples\n",
    "\n",
    "pairs([1, 2, 3, 4, 5, 6, 7]) ➞ [[1, 7], [2, 6], [3, 5], [4, 4]]\n",
    "\n",
    "pairs([1, 2, 3, 4, 5, 6]) ➞ [[1, 6], [2, 5], [3, 4]]\n",
    "\n",
    "pairs([5, 9, 8, 1, 2]) ➞ [[5, 2], [9, 1], [8, 8]]\n",
    "\n",
    "pairs([]) ➞ []\n"
   ]
  },
  {
   "cell_type": "code",
   "execution_count": 23,
   "id": "63bf724f",
   "metadata": {},
   "outputs": [],
   "source": [
    "def pairs(num_list):\n",
    "    \"\"\"\n",
    "    function that pairs the first number in an array with the last,\n",
    "    the second number with the second to last, etc\n",
    "    \"\"\"\n",
    "    try:\n",
    "        res = []\n",
    "        if len(num_list) % 2 != 0 :\n",
    "            mid_1 = int(len(num_list) / 2) + 1  \n",
    "        else:\n",
    "            mid_1 = int(len(num_list) / 2)\n",
    "        for i in range(mid_1):\n",
    "            paired_list = [num_list[i],num_list[-(i+1)]]\n",
    "            res.append(paired_list)\n",
    "        return res\n",
    "        \n",
    "                \n",
    "    except Exception as  e:\n",
    "        print(\"error occurred \",e)"
   ]
  },
  {
   "cell_type": "code",
   "execution_count": 24,
   "id": "5628f74c",
   "metadata": {},
   "outputs": [
    {
     "data": {
      "text/plain": [
       "[[1, 7], [2, 6], [3, 5], [4, 4]]"
      ]
     },
     "execution_count": 24,
     "metadata": {},
     "output_type": "execute_result"
    }
   ],
   "source": [
    "pairs([1, 2, 3, 4, 5, 6, 7])"
   ]
  },
  {
   "cell_type": "code",
   "execution_count": 25,
   "id": "bb2d3ef4",
   "metadata": {},
   "outputs": [
    {
     "data": {
      "text/plain": [
       "[[1, 6], [2, 5], [3, 4]]"
      ]
     },
     "execution_count": 25,
     "metadata": {},
     "output_type": "execute_result"
    }
   ],
   "source": [
    "pairs([1, 2, 3, 4, 5, 6])"
   ]
  },
  {
   "cell_type": "code",
   "execution_count": 26,
   "id": "9aa379e1",
   "metadata": {},
   "outputs": [
    {
     "data": {
      "text/plain": [
       "[]"
      ]
     },
     "execution_count": 26,
     "metadata": {},
     "output_type": "execute_result"
    }
   ],
   "source": [
    "pairs([])"
   ]
  },
  {
   "cell_type": "markdown",
   "id": "711daf7f",
   "metadata": {},
   "source": [
    "### 4. Write a function that adds two numbers. The catch, however, is that the numbers will be strings.\n",
    "\n",
    "Examples\n",
    "\n",
    "add_str_nums(\"4\", \"5\") ➞ \"9\"\n",
    "\n",
    "add_str_nums(\"abcdefg\", \"3\") ➞ \"-1\"\n",
    "\n",
    "add_str_nums(\"1\", \"\") ➞ \"1\"\n",
    "\n",
    "add_str_nums(\"1874682736267235927359283579235789257\", \"32652983572985729\") ➞ \"1874682736267235927391936562808774986\"\n"
   ]
  },
  {
   "cell_type": "code",
   "execution_count": 66,
   "id": "9c934a60",
   "metadata": {},
   "outputs": [],
   "source": [
    "def add_str_nums(num1,num2):\n",
    "    \"\"\"\n",
    "    function that adds two numbers. \n",
    "    The catch, however, is that the numbers will be strings.\n",
    "    \"\"\"\n",
    "    try:\n",
    "        num1 = num1 if len(num1) > 0 else \"0\"\n",
    "        num2 = num2 if len(num2) > 0 else \"0\"\n",
    "        if num1.isdigit() & num2.isdigit():\n",
    "            ans = str(int(num1) + int(num2))\n",
    "        else:\n",
    "            ans = \"-1\"\n",
    "                        \n",
    "        return ans\n",
    "        \n",
    "    except Exception as  e:\n",
    "        print(\"error occurred \",e)"
   ]
  },
  {
   "cell_type": "code",
   "execution_count": 67,
   "id": "c942301c",
   "metadata": {},
   "outputs": [
    {
     "data": {
      "text/plain": [
       "'9'"
      ]
     },
     "execution_count": 67,
     "metadata": {},
     "output_type": "execute_result"
    }
   ],
   "source": [
    "add_str_nums(\"4\", \"5\")"
   ]
  },
  {
   "cell_type": "code",
   "execution_count": 68,
   "id": "b3034508",
   "metadata": {},
   "outputs": [
    {
     "data": {
      "text/plain": [
       "'-1'"
      ]
     },
     "execution_count": 68,
     "metadata": {},
     "output_type": "execute_result"
    }
   ],
   "source": [
    "add_str_nums(\"abcdefg\", \"3\") "
   ]
  },
  {
   "cell_type": "code",
   "execution_count": 69,
   "id": "ce79049d",
   "metadata": {},
   "outputs": [
    {
     "data": {
      "text/plain": [
       "'1'"
      ]
     },
     "execution_count": 69,
     "metadata": {},
     "output_type": "execute_result"
    }
   ],
   "source": [
    "add_str_nums(\"1\", \"\") "
   ]
  },
  {
   "cell_type": "code",
   "execution_count": 70,
   "id": "ea83e4e0",
   "metadata": {},
   "outputs": [
    {
     "data": {
      "text/plain": [
       "'1874682736267235927391936562808774986'"
      ]
     },
     "execution_count": 70,
     "metadata": {},
     "output_type": "execute_result"
    }
   ],
   "source": [
    "add_str_nums(\"1874682736267235927359283579235789257\", \"32652983572985729\") "
   ]
  },
  {
   "cell_type": "markdown",
   "id": "a12fc216",
   "metadata": {},
   "source": [
    "#### 5. lPaeesh le pemu mnxit ehess rtnisg! Oh, sorry, that was supposed to say: Please help me unmix these strings!\n",
    "\n",
    "Somehow my strings have all become mixed up; every pair of characters has been swapped. Help me undo this so I can understand my strings again.\n",
    "\n",
    "Examples\n",
    "\n",
    "unmix(\"123456\") ➞ \"214365\"\n",
    "\n",
    "unmix(\"hTsii  s aimex dpus rtni.g\") ➞ \"This is a mixed up string.\"\n",
    "\n",
    "unmix(\"badce\") ➞ \"abcde\"\n"
   ]
  },
  {
   "cell_type": "code",
   "execution_count": 143,
   "id": "b5476653",
   "metadata": {},
   "outputs": [],
   "source": [
    "def unmix(string):\n",
    "    \"\"\"\n",
    "    Swap string\n",
    "    \"\"\"\n",
    "    try:\n",
    "        string = list(string)\n",
    "        res = string.copy()\n",
    "        for i in range(0,len(string)-1,2): \n",
    "            res[i] = string[i+1]\n",
    "        for i in range(1,len(string),2):\n",
    "            res[i] = string[i-1]        \n",
    "            \n",
    "        return ''.join(res)\n",
    "        \n",
    "    except Exception as  e:\n",
    "        print(\"error occurred \",e)"
   ]
  },
  {
   "cell_type": "code",
   "execution_count": 144,
   "id": "cc28e0a8",
   "metadata": {},
   "outputs": [
    {
     "data": {
      "text/plain": [
       "'This is a mixed up string.'"
      ]
     },
     "execution_count": 144,
     "metadata": {},
     "output_type": "execute_result"
    }
   ],
   "source": [
    "unmix(\"hTsii  s aimex dpus rtni.g\")"
   ]
  },
  {
   "cell_type": "code",
   "execution_count": 145,
   "id": "4765b722",
   "metadata": {},
   "outputs": [
    {
     "data": {
      "text/plain": [
       "'214365'"
      ]
     },
     "execution_count": 145,
     "metadata": {},
     "output_type": "execute_result"
    }
   ],
   "source": [
    "unmix(\"123456\")"
   ]
  },
  {
   "cell_type": "code",
   "execution_count": 146,
   "id": "9e128cd6",
   "metadata": {},
   "outputs": [
    {
     "data": {
      "text/plain": [
       "'abcde'"
      ]
     },
     "execution_count": 146,
     "metadata": {},
     "output_type": "execute_result"
    }
   ],
   "source": [
    "unmix(\"badce\")"
   ]
  }
 ],
 "metadata": {
  "kernelspec": {
   "display_name": "Python 3 (ipykernel)",
   "language": "python",
   "name": "python3"
  },
  "language_info": {
   "codemirror_mode": {
    "name": "ipython",
    "version": 3
   },
   "file_extension": ".py",
   "mimetype": "text/x-python",
   "name": "python",
   "nbconvert_exporter": "python",
   "pygments_lexer": "ipython3",
   "version": "3.8.11"
  }
 },
 "nbformat": 4,
 "nbformat_minor": 5
}
