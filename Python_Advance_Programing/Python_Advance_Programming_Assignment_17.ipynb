{
 "cells": [
  {
   "cell_type": "markdown",
   "id": "dd19d755",
   "metadata": {},
   "source": [
    "#### 1. Create a function that transposes a 2D matrix.\n",
    "Examples\n",
    "\n",
    "transpose_matrix([ \n",
    "\n",
    "[1, 1, 1], \n",
    "\n",
    "[2, 2, 2],\n",
    "\n",
    "[3, 3, 3] ]) ➞ \n",
    "\n",
    "[ [1, 2, 3], \n",
    "\n",
    "[1, 2, 3],\n",
    "\n",
    "[1, 2, 3] ]\n",
    "\n",
    "transpose_matrix([ [5, 5], [6, 7], [9, 1] ]) ➞ [ [5, 6, 9], [5, 7, 1] ]"
   ]
  },
  {
   "cell_type": "code",
   "execution_count": 4,
   "id": "488b47cb",
   "metadata": {},
   "outputs": [],
   "source": [
    "import numpy as np\n",
    "def transpose_matrix(mat) :\n",
    "    \"\"\"\n",
    "    transposes a 2D matrix    \n",
    "    \"\"\"\n",
    "    try:\n",
    "        return np.array(mat).T.tolist()\n",
    "    except Exception as e:\n",
    "        print(\"error occurred:\",e)"
   ]
  },
  {
   "cell_type": "code",
   "execution_count": 5,
   "id": "3493884f",
   "metadata": {},
   "outputs": [
    {
     "data": {
      "text/plain": [
       "[[1, 2, 3], [1, 2, 3], [1, 2, 3]]"
      ]
     },
     "execution_count": 5,
     "metadata": {},
     "output_type": "execute_result"
    }
   ],
   "source": [
    "transpose_matrix([[1, 1, 1],[2, 2, 2],[3, 3, 3] ])"
   ]
  },
  {
   "cell_type": "code",
   "execution_count": 6,
   "id": "d74b5a22",
   "metadata": {},
   "outputs": [
    {
     "data": {
      "text/plain": [
       "[[5, 6, 9], [5, 7, 1]]"
      ]
     },
     "execution_count": 6,
     "metadata": {},
     "output_type": "execute_result"
    }
   ],
   "source": [
    "transpose_matrix([ [5, 5], [6, 7], [9, 1] ]) "
   ]
  },
  {
   "cell_type": "markdown",
   "id": "127e101e",
   "metadata": {},
   "source": [
    "#### 2. Create a function that determines whether a string is a valid hex code.\n",
    "A hex code must begin with a pound key # and is exactly 6 characters in length. Each character must be a digit from 0-9 or an alphabetic character from A-F. All alphabetic characters may be uppercase or lowercase.\n",
    "\n",
    "Examples\n",
    "\n",
    "is_valid_hex_code(\"#CD5C5C\") ➞ True\n",
    "\n",
    "is_valid_hex_code(\"#EAECEE\") ➞ True\n",
    "\n",
    "is_valid_hex_code(\"#eaecee\") ➞ True\n",
    "\n",
    "is_valid_hex_code(\"#CD5C58C\") ➞ False\n",
    "\n",
    "Length exceeds 6\n",
    "\n",
    "is_valid_hex_code(\"#CD5C5Z\") ➞ False\n",
    "\n",
    "Not all alphabetic characters in A-F\n",
    "\n",
    "is_valid_hex_code(\"#CD5C&C\") ➞ False\n",
    "\n",
    "Contains unacceptable character\n",
    "\n",
    "is_valid_hex_code(\"CD5C5C\") ➞ False\n",
    "\n",
    "Missing \"#\""
   ]
  },
  {
   "cell_type": "code",
   "execution_count": 58,
   "id": "e65aee63",
   "metadata": {},
   "outputs": [],
   "source": [
    "def is_valid_hex_code(string):\n",
    "    \"\"\"\n",
    "    function that determines whether a string is a valid hex code\n",
    "    \"\"\"\n",
    "    try:\n",
    "        alphanum = '0123456789abcdef'\n",
    "        res = False\n",
    "        if len(string) == 7 and string[0] == \"#\":\n",
    "            for i in string[1:]:\n",
    "                if i.lower() in alphanum:\n",
    "                    res = True\n",
    "                else:\n",
    "                    res = False\n",
    "                    break\n",
    "        return res\n",
    "    \n",
    "    except Exception as e:\n",
    "        print(\"error occurred:\",e)"
   ]
  },
  {
   "cell_type": "code",
   "execution_count": 59,
   "id": "4057e983",
   "metadata": {},
   "outputs": [
    {
     "data": {
      "text/plain": [
       "True"
      ]
     },
     "execution_count": 59,
     "metadata": {},
     "output_type": "execute_result"
    }
   ],
   "source": [
    "is_valid_hex_code(\"#CD5C5C\")"
   ]
  },
  {
   "cell_type": "code",
   "execution_count": 60,
   "id": "a643f0a7",
   "metadata": {},
   "outputs": [
    {
     "data": {
      "text/plain": [
       "True"
      ]
     },
     "execution_count": 60,
     "metadata": {},
     "output_type": "execute_result"
    }
   ],
   "source": [
    "is_valid_hex_code(\"#EAECEE\") "
   ]
  },
  {
   "cell_type": "code",
   "execution_count": 61,
   "id": "38fbc129",
   "metadata": {},
   "outputs": [
    {
     "data": {
      "text/plain": [
       "True"
      ]
     },
     "execution_count": 61,
     "metadata": {},
     "output_type": "execute_result"
    }
   ],
   "source": [
    "is_valid_hex_code(\"#eaecee\")"
   ]
  },
  {
   "cell_type": "code",
   "execution_count": 62,
   "id": "0fcba67c",
   "metadata": {},
   "outputs": [
    {
     "data": {
      "text/plain": [
       "False"
      ]
     },
     "execution_count": 62,
     "metadata": {},
     "output_type": "execute_result"
    }
   ],
   "source": [
    "is_valid_hex_code(\"#CD5C58C\")"
   ]
  },
  {
   "cell_type": "code",
   "execution_count": 63,
   "id": "4b9fe64c",
   "metadata": {},
   "outputs": [
    {
     "data": {
      "text/plain": [
       "False"
      ]
     },
     "execution_count": 63,
     "metadata": {},
     "output_type": "execute_result"
    }
   ],
   "source": [
    "is_valid_hex_code(\"#CD5C5Z\") "
   ]
  },
  {
   "cell_type": "code",
   "execution_count": 64,
   "id": "2f179943",
   "metadata": {},
   "outputs": [
    {
     "data": {
      "text/plain": [
       "False"
      ]
     },
     "execution_count": 64,
     "metadata": {},
     "output_type": "execute_result"
    }
   ],
   "source": [
    "is_valid_hex_code(\"#CD5C&C\") "
   ]
  },
  {
   "cell_type": "code",
   "execution_count": 65,
   "id": "6b3393d4",
   "metadata": {},
   "outputs": [
    {
     "data": {
      "text/plain": [
       "False"
      ]
     },
     "execution_count": 65,
     "metadata": {},
     "output_type": "execute_result"
    }
   ],
   "source": [
    "is_valid_hex_code(\"CD5C5C\") "
   ]
  },
  {
   "cell_type": "markdown",
   "id": "3cd4657f",
   "metadata": {},
   "source": [
    "#### 3. Given a list of math equations (given as strings), return the percentage of correct answers as a string. Round to the nearest whole number.\n",
    "Examples\n",
    "\n",
    "mark_maths([\"2+2=4\", \"3+2=5\", \"10-3=3\", \"5+5=10\"]) ➞ \"75%\"\n",
    "\n",
    "mark_maths([\"1-2=-2\"]), \"0%\"\n",
    "\n",
    "mark_maths([\"2+3=5\", \"4+4=9\", \"3-1=2\"]) ➞ \"67%\""
   ]
  },
  {
   "cell_type": "code",
   "execution_count": 67,
   "id": "57369c7c",
   "metadata": {},
   "outputs": [],
   "source": [
    "def mark_maths(equations) :\n",
    "    \"\"\"\n",
    "    Given a list of math equations (given as strings), \n",
    "    return the percentage of correct answers as a string. Round to the nearest whole number.\n",
    "    \"\"\"\n",
    "    try:\n",
    "        count = 0\n",
    "        for equation in equations:            \n",
    "            evaluate = equation.split(\"=\") \n",
    "            \n",
    "            if eval(evaluate[0])==int(evaluate[1]):\n",
    "                count += 1\n",
    "                \n",
    "        return str(round(count*100/len(equations))) + \"%\"\n",
    "                    \n",
    "    except Exception as e:\n",
    "        print(\"error occurred:\",e)"
   ]
  },
  {
   "cell_type": "code",
   "execution_count": 68,
   "id": "85345716",
   "metadata": {},
   "outputs": [
    {
     "data": {
      "text/plain": [
       "'75%'"
      ]
     },
     "execution_count": 68,
     "metadata": {},
     "output_type": "execute_result"
    }
   ],
   "source": [
    "mark_maths([\"2+2=4\", \"3+2=5\", \"10-3=3\", \"5+5=10\"])"
   ]
  },
  {
   "cell_type": "code",
   "execution_count": 69,
   "id": "5e6f8310",
   "metadata": {},
   "outputs": [
    {
     "data": {
      "text/plain": [
       "'0%'"
      ]
     },
     "execution_count": 69,
     "metadata": {},
     "output_type": "execute_result"
    }
   ],
   "source": [
    "mark_maths([\"1-2=-2\"])"
   ]
  },
  {
   "cell_type": "code",
   "execution_count": 70,
   "id": "edcf9762",
   "metadata": {},
   "outputs": [
    {
     "data": {
      "text/plain": [
       "'67%'"
      ]
     },
     "execution_count": 70,
     "metadata": {},
     "output_type": "execute_result"
    }
   ],
   "source": [
    "mark_maths([\"2+3=5\", \"4+4=9\", \"3-1=2\"])"
   ]
  },
  {
   "cell_type": "markdown",
   "id": "73c305b1",
   "metadata": {},
   "source": [
    "#### 4. There are two players, Alice and Bob, each with a 3-by-3 grid. A referee tells Alice to fill out one particular row in the grid (say the second row) by putting either a 1 or a 0 in each box, such that the sum of the numbers in that row is odd. The referee tells Bob to fill out one column in the grid (say the first column) by putting either a 1 or a 0 in each box, such that the sum of the numbers in that column is even.\n",
    "Alice and Bob win the game if Alice’s numbers give an odd sum, Bob’s give an even sum, and (most important) they’ve each written down the same number in the one square where their row and column intersect.\n",
    "\n",
    "Examples\n",
    "\n",
    "magic_square_game([2, \"100\"], [1, \"101\"]) ➞ False\n",
    "\n",
    "magic_square_game([2, \"001\"], [1, \"101\"]) ➞ True\n",
    "\n",
    "magic_square_game([3, \"111\"], [2, \"011\"]) ➞ True\n",
    "\n",
    "magic_square_game([1, \"010\"], [3, \"101\"]) ➞ False"
   ]
  },
  {
   "cell_type": "code",
   "execution_count": 71,
   "id": "cf51db3c",
   "metadata": {},
   "outputs": [],
   "source": [
    "a,b = [2, \"100\"], [1, \"101\"]"
   ]
  },
  {
   "cell_type": "code",
   "execution_count": 75,
   "id": "6ad3478e",
   "metadata": {},
   "outputs": [
    {
     "data": {
      "text/plain": [
       "'1'"
      ]
     },
     "execution_count": 75,
     "metadata": {},
     "output_type": "execute_result"
    }
   ],
   "source": [
    "a[1][b[0]-1]"
   ]
  },
  {
   "cell_type": "code",
   "execution_count": 76,
   "id": "3f6e17f4",
   "metadata": {},
   "outputs": [
    {
     "data": {
      "text/plain": [
       "1"
      ]
     },
     "execution_count": 76,
     "metadata": {},
     "output_type": "execute_result"
    }
   ],
   "source": [
    "b[0]"
   ]
  },
  {
   "cell_type": "code",
   "execution_count": 86,
   "id": "2fee24e2",
   "metadata": {},
   "outputs": [],
   "source": [
    "def sum_string(string):\n",
    "    ans = [int(i) for i in string]\n",
    "    return sum(ans)\n",
    "\n",
    "def magic_square_game(alice, bob):\n",
    "    \"\"\"\n",
    "    magic square game\n",
    "    \"\"\"\n",
    "    try:\n",
    "        res = False\n",
    "        if alice[1][bob[0]-1] == bob[1][alice[0]-1] and sum_string(alice[1]) % 2 != 0 and sum_string(bob[1]) % 2 == 0:\n",
    "            res = True\n",
    "        return res\n",
    "    \n",
    "    except Exception as e:\n",
    "        print(\"error occurred:\",e)"
   ]
  },
  {
   "cell_type": "code",
   "execution_count": 87,
   "id": "a0b9f5f7",
   "metadata": {},
   "outputs": [
    {
     "data": {
      "text/plain": [
       "False"
      ]
     },
     "execution_count": 87,
     "metadata": {},
     "output_type": "execute_result"
    }
   ],
   "source": [
    "magic_square_game([2, \"100\"], [1, \"101\"]) "
   ]
  },
  {
   "cell_type": "code",
   "execution_count": 88,
   "id": "8c24770f",
   "metadata": {},
   "outputs": [
    {
     "data": {
      "text/plain": [
       "True"
      ]
     },
     "execution_count": 88,
     "metadata": {},
     "output_type": "execute_result"
    }
   ],
   "source": [
    "magic_square_game([2, \"001\"], [1, \"101\"])"
   ]
  },
  {
   "cell_type": "code",
   "execution_count": 89,
   "id": "a169bb0d",
   "metadata": {},
   "outputs": [
    {
     "data": {
      "text/plain": [
       "True"
      ]
     },
     "execution_count": 89,
     "metadata": {},
     "output_type": "execute_result"
    }
   ],
   "source": [
    "magic_square_game([3, \"111\"], [2, \"011\"])"
   ]
  },
  {
   "cell_type": "code",
   "execution_count": 90,
   "id": "32699180",
   "metadata": {},
   "outputs": [
    {
     "data": {
      "text/plain": [
       "False"
      ]
     },
     "execution_count": 90,
     "metadata": {},
     "output_type": "execute_result"
    }
   ],
   "source": [
    "magic_square_game([1, \"010\"], [3, \"101\"])"
   ]
  },
  {
   "cell_type": "markdown",
   "id": "8499d4b6",
   "metadata": {},
   "source": [
    "#### 5. From point A, an object is moving towards point B at constant velocity va (in km/hr). From point B, another object is moving towards point A at constant velocity vb (in km/hr). Knowing this and the distance between point A and B (in km), write a function that returns how much time passes until both objects meet.\n",
    "Format the output like this:\n",
    "\n",
    "\"2h 23min 34s\"\n",
    "\n",
    "Examples\n",
    "\n",
    "lets_meet(100, 10, 30) ➞ \"2h 30min 0s\"\n",
    "\n",
    "lets_meet(280, 70, 80) ➞ \"1h 52min 0s\"\n",
    "\n",
    "lets_meet(90, 75, 65) ➞ \"0h 38min 34s\""
   ]
  },
  {
   "cell_type": "code",
   "execution_count": 101,
   "id": "86022979",
   "metadata": {},
   "outputs": [],
   "source": [
    "import datetime\n",
    "def lets_meet(distance,va,vb):\n",
    "    \"\"\"\n",
    "    function that returns how much time passes until both objects meet.\n",
    "    \"\"\"\n",
    "    try:\n",
    "        total_time = distance / (va+vb)        \n",
    "        hour, minute, second = str(datetime.timedelta(hours =  total_time)).split(\":\")\n",
    "        res = f'{int(hour):d}' + \"h \" + f'{int(minute):d}' + \"min \" + f'{round(float(second)):d}' + \"s\"\n",
    "        return res\n",
    "        \n",
    "    except Exception as e:\n",
    "        print(\"error occurred:\",e)"
   ]
  },
  {
   "cell_type": "code",
   "execution_count": 102,
   "id": "e9c10806",
   "metadata": {},
   "outputs": [
    {
     "data": {
      "text/plain": [
       "'2h 30min 0s'"
      ]
     },
     "execution_count": 102,
     "metadata": {},
     "output_type": "execute_result"
    }
   ],
   "source": [
    "lets_meet(100, 10, 30) "
   ]
  },
  {
   "cell_type": "code",
   "execution_count": 103,
   "id": "2b9d2493",
   "metadata": {},
   "outputs": [
    {
     "data": {
      "text/plain": [
       "'1h 52min 0s'"
      ]
     },
     "execution_count": 103,
     "metadata": {},
     "output_type": "execute_result"
    }
   ],
   "source": [
    "lets_meet(280, 70, 80) "
   ]
  },
  {
   "cell_type": "code",
   "execution_count": 104,
   "id": "dfc19f3b",
   "metadata": {},
   "outputs": [
    {
     "data": {
      "text/plain": [
       "'0h 38min 34s'"
      ]
     },
     "execution_count": 104,
     "metadata": {},
     "output_type": "execute_result"
    }
   ],
   "source": [
    "lets_meet(90, 75, 65)"
   ]
  }
 ],
 "metadata": {
  "kernelspec": {
   "display_name": "Python 3",
   "language": "python",
   "name": "python3"
  },
  "language_info": {
   "codemirror_mode": {
    "name": "ipython",
    "version": 3
   },
   "file_extension": ".py",
   "mimetype": "text/x-python",
   "name": "python",
   "nbconvert_exporter": "python",
   "pygments_lexer": "ipython3",
   "version": "3.7.10"
  }
 },
 "nbformat": 4,
 "nbformat_minor": 5
}
