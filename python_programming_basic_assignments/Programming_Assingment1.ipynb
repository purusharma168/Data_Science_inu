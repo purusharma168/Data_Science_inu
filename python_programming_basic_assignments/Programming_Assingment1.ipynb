{
 "cells": [
  {
   "cell_type": "markdown",
   "id": "6aa5844f",
   "metadata": {},
   "source": [
    "# Write a Python program to print \"Hello Python\"?\n",
    "# Write a Python program to do arithmetical operations addition and division.?\n",
    "# Write a Python program to find the area of a triangle?\n",
    "# Write a Python program to swap two variables?\n",
    "# Write a Python program to generate a random number?\n"
   ]
  },
  {
   "cell_type": "code",
   "execution_count": 1,
   "id": "73d3d8b4",
   "metadata": {},
   "outputs": [
    {
     "name": "stdout",
     "output_type": "stream",
     "text": [
      "Hello Python\n"
     ]
    }
   ],
   "source": [
    "# Q1\n",
    "print(\"Hello Python\")"
   ]
  },
  {
   "cell_type": "code",
   "execution_count": 5,
   "id": "f71d5430",
   "metadata": {},
   "outputs": [
    {
     "name": "stdout",
     "output_type": "stream",
     "text": [
      "enter the number4\n",
      "enter the number3\n",
      "Addition = 7 Division = 1.3333333333333333\n"
     ]
    }
   ],
   "source": [
    "# Q2\n",
    "a = int(input(\"enter the number\"))\n",
    "b = int(input(\"enter the number\"))\n",
    "addition_result= a+b\n",
    "division_result = a/b\n",
    "print(\"Addition = {} Division = {}\".format(addition_result , division_result))\n"
   ]
  },
  {
   "cell_type": "code",
   "execution_count": 6,
   "id": "bc0b00e3",
   "metadata": {},
   "outputs": [
    {
     "name": "stdout",
     "output_type": "stream",
     "text": [
      "Enter the base = 2\n",
      "Enter the height = 3\n",
      "Area of triangle = 3 \n"
     ]
    }
   ],
   "source": [
    "# Q3\n",
    "Base = int(input(\"Enter the base = \"))\n",
    "height = int(input(\"Enter the height = \"))\n",
    "Area_triangle = (height*Base)/2\n",
    "print(\"Area of triangle = {} \".format(int(Area_triangle)))"
   ]
  },
  {
   "cell_type": "code",
   "execution_count": 8,
   "id": "0b747a6b",
   "metadata": {},
   "outputs": [
    {
     "name": "stdout",
     "output_type": "stream",
     "text": [
      "Enter 1st number : 3\n",
      "Enter 2nd number : 2\n",
      "Before Swap :\n",
      "first_variable: 3\n",
      "second_variable: 2 \n",
      "After Swap :\n",
      "first_variable: 2\n",
      "second_variable: 3 \n"
     ]
    }
   ],
   "source": [
    "# Q4\n",
    "first_variable = int(input(\"Enter 1st number : \"))\n",
    "second_variable = int(input(\"Enter 2nd number : \"))\n",
    "print(\"Before Swap :\\nfirst_variable: {}\\nsecond_variable: {} \".format(first_variable , second_variable))\n",
    "first_variable,second_variable=second_variable,first_variable\n",
    "print(\"After Swap :\\nfirst_variable: {}\\nsecond_variable: {} \".format(first_variable , second_variable))"
   ]
  },
  {
   "cell_type": "code",
   "execution_count": 10,
   "id": "4cab66df",
   "metadata": {},
   "outputs": [
    {
     "name": "stdout",
     "output_type": "stream",
     "text": [
      "Enter Min number : 23\n",
      "Enter Max number : 44\n",
      "30\n"
     ]
    }
   ],
   "source": [
    "# Q5\n",
    "import random\n",
    "a=int(input(\"Enter Min number : \"))\n",
    "b=int(input(\"Enter Max number : \"))\n",
    "print(random.randint(a,b))"
   ]
  },
  {
   "cell_type": "code",
   "execution_count": null,
   "id": "a2dfe159",
   "metadata": {},
   "outputs": [],
   "source": []
  }
 ],
 "metadata": {
  "kernelspec": {
   "display_name": "Python 3",
   "language": "python",
   "name": "python3"
  },
  "language_info": {
   "codemirror_mode": {
    "name": "ipython",
    "version": 3
   },
   "file_extension": ".py",
   "mimetype": "text/x-python",
   "name": "python",
   "nbconvert_exporter": "python",
   "pygments_lexer": "ipython3",
   "version": "3.9.6"
  }
 },
 "nbformat": 4,
 "nbformat_minor": 5
}
