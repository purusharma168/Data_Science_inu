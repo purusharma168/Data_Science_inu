{
 "cells": [
  {
   "cell_type": "raw",
   "id": "4fec3300",
   "metadata": {},
   "source": [
    "Write a Python program to convert kilometers to miles?\n",
    "Write a Python program to convert Celsius to Fahrenheit?\n",
    "Write a Python program to display calendar?\n",
    "Write a Python program to solve quadratic equation?\n",
    "Write a Python program to swap two variables without temp variable?\n",
    "\n"
   ]
  },
  {
   "cell_type": "code",
   "execution_count": 3,
   "id": "117a395b",
   "metadata": {},
   "outputs": [
    {
     "name": "stdout",
     "output_type": "stream",
     "text": [
      "Enter Kilometer: 6\n",
      "Meters =  3.7199999999999998\n"
     ]
    }
   ],
   "source": [
    "# Q1\n",
    "kilometer = int(input(\"Enter Kilometer: \"))\n",
    "meters = kilometer*0.62\n",
    "print(\"Meters = \" , meters)"
   ]
  },
  {
   "cell_type": "code",
   "execution_count": 2,
   "id": "d90c8c82",
   "metadata": {},
   "outputs": [
    {
     "name": "stdout",
     "output_type": "stream",
     "text": [
      "Enter celcius: 34\n",
      "93.2\n"
     ]
    }
   ],
   "source": [
    "# Q2\n",
    "celcius = int(input(\"Enter celcius: \"))\n",
    "fahrenheit = (celcius * (9/5)) + 32 \n",
    "print(fahrenheit)\n"
   ]
  },
  {
   "cell_type": "code",
   "execution_count": 4,
   "id": "2600fde2",
   "metadata": {},
   "outputs": [
    {
     "name": "stdout",
     "output_type": "stream",
     "text": [
      "Enter year = 2019\n",
      "Enter month in number = 3\n",
      "     March 2019\n",
      "Mo Tu We Th Fr Sa Su\n",
      "             1  2  3\n",
      " 4  5  6  7  8  9 10\n",
      "11 12 13 14 15 16 17\n",
      "18 19 20 21 22 23 24\n",
      "25 26 27 28 29 30 31\n",
      "\n"
     ]
    }
   ],
   "source": [
    "# Q3\n",
    "import calendar\n",
    "yy = int(input(\"Enter year = \"))\n",
    "mm = int(input(\"Enter month in number = \"))\n",
    "print(calendar.month(yy,mm))  \n"
   ]
  },
  {
   "cell_type": "code",
   "execution_count": 5,
   "id": "55e8778d",
   "metadata": {},
   "outputs": [
    {
     "name": "stdout",
     "output_type": "stream",
     "text": [
      "Enter a = 2\n",
      "Enter b = 3\n",
      "Enter c = 4\n",
      "(-0.75+1.1989578808281798j) , (-0.75-1.1989578808281798j)\n"
     ]
    }
   ],
   "source": [
    "#Q4\n",
    "# Formula:\n",
    "# x=-b+-sqrt(b**2-4ac)/2*a\n",
    "import cmath\n",
    "a=int(input(\"Enter a = \"))\n",
    "b=int(input(\"Enter b = \"))\n",
    "c=int(input(\"Enter c = \"))\n",
    "discriminant = (b**2)-(4*a*c)\n",
    "sol1 = (-b+cmath.sqrt(discriminant))/(2*a)\n",
    "sol2 = (-b-cmath.sqrt(discriminant))/(2*a)\n",
    "print(sol1 ,\",\", sol2)"
   ]
  },
  {
   "cell_type": "code",
   "execution_count": 6,
   "id": "2f9ae040",
   "metadata": {},
   "outputs": [
    {
     "name": "stdout",
     "output_type": "stream",
     "text": [
      "Enter 1st number : 234\n",
      "Enter 2nd number : 454\n",
      "Before Swap :\n",
      "first_var: 234\n",
      "second_var: 454 \n",
      "After Swap :\n",
      "first_var: 454\n",
      "second_var: 234 \n"
     ]
    }
   ],
   "source": [
    "# Q5\n",
    "first_var = int(input(\"Enter 1st number : \"))\n",
    "second_var = int(input(\"Enter 2nd number : \"))\n",
    "print(\"Before Swap :\\nfirst_var: {}\\nsecond_var: {} \".format(first_var , second_var))\n",
    "first_var,second_var=second_var,first_var\n",
    "print(\"After Swap :\\nfirst_var: {}\\nsecond_var: {} \".format(first_var , second_var))"
   ]
  },
  {
   "cell_type": "code",
   "execution_count": null,
   "id": "3e51fc95",
   "metadata": {},
   "outputs": [],
   "source": []
  }
 ],
 "metadata": {
  "kernelspec": {
   "display_name": "Python 3",
   "language": "python",
   "name": "python3"
  },
  "language_info": {
   "codemirror_mode": {
    "name": "ipython",
    "version": 3
   },
   "file_extension": ".py",
   "mimetype": "text/x-python",
   "name": "python",
   "nbconvert_exporter": "python",
   "pygments_lexer": "ipython3",
   "version": "3.9.6"
  }
 },
 "nbformat": 4,
 "nbformat_minor": 5
}
