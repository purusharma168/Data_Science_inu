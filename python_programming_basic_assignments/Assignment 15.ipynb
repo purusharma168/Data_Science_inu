{
 "cells": [
  {
   "cell_type": "code",
   "execution_count": 1,
   "id": "a370c19d",
   "metadata": {},
   "outputs": [
    {
     "name": "stdout",
     "output_type": "stream",
     "text": [
      "45\n",
      "0,35\n"
     ]
    }
   ],
   "source": [
    "#1.\n",
    "def devision_seven_five(x):\n",
    "    for x in range(0,x+1):\n",
    "        if x%35==0:\n",
    "            yield x\n",
    "\n",
    "input_number=int(input())\n",
    "values = []\n",
    "resp = [str(i) for i in devision_seven_five(input_number)]\n",
    "print(\",\".join(resp))\n"
   ]
  },
  {
   "cell_type": "code",
   "execution_count": 5,
   "id": "6988cea0",
   "metadata": {},
   "outputs": [
    {
     "name": "stdout",
     "output_type": "stream",
     "text": [
      "45\n",
      "4500\n"
     ]
    }
   ],
   "source": [
    "#2.\n",
    "def f(n):\n",
    "    if n == 0:\n",
    "        return 0\n",
    "    return f(n-1) + 100\n",
    "\n",
    "n = int(input())\n",
    "print(f(n))\n"
   ]
  },
  {
   "cell_type": "code",
   "execution_count": 9,
   "id": "52eb8b43",
   "metadata": {},
   "outputs": [
    {
     "name": "stdout",
     "output_type": "stream",
     "text": [
      "5\n",
      "5\n"
     ]
    }
   ],
   "source": [
    "#3.\n",
    "def f(n):\n",
    "    if n < 2:\n",
    "        return n\n",
    "    return f(n-1) + f(n-2)\n",
    "\n",
    "n = int(input())\n",
    "print(f(n))\n",
    "\n"
   ]
  },
  {
   "cell_type": "code",
   "execution_count": 7,
   "id": "ba89ba3b",
   "metadata": {},
   "outputs": [
    {
     "name": "stdout",
     "output_type": "stream",
     "text": [
      "['google', 'python']\n"
     ]
    }
   ],
   "source": [
    "#4.\n",
    "import re\n",
    "\n",
    "email = \"john@google.com elise@python.com\"\n",
    "pattern = \"\\w+@(\\w+).com\"\n",
    "ans = re.findall(pattern,email)\n",
    "print(ans)\n"
   ]
  },
  {
   "cell_type": "code",
   "execution_count": 8,
   "id": "cb2f77f2",
   "metadata": {},
   "outputs": [
    {
     "name": "stdout",
     "output_type": "stream",
     "text": [
      "25\n",
      "0\n"
     ]
    }
   ],
   "source": [
    "#5.\n",
    "class Shape():\n",
    "    def __init__(self):\n",
    "        pass\n",
    "\n",
    "    def area(self):\n",
    "        return 0\n",
    "\n",
    "class Square(Shape):\n",
    "    def __init__(self,length = 0):\n",
    "        Shape.__init__(self)\n",
    "        self.length = length\n",
    "\n",
    "    def area(self):\n",
    "        return self.length*self.length\n",
    "\n",
    "Asqr = Square(5)\n",
    "print(Asqr.area())     \n",
    "\n",
    "print(Square().area())  \n",
    "\n",
    "\n"
   ]
  },
  {
   "cell_type": "code",
   "execution_count": null,
   "id": "9a5c3429",
   "metadata": {},
   "outputs": [],
   "source": []
  }
 ],
 "metadata": {
  "kernelspec": {
   "display_name": "Python 3",
   "language": "python",
   "name": "python3"
  },
  "language_info": {
   "codemirror_mode": {
    "name": "ipython",
    "version": 3
   },
   "file_extension": ".py",
   "mimetype": "text/x-python",
   "name": "python",
   "nbconvert_exporter": "python",
   "pygments_lexer": "ipython3",
   "version": "3.8.5"
  }
 },
 "nbformat": 4,
 "nbformat_minor": 5
}
