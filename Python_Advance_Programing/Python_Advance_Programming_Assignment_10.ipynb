{
 "cells": [
  {
   "cell_type": "markdown",
   "id": "4e45bf54",
   "metadata": {},
   "source": [
    "#### 1. Create a function that takes the width, height and character and returns a picture frame as a 2D list.\n",
    "\n",
    "Examples\n",
    "\n",
    "get_frame(4, 5, \"#\") ➞\n",
    "\n",
    "[\n",
    "  [\"####\"],\n",
    "  \n",
    "  [\"#  #\"],\n",
    "  \n",
    "  [\"#  #\"],\n",
    "  \n",
    "  [\"#  #\"],\n",
    "  \n",
    "  [\"####\"]\n",
    "]\n",
    "##### Frame is 4 characters wide and 5 characters tall.\n",
    "\n",
    "\n",
    "get_frame(10, 3, \"*\") ➞ \n",
    "\n",
    "\n",
    "[\n",
    "  [\"**********\"],\n",
    "  \n",
    "  [\"*        *\"],\n",
    "  \n",
    "  [\"**********\"]\n",
    "]\n",
    "\n",
    "##### Frame is 10 characters and wide and 3 characters tall.\n",
    "\n",
    "\n",
    "get_frame(2, 5, \"0\") ➞ \"invalid\"\n",
    "##### Frame's width is not more than 2.\n"
   ]
  },
  {
   "cell_type": "code",
   "execution_count": 1,
   "id": "2069bf6c",
   "metadata": {},
   "outputs": [],
   "source": [
    "def get_frame(width, height, character):\n",
    "    \"\"\"\n",
    "    function that takes the width, height and character and returns a picture frame as a 2D list.\n",
    "    \"\"\"\n",
    "    try:\n",
    "        if width > 2 :\n",
    "            res = []\n",
    "            for i in range(height):\n",
    "                if i > 0 and i < height - 1:\n",
    "                    res.append([character + ' '*(width-2) + character])\n",
    "                else:\n",
    "                    res.append([character*width])\n",
    "            for j in res:\n",
    "                print (j, end = '\\n')\n",
    "        else:\n",
    "            print(\"invalid\")\n",
    "            \n",
    "    except Exception as e:\n",
    "        print(\"error occurred\",e)\n"
   ]
  },
  {
   "cell_type": "code",
   "execution_count": 2,
   "id": "f0f5969a",
   "metadata": {},
   "outputs": [
    {
     "name": "stdout",
     "output_type": "stream",
     "text": [
      "['****']\n",
      "['*  *']\n",
      "['*  *']\n",
      "['*  *']\n",
      "['****']\n"
     ]
    }
   ],
   "source": [
    "get_frame(4, 5, \"*\")"
   ]
  },
  {
   "cell_type": "markdown",
   "id": "78b7fbef",
   "metadata": {},
   "source": [
    "#### 2. Write three functions:\n",
    "\n",
    "  1. boolean_and\n",
    "  2. boolean_or\n",
    "  3. boolean_xor\n",
    "These functions should evaluate a list of True and False values, starting from the leftmost element and evaluating pairwise.\n",
    "\n",
    "Examples\n",
    "\n",
    "boolean_and([True, True, False, True]) ➞ False\n",
    "##### [True, True, False, True] => [True, False, True] => [False, True] => False\n",
    "\n",
    "boolean_or([True, True, False, False]) ➞ True\n",
    "##### [True, True, False, True] => [True, False, False] => [True, False] => True\n",
    "\n",
    "boolean_xor([True, True, False, False]) ➞ False\n",
    "##### [True, True, False, False] => [False, False, False] => [False, False] => False\n"
   ]
  },
  {
   "cell_type": "code",
   "execution_count": 3,
   "id": "e41d1fff",
   "metadata": {},
   "outputs": [],
   "source": [
    "def boolean_and(bool_list):\n",
    "    \"\"\"\n",
    "    evaluate a list of True and False values, starting from the leftmost element and evaluating pairwise.\n",
    "    \"\"\"\n",
    "    try:\n",
    "        res = bool_list[0]\n",
    "        for i in bool_list[1:]:\n",
    "            res = res & i\n",
    "        print(res)\n",
    "        \n",
    "    except Exception as e:\n",
    "        print(\"error occurred\",e)\n",
    "        \n",
    "def boolean_or(bool_list):\n",
    "    \"\"\"\n",
    "    evaluate a list of True and False values, starting from the leftmost element and evaluating pairwise.\n",
    "    \"\"\"\n",
    "    try:\n",
    "        res = bool_list[0]\n",
    "        for i in bool_list[1:]:\n",
    "            res = res | i\n",
    "        print(res)\n",
    "        \n",
    "    except Exception as e:\n",
    "        print(\"error occurred\",e)\n",
    "        \n",
    "def boolean_xor(bool_list):\n",
    "    \"\"\"\n",
    "    evaluate a list of True and False values, starting from the leftmost element and evaluating pairwise.\n",
    "    \"\"\"\n",
    "    try:\n",
    "        res = bool_list[0]\n",
    "        for i in bool_list[1:]:\n",
    "            res = res ^ i \n",
    "        print (res)\n",
    "            \n",
    "    except Exception as e:\n",
    "        print(\"error occurred\",e)        "
   ]
  },
  {
   "cell_type": "code",
   "execution_count": 4,
   "id": "5cf97944",
   "metadata": {},
   "outputs": [
    {
     "name": "stdout",
     "output_type": "stream",
     "text": [
      "False\n"
     ]
    }
   ],
   "source": [
    "boolean_and([True, True, False, True])"
   ]
  },
  {
   "cell_type": "code",
   "execution_count": 5,
   "id": "53b5c736",
   "metadata": {},
   "outputs": [
    {
     "name": "stdout",
     "output_type": "stream",
     "text": [
      "True\n"
     ]
    }
   ],
   "source": [
    "boolean_or([True, True, False, False]) "
   ]
  },
  {
   "cell_type": "code",
   "execution_count": 6,
   "id": "11fe1f6c",
   "metadata": {},
   "outputs": [
    {
     "name": "stdout",
     "output_type": "stream",
     "text": [
      "False\n"
     ]
    }
   ],
   "source": [
    "boolean_xor([True, True,False, False])"
   ]
  },
  {
   "cell_type": "markdown",
   "id": "03d7ab83",
   "metadata": {},
   "source": [
    "#### 3. Create a function that creates a box based on dimension n.\n",
    "\n",
    "Examples\n",
    "\n",
    "make_box(5) ➞ \n",
    "[\n",
    "  \"#####\",\n",
    "  \"#   #\",\n",
    "  \"#   #\",\n",
    "  \"#   #\",\n",
    "  \"#####\"\n",
    "]\n",
    "\n",
    "make_box(3) ➞ [\n",
    "  \"###\",\n",
    "  \"# #\",\n",
    "  \"###\"\n",
    "]\n",
    "\n",
    "make_box(2) ➞ [\n",
    "  \"##\",\n",
    "  \"##\"\n",
    "]\n",
    "\n",
    "make_box(1) ➞ [\n",
    "  \"#\"\n",
    "]\n"
   ]
  },
  {
   "cell_type": "code",
   "execution_count": 7,
   "id": "be1c040a",
   "metadata": {},
   "outputs": [],
   "source": [
    "def make_box(n):\n",
    "    \"\"\"\n",
    "     function that creates a box based on dimension n.\n",
    "    \"\"\"\n",
    "    try:\n",
    "        if n > 2 :\n",
    "            res = []\n",
    "            for i in range(n):\n",
    "                if i > 0 and i < n - 1:\n",
    "                    res.append([\"#\" + ' '*(n-2) + \"#\"])\n",
    "                else:\n",
    "                    res.append([\"#\"*n])\n",
    "            for j in res:\n",
    "                print (j, end = '\\n')\n",
    "        else:\n",
    "            print(\"invalid\")\n",
    "            \n",
    "    except Exception as e:\n",
    "        print(\"error occurred\",e)\n"
   ]
  },
  {
   "cell_type": "code",
   "execution_count": 8,
   "id": "d8398574",
   "metadata": {},
   "outputs": [
    {
     "name": "stdout",
     "output_type": "stream",
     "text": [
      "['#####']\n",
      "['#   #']\n",
      "['#   #']\n",
      "['#   #']\n",
      "['#####']\n"
     ]
    }
   ],
   "source": [
    "make_box(5)"
   ]
  },
  {
   "cell_type": "markdown",
   "id": "1bfc02f2",
   "metadata": {},
   "source": [
    "#### 4. Given a common phrase, return False if any individual word in the phrase contains duplicate letters. Return True otherwise.\n",
    "\n",
    "Examples\n",
    "\n",
    "no_duplicate_letters(\"Fortune favours the bold.\") ➞ True\n",
    "\n",
    "no_duplicate_letters(\"You can lead a horse to water, but you can't make him drink.\") ➞ True\n",
    "\n",
    "no_duplicate_letters(\"Look before you leap.\") ➞ False\n",
    "\n",
    "##### Duplicate letters in \"Look\" and \"before\".\n",
    "\n",
    "no_duplicate_letters(\"An apple a day keeps the doctor away.\") ➞ False\n",
    "\n",
    "##### Duplicate letters in \"apple\", \"keeps\", \"doctor\", and \"away\".\n"
   ]
  },
  {
   "cell_type": "code",
   "execution_count": 9,
   "id": "82af28f3",
   "metadata": {},
   "outputs": [],
   "source": [
    "sen = \"An apple a day keeps the doctor away.\"\n",
    "\n",
    "def no_duplicate_letters(string):\n",
    "    try:\n",
    "        string_list = string.split()\n",
    "\n",
    "        for word in string_list:\n",
    "            if len(word) != len(set(word)):\n",
    "                return False            \n",
    "                break\n",
    "        else:\n",
    "            return True\n",
    "        \n",
    "    except Exception as e:\n",
    "        print(\"error occurred\",e)\n",
    "        "
   ]
  },
  {
   "cell_type": "code",
   "execution_count": 10,
   "id": "bf5658d9",
   "metadata": {},
   "outputs": [
    {
     "data": {
      "text/plain": [
       "True"
      ]
     },
     "execution_count": 10,
     "metadata": {},
     "output_type": "execute_result"
    }
   ],
   "source": [
    "no_duplicate_letters(\"Fortune favours the bold.\") "
   ]
  },
  {
   "cell_type": "code",
   "execution_count": 11,
   "id": "0796b908",
   "metadata": {},
   "outputs": [
    {
     "data": {
      "text/plain": [
       "True"
      ]
     },
     "execution_count": 11,
     "metadata": {},
     "output_type": "execute_result"
    }
   ],
   "source": [
    "no_duplicate_letters(\"You can lead a horse to water, but you can't make him drink.\") "
   ]
  },
  {
   "cell_type": "code",
   "execution_count": 12,
   "id": "0b25231a",
   "metadata": {},
   "outputs": [
    {
     "data": {
      "text/plain": [
       "False"
      ]
     },
     "execution_count": 12,
     "metadata": {},
     "output_type": "execute_result"
    }
   ],
   "source": [
    "no_duplicate_letters(\"An apple a day keeps the doctor away.\")"
   ]
  },
  {
   "cell_type": "markdown",
   "id": "a1c1673e",
   "metadata": {},
   "source": [
    "#### 5. Write a regular expression that will match the states that voted yes to President Trump's impeachment. You must use RegEx positive lookahead.\n",
    "\n",
    "Example\n",
    "\n",
    "txt = \"Texas = no, California = yes, Florida = yes, Michigan = no\"\n",
    "pattern = \"yourregularexpressionhere\"\n",
    "\n",
    "re.findall(pattern, txt) ➞ [\"California\", \"Florida\"]\n"
   ]
  },
  {
   "cell_type": "code",
   "execution_count": 13,
   "id": "b1fd5a88",
   "metadata": {},
   "outputs": [
    {
     "data": {
      "text/plain": [
       "['California', 'Florida']"
      ]
     },
     "execution_count": 13,
     "metadata": {},
     "output_type": "execute_result"
    }
   ],
   "source": [
    "import re\n",
    "txt= \"Texas = no, California = yes, Florida = yes, Michigan = no\"\n",
    "\n",
    "pattern = \"\\w+(?= = yes)\"\n",
    "\n",
    "re.findall(pattern, txt)"
   ]
  }
 ],
 "metadata": {
  "kernelspec": {
   "display_name": "Python 3 (ipykernel)",
   "language": "python",
   "name": "python3"
  },
  "language_info": {
   "codemirror_mode": {
    "name": "ipython",
    "version": 3
   },
   "file_extension": ".py",
   "mimetype": "text/x-python",
   "name": "python",
   "nbconvert_exporter": "python",
   "pygments_lexer": "ipython3",
   "version": "3.8.11"
  }
 },
 "nbformat": 4,
 "nbformat_minor": 5
}
