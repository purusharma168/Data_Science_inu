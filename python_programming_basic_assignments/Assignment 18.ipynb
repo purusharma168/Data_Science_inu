{
 "cells": [
  {
   "cell_type": "code",
   "execution_count": 1,
   "id": "601e436b",
   "metadata": {},
   "outputs": [
    {
     "name": "stdout",
     "output_type": "stream",
     "text": [
      "[1, 2]\n"
     ]
    }
   ],
   "source": [
    "#1.\n",
    "l = [1,2,'a','b']\n",
    "\n",
    "def filter_list(l):\n",
    "    new_list = []\n",
    "    for x in l:\n",
    "        if type(x) == int:\n",
    "            new_list.append(x)\n",
    "    return new_list\n",
    "\n",
    "print(filter_list(l))"
   ]
  },
  {
   "cell_type": "code",
   "execution_count": 2,
   "id": "af1cf4a3",
   "metadata": {},
   "outputs": [
    {
     "name": "stdout",
     "output_type": "stream",
     "text": [
      "STUDENT INEURON AM I\n"
     ]
    }
   ],
   "source": [
    "#2.\n",
    "\n",
    "def wordReverse(str):\n",
    "\ti = len(str)-1\n",
    "\tstart = end = i+1\n",
    "\tresult = ''\n",
    "\n",
    "\twhile i>=0:\n",
    "\t\tif str[i] == ' ':\n",
    "\t\t\tstart = i+1\n",
    "\t\t\twhile start!= end:\n",
    "\t\t\t\tresult += str[start]\n",
    "\t\t\t\tstart+=1\n",
    "\t\t\tresult+=' '\n",
    "\t\t\tend = i\n",
    "\t\ti-=1\n",
    "\tstart = 0\n",
    "\twhile start!=end:\n",
    "\t\tresult+=str[start]\n",
    "\t\tstart+=1\n",
    "\treturn result\n",
    "\n",
    "\n",
    "str = 'I AM INEURON STUDENT'\n",
    "print(wordReverse(str))\n"
   ]
  },
  {
   "cell_type": "code",
   "execution_count": 3,
   "id": "790c1427",
   "metadata": {},
   "outputs": [],
   "source": [
    "#3.\n"
   ]
  },
  {
   "cell_type": "code",
   "execution_count": 4,
   "id": "c9ab0f6d",
   "metadata": {},
   "outputs": [
    {
     "name": "stdout",
     "output_type": "stream",
     "text": [
      "Factorial of 5 is 120\n"
     ]
    }
   ],
   "source": [
    "#4.\n",
    "def factorial(n):\n",
    "\t\n",
    "\tif n == 0:\n",
    "\t\treturn 1\n",
    "\t\n",
    "\treturn n * factorial(n-1)\n",
    "\n",
    "num = 5;\n",
    "print(\"Factorial of\", num, \"is\",\n",
    "factorial(num))\n",
    "\n"
   ]
  },
  {
   "cell_type": "code",
   "execution_count": 10,
   "id": "7b033b52",
   "metadata": {},
   "outputs": [
    {
     "name": "stdout",
     "output_type": "stream",
     "text": [
      "Array after pushing all zeros to end of array:\n",
      "[1, 9, 8, 4, 2, 7, 6, 9, 0, 0, 0, 0]\n"
     ]
    }
   ],
   "source": [
    "#5.\n",
    "\n",
    "def pushZerosToEnd(arr, n):\n",
    "\tcount = 0 \n",
    "\tfor i in range(n):\n",
    "\t\tif arr[i] != 0:\n",
    "\t\t\tarr[count] = arr[i]\n",
    "\t\t\tcount+=1\n",
    "\t\n",
    "\twhile count < n:\n",
    "\t\tarr[count] = 0\n",
    "\t\tcount += 1\n",
    "\t\n",
    "arr = [1, 9, 8, 4, 0, 0, 2, 7, 0, 6, 0, 9]\n",
    "n = len(arr)\n",
    "pushZerosToEnd(arr, n)\n",
    "print(\"Array after pushing all zeros to end of array:\")\n",
    "print(arr)\n",
    "\n",
    "\n"
   ]
  },
  {
   "cell_type": "code",
   "execution_count": null,
   "id": "5915bde7",
   "metadata": {},
   "outputs": [],
   "source": []
  }
 ],
 "metadata": {
  "kernelspec": {
   "display_name": "Python 3",
   "language": "python",
   "name": "python3"
  },
  "language_info": {
   "codemirror_mode": {
    "name": "ipython",
    "version": 3
   },
   "file_extension": ".py",
   "mimetype": "text/x-python",
   "name": "python",
   "nbconvert_exporter": "python",
   "pygments_lexer": "ipython3",
   "version": "3.9.6"
  }
 },
 "nbformat": 4,
 "nbformat_minor": 5
}
