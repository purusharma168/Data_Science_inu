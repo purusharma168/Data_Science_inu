{
 "cells": [
  {
   "cell_type": "code",
   "execution_count": 6,
   "id": "3845ed84",
   "metadata": {},
   "outputs": [
    {
     "name": "stdout",
     "output_type": "stream",
     "text": [
      "50\n"
     ]
    }
   ],
   "source": [
    "#1.\n",
    "def sumDivisibles(A, B, M):\n",
    "\n",
    "\n",
    "\tsum = 0\n",
    "\n",
    "\tfor i in range(A, B + 1):\n",
    "\t\tif (i % M == 0):\n",
    "\t\t\tsum += i\n",
    "\n",
    "\t# Return the sum\n",
    "\treturn sum\n",
    "\n",
    "if __name__==\"__main__\":\n",
    "\t\n",
    "\tA = 6\n",
    "\tB = 15\n",
    "\tM = 2\n",
    "\n",
    "\t\n",
    "\tprint(sumDivisibles(A, B, M))\n",
    "\t"
   ]
  },
  {
   "cell_type": "code",
   "execution_count": 9,
   "id": "86779726",
   "metadata": {},
   "outputs": [
    {
     "name": "stdout",
     "output_type": "stream",
     "text": [
      "Given Sting: hello INeuron\n",
      "Given Specified Character: #\n",
      "Afer replacing vowels with the specified character: h#ll# #N##r#n\n"
     ]
    }
   ],
   "source": [
    "#3.\n",
    "def replaceVowelsWithK(test_str, K):\n",
    "\n",
    "\tvowels = 'AEIOUaeiou'\n",
    "\n",
    "\n",
    "\tfor ele in vowels:\n",
    "\t\ttest_str = test_str.replace(ele, K)\n",
    "\n",
    "\treturn test_str\n",
    "\n",
    "\n",
    "\n",
    "input_str = \"hello INeuron\"\n",
    "\n",
    "K = \"#\"\n",
    "\n",
    "print(\"Given Sting:\", input_str)\n",
    "print(\"Given Specified Character:\", K)\n",
    "print(\"Afer replacing vowels with the specified character:\",\n",
    "\treplaceVowelsWithK(input_str, K))\n"
   ]
  },
  {
   "cell_type": "code",
   "execution_count": 11,
   "id": "df3ea566",
   "metadata": {},
   "outputs": [
    {
     "name": "stdout",
     "output_type": "stream",
     "text": [
      "Factorial of 5 is 120\n"
     ]
    }
   ],
   "source": [
    "#4.\n",
    "def factorial(n):\n",
    "\t\n",
    "\tif n == 0:\n",
    "\t\treturn 1\n",
    "\t\n",
    "\treturn n * factorial(n-1)\n",
    "\n",
    "# Driver Code\n",
    "num = 5;\n",
    "print(\"Factorial of\", num, \"is\",\n",
    "factorial(num))\n",
    "\n",
    "\n"
   ]
  },
  {
   "cell_type": "code",
   "execution_count": 13,
   "id": "ee6586b8",
   "metadata": {},
   "outputs": [
    {
     "name": "stdout",
     "output_type": "stream",
     "text": [
      "7\n"
     ]
    }
   ],
   "source": [
    "#5.\n",
    "\n",
    "def hammingDist(str1, str2):\n",
    "\ti = 0\n",
    "\tcount = 0\n",
    "\n",
    "\twhile(i < len(str1)):\n",
    "\t\tif(str1[i] != str2[i]):\n",
    "\t\t\tcount += 1\n",
    "\t\ti += 1\n",
    "\treturn count\n",
    "\n",
    "\n",
    "str1 = \"iNeuron\"\n",
    "str2 = \"AppliedAI\"\n",
    "\n",
    "\n",
    "print(hammingDist(str1, str2))\n",
    "\n",
    "\n"
   ]
  },
  {
   "cell_type": "code",
   "execution_count": null,
   "id": "103838a1",
   "metadata": {},
   "outputs": [],
   "source": []
  }
 ],
 "metadata": {
  "kernelspec": {
   "display_name": "Python 3",
   "language": "python",
   "name": "python3"
  },
  "language_info": {
   "codemirror_mode": {
    "name": "ipython",
    "version": 3
   },
   "file_extension": ".py",
   "mimetype": "text/x-python",
   "name": "python",
   "nbconvert_exporter": "python",
   "pygments_lexer": "ipython3",
   "version": "3.9.6"
  }
 },
 "nbformat": 4,
 "nbformat_minor": 5
}
