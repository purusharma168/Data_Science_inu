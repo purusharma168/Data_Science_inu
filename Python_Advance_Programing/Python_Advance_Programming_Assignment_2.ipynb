{
 "cells": [
  {
   "cell_type": "markdown",
   "id": "35b3952e",
   "metadata": {},
   "source": [
    "### 1. Write a function that takes a positive integer num and calculates how many dots exist in a pentagonal shape around the center dot on the Nth iteration.\n",
    "\n",
    "In the image below you can see the first iteration is only a single dot. On the second, there are 6 dots. On the third, there are 16 dots, and on the fourth there are 31 dots.\n",
    "\n",
    "\n",
    "Return the number of dots that exist in the whole pentagon on the Nth iteration.\n",
    "\n",
    "Examples\n",
    "\n",
    "pentagonal(1) ➞ 1\n",
    "\n",
    "pentagonal(2) ➞ 6\n",
    "\n",
    "pentagonal(3) ➞ 16\n",
    "\n",
    "pentagonal(8) ➞ 141\n"
   ]
  },
  {
   "cell_type": "code",
   "execution_count": 9,
   "id": "dcb44be0",
   "metadata": {},
   "outputs": [],
   "source": [
    "def pentagonal(num):\n",
    "    \"\"\"\n",
    "    function that takes a positive integer num and \n",
    "    calculates how many dots exist in a pentagonal \n",
    "    shape around the center dot on the Nth iteration.\n",
    "    \"\"\"\n",
    "    try:\n",
    "        res = (5 * num * num - 5 * num + 2) // 2\n",
    "        return res\n",
    "    except Exception as e:\n",
    "        print ('Error occured : ',e)"
   ]
  },
  {
   "cell_type": "code",
   "execution_count": 12,
   "id": "00af8844",
   "metadata": {},
   "outputs": [
    {
     "data": {
      "text/plain": [
       "141"
      ]
     },
     "execution_count": 12,
     "metadata": {},
     "output_type": "execute_result"
    }
   ],
   "source": [
    "pentagonal(8)"
   ]
  },
  {
   "cell_type": "markdown",
   "id": "568fbde1",
   "metadata": {},
   "source": [
    "### 2.  Make a function that encrypts a given input with these steps:\n",
    "\n",
    "Input: \"apple\"\n",
    "\n",
    "Step 1: Reverse the input: \"elppa\"\n",
    "\n",
    "Step 2: Replace all vowels using the following chart:\n",
    "\n",
    "a => 0\n",
    "e => 1\n",
    "i => 2\n",
    "o => 2\n",
    "u => 3\n",
    "\n",
    "-> \"1lpp0\"\n",
    "\n",
    "Step 3: Add \"aca\" to the end of the word: \"1lpp0aca\"\n",
    "\n",
    "Output: \"1lpp0aca\"\n",
    "\n",
    "Examples\n",
    "\n",
    "encrypt(\"banana\") ➞ \"0n0n0baca\"\n",
    "\n",
    "encrypt(\"karaca\") ➞ \"0c0r0kaca\"\n",
    "\n",
    "encrypt(\"burak\") ➞ \"k0r3baca\"\n",
    "\n",
    "encrypt(\"alpaca\") ➞ \"0c0pl0aca\"\n"
   ]
  },
  {
   "cell_type": "code",
   "execution_count": 22,
   "id": "6e2499c4",
   "metadata": {},
   "outputs": [],
   "source": [
    "def encrypt(string):\n",
    "    \"\"\"\n",
    "    function that encrypts a given input\n",
    "    \"\"\"\n",
    "    try:\n",
    "        chart = {\"a\":\"0\",\"e\":\"1\",\"i\":\"2\",\"o\":\"2\",\"u\":\"3\"}\n",
    "        string = string[::-1]\n",
    "        string = list(map(lambda x: chart[x] if (x in chart.keys()) else x, string))\n",
    "        return ''.join(string)+'aca'\n",
    "    except Exception as e:\n",
    "        print ('Error occured : ',e)"
   ]
  },
  {
   "cell_type": "code",
   "execution_count": 24,
   "id": "3377f749",
   "metadata": {},
   "outputs": [
    {
     "data": {
      "text/plain": [
       "'0c0pl0aca'"
      ]
     },
     "execution_count": 24,
     "metadata": {},
     "output_type": "execute_result"
    }
   ],
   "source": [
    "encrypt(\"alpaca\")"
   ]
  },
  {
   "cell_type": "markdown",
   "id": "b7340e00",
   "metadata": {},
   "source": [
    "### 3. Given the month and year as numbers, return whether that month contains a Friday 13th.(i.e You can check Python's datetime module)\n",
    "\n",
    "Examples\n",
    "\n",
    "has_friday_13(3, 2020) ➞ True\n",
    "\n",
    "has_friday_13(10, 2017) ➞ True\n",
    "\n",
    "has_friday_13(1, 1985) ➞ False\n"
   ]
  },
  {
   "cell_type": "code",
   "execution_count": 29,
   "id": "ea872879",
   "metadata": {},
   "outputs": [],
   "source": [
    "from datetime import datetime \n",
    "def has_friday_13(month,year):\n",
    "    \"\"\"\n",
    "    Given the month and year as numbers, \n",
    "    return whether that month contains a Friday 13th\n",
    "    \"\"\"\n",
    "    try:\n",
    "        return  (datetime.strptime('13 '+' '+str(month)+' '+str(year), '%d %m %Y').weekday()==4)\n",
    "    except Exception as e:\n",
    "        print ('Error occured : ',e)"
   ]
  },
  {
   "cell_type": "code",
   "execution_count": 32,
   "id": "682a86a8",
   "metadata": {},
   "outputs": [
    {
     "data": {
      "text/plain": [
       "False"
      ]
     },
     "execution_count": 32,
     "metadata": {},
     "output_type": "execute_result"
    }
   ],
   "source": [
    "has_friday_13(1, 1985)"
   ]
  },
  {
   "cell_type": "markdown",
   "id": "dc5534af",
   "metadata": {},
   "source": [
    "### 4. Write a regular expression that will help us count how many bad cookies are produced every day. You must use RegEx negative lookbehind.\n",
    "\n",
    "Example\n",
    "\n",
    "lst = [\"bad cookie\", \"good cookie\", \"bad cookie\", \"good cookie\", \"good cookie\"]\n",
    "\n",
    "pattern = \"yourregularexpressionhere\"\n",
    "\n",
    "len(re.findall(pattern, \", \".join(lst))) ➞ 2\n"
   ]
  },
  {
   "cell_type": "code",
   "execution_count": 65,
   "id": "964ef6c9",
   "metadata": {},
   "outputs": [
    {
     "data": {
      "text/plain": [
       "2"
      ]
     },
     "execution_count": 65,
     "metadata": {},
     "output_type": "execute_result"
    }
   ],
   "source": [
    "import re\n",
    "lst = [\"bad cookie\", \"good cookie\", \"bad cookie\", \"good cookie\", \"good cookie\"]\n",
    "\n",
    "pattern = \"(?<!good\\s)cookie\"\n",
    "\n",
    "len(re.findall(pattern, \", \".join(lst)))\n"
   ]
  },
  {
   "cell_type": "markdown",
   "id": "b17a2830",
   "metadata": {},
   "source": [
    "### 5. Given a list of words in the singular form, return a set of those words in the plural form if they appear more than once in the list.\n",
    "\n",
    "Examples\n",
    "\n",
    "pluralize([\"cow\", \"pig\", \"cow\", \"cow\"]) ➞ { \"cows\", \"pig\" }\n",
    "\n",
    "pluralize([\"table\", \"table\", \"table\"]) ➞ { \"tables\" }\n",
    "\n",
    "pluralize([\"chair\", \"pencil\", \"arm\"]) ➞ { \"chair\", \"pencil\", \"arm\" }\n"
   ]
  },
  {
   "cell_type": "code",
   "execution_count": 71,
   "id": "642b377d",
   "metadata": {},
   "outputs": [],
   "source": [
    "def pluralize(lst):\n",
    "    \"\"\"\n",
    "    Given a list of words in the singular form,\n",
    "    return a set of those words in the plural form\n",
    "    if they appear more than once in the list.\n",
    "    \"\"\"\n",
    "    try:\n",
    "        res = []\n",
    "        variable = set(lst)\n",
    "        for i in variable:\n",
    "            if lst.count(i) > 1:\n",
    "                res.append(i+'s')\n",
    "            else:\n",
    "                res.append(i)\n",
    "        return res\n",
    "    except Exception as e:\n",
    "        print ('Error occured : ',e)"
   ]
  },
  {
   "cell_type": "code",
   "execution_count": 74,
   "id": "daeff384",
   "metadata": {},
   "outputs": [
    {
     "data": {
      "text/plain": [
       "['chair', 'pencil', 'arm']"
      ]
     },
     "execution_count": 74,
     "metadata": {},
     "output_type": "execute_result"
    }
   ],
   "source": [
    "pluralize([\"chair\", \"pencil\", \"arm\"])"
   ]
  }
 ],
 "metadata": {
  "kernelspec": {
   "display_name": "Python 3",
   "language": "python",
   "name": "python3"
  },
  "language_info": {
   "codemirror_mode": {
    "name": "ipython",
    "version": 3
   },
   "file_extension": ".py",
   "mimetype": "text/x-python",
   "name": "python",
   "nbconvert_exporter": "python",
   "pygments_lexer": "ipython3",
   "version": "3.7.10"
  }
 },
 "nbformat": 4,
 "nbformat_minor": 5
}
