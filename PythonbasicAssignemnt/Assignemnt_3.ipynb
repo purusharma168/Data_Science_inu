{
 "cells": [
  {
   "cell_type": "markdown",
   "id": "430243d5",
   "metadata": {},
   "source": [
    "\n",
    "\n",
    "# 1. Why are functions advantageous to have in your programs?"
   ]
  },
  {
   "cell_type": "raw",
   "id": "856ab994",
   "metadata": {},
   "source": [
    "Advantages of having functions:\n",
    "\n",
    "1) Reduce the reusability of code\n",
    "2) Modular programming\n",
    "3) Increases redability of the program\n",
    "4) Tracking of code become easier"
   ]
  },
  {
   "cell_type": "markdown",
   "id": "0af50ae9",
   "metadata": {},
   "source": [
    "#   2. When does the code in a function run: when it&#39;s specified or when it&#39;s called?"
   ]
  },
  {
   "cell_type": "markdown",
   "id": "4fd0810c",
   "metadata": {},
   "source": [
    "Code in the function runs when it is called"
   ]
  },
  {
   "cell_type": "markdown",
   "id": "6d7317e7",
   "metadata": {},
   "source": [
    "# 3. What statement creates a function?\n"
   ]
  },
  {
   "cell_type": "raw",
   "id": "7b0586fa",
   "metadata": {},
   "source": [
    "When we have to create the function we have to write def before the function name.which is the keyword.\n",
    "Example:\n"
   ]
  },
  {
   "cell_type": "code",
   "execution_count": 49,
   "id": "87182512",
   "metadata": {},
   "outputs": [],
   "source": [
    "def fun_game(gta,ycity):\n",
    "    return gta,ycity\n",
    "    "
   ]
  },
  {
   "cell_type": "code",
   "execution_count": 50,
   "id": "87ccb7b6",
   "metadata": {},
   "outputs": [
    {
     "data": {
      "text/plain": [
       "('2gbsize', '1.5gbsize')"
      ]
     },
     "execution_count": 50,
     "metadata": {},
     "output_type": "execute_result"
    }
   ],
   "source": [
    "fun_game(\"2gbsize\",\"1.5gbsize\")"
   ]
  },
  {
   "cell_type": "markdown",
   "id": "d3e58378",
   "metadata": {},
   "source": [
    "# 4. What is the difference between a function and a function call?\n"
   ]
  },
  {
   "cell_type": "code",
   "execution_count": 51,
   "id": "91620a0f",
   "metadata": {},
   "outputs": [],
   "source": [
    "# This is Function which i have craeted\n",
    "def function_name():\n",
    "        pass\n",
    "\n",
    "function_name() #function call"
   ]
  },
  {
   "cell_type": "markdown",
   "id": "540fd906",
   "metadata": {},
   "source": [
    "# 5. How many global scopes are there in a Python program? How many local scopes?"
   ]
  },
  {
   "cell_type": "raw",
   "id": "79e8fadf",
   "metadata": {},
   "source": [
    "There is only 1 GLOBAL scope in the python program and it remains till the program is not terminated, on the other hand there are 3 local scope inside the function local,global,built_in."
   ]
  },
  {
   "cell_type": "markdown",
   "id": "2f152adf",
   "metadata": {},
   "source": [
    "#  6. What happens to variables in a local scope when the function call returns?"
   ]
  },
  {
   "cell_type": "raw",
   "id": "a8b2b3d8",
   "metadata": {},
   "source": [
    "Variable in the local scope are destroyed as soon as work of funtion is completed."
   ]
  },
  {
   "cell_type": "markdown",
   "id": "b3c420eb",
   "metadata": {},
   "source": [
    "# 7. What is the concept of a return value? Is it possible to have a return value in an expression?\n"
   ]
  },
  {
   "cell_type": "raw",
   "id": "5f18084b",
   "metadata": {},
   "source": [
    "In function we can return value as per the need of the program, Yes its possible to hav ereturn value in an expression."
   ]
  },
  {
   "cell_type": "markdown",
   "id": "04a29c4c",
   "metadata": {},
   "source": [
    "# 8. If a function does not have a return statement, what is the return value of a call to that function?\n"
   ]
  },
  {
   "cell_type": "raw",
   "id": "798301db",
   "metadata": {},
   "source": [
    "If the funtion does not have a return statement it will not return anything."
   ]
  },
  {
   "cell_type": "markdown",
   "id": "cf29fbee",
   "metadata": {},
   "source": [
    "# 9. How do you make a function variable refer to the global variable?\n"
   ]
  },
  {
   "cell_type": "code",
   "execution_count": 53,
   "id": "05c8f258",
   "metadata": {},
   "outputs": [
    {
     "name": "stdout",
     "output_type": "stream",
     "text": [
      "Value of x inside a function : 11\n",
      "Value of x outside a function : 11\n"
     ]
    }
   ],
   "source": [
    "#To make function variable as a global variable use GLOBAL keyword before the variable name.\n",
    "#Eg:\n",
    "a = 30\n",
    "def fun():\n",
    "    global a\n",
    "    a+=5 \n",
    "    print(\"Value of x inside a function :\", x)\n",
    "fun()\n",
    "print(\"Value of x outside a function :\", x)"
   ]
  },
  {
   "cell_type": "markdown",
   "id": "5e3d27eb",
   "metadata": {},
   "source": [
    "\n",
    "# 10. What is the data type of None?\n"
   ]
  },
  {
   "cell_type": "raw",
   "id": "537ebdda",
   "metadata": {},
   "source": [
    "Datatype of None is NONETYPE"
   ]
  },
  {
   "cell_type": "markdown",
   "id": "5496f1e5",
   "metadata": {},
   "source": [
    "# 11. What does the sentence import areallyourpetsnamederic do?\n"
   ]
  },
  {
   "cell_type": "raw",
   "id": "740e8128",
   "metadata": {},
   "source": [
    "import areallyourpetsnamederic will import the areallyourpetsnamederic in thar particular program and we can us the functions defined inside areallyourpetsnamederic module"
   ]
  },
  {
   "cell_type": "markdown",
   "id": "414e5a5a",
   "metadata": {},
   "source": [
    "# 12. If you had a bacon() feature in a spam module, what would you call it after importing spam?\n"
   ]
  },
  {
   "cell_type": "raw",
   "id": "94eab148",
   "metadata": {},
   "source": [
    "import spam\n",
    "spam.bacon()"
   ]
  },
  {
   "cell_type": "markdown",
   "id": "44fc37e1",
   "metadata": {},
   "source": [
    "# 13. What can you do to save a programme from crashing if it encounters an error?\n"
   ]
  },
  {
   "cell_type": "raw",
   "id": "194b2133",
   "metadata": {},
   "source": [
    "We can use try except to save a program from crashing."
   ]
  },
  {
   "cell_type": "markdown",
   "id": "a3ba7192",
   "metadata": {},
   "source": [
    "# 14. What is the purpose of the try clause? What is the purpose of the except clause?"
   ]
  },
  {
   "cell_type": "raw",
   "id": "12ce15b0",
   "metadata": {},
   "source": [
    "If there is any error in the code and if the code is inside the try block it will automatically come ouside the try block as soon as it find the error in the particular line and will not execute after that line and will fall inside the except block and do the further processing. "
   ]
  },
  {
   "cell_type": "code",
   "execution_count": null,
   "id": "1315b8a5",
   "metadata": {},
   "outputs": [],
   "source": []
  }
 ],
 "metadata": {
  "kernelspec": {
   "display_name": "Python 3",
   "language": "python",
   "name": "python3"
  },
  "language_info": {
   "codemirror_mode": {
    "name": "ipython",
    "version": 3
   },
   "file_extension": ".py",
   "mimetype": "text/x-python",
   "name": "python",
   "nbconvert_exporter": "python",
   "pygments_lexer": "ipython3",
   "version": "3.8.5"
  }
 },
 "nbformat": 4,
 "nbformat_minor": 5
}
