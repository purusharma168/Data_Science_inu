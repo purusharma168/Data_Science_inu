{
 "cells": [
  {
   "cell_type": "markdown",
   "id": "4fc8ac53",
   "metadata": {},
   "source": [
    "1. Write a Python Program to Add Two Matrices?\n",
    "2. Write a Python Program to Multiply Two Matrices?\n",
    "3. Write a Python Program to Transpose a Matrix?\n",
    "4. Write a Python Program to Sort Words in Alphabetic Order?\n",
    "5. Write a Python Program to Remove Punctuation From a String?"
   ]
  },
  {
   "cell_type": "code",
   "execution_count": 1,
   "id": "66c5edf2",
   "metadata": {},
   "outputs": [
    {
     "name": "stdout",
     "output_type": "stream",
     "text": [
      "Enter no of rows: 1\n",
      "Enter no of column: 2\n",
      "Enter in row 1 column 1\n",
      "3\n",
      "Enter in row 1 column 2\n",
      "4\n",
      "Enter in row 1 column 1\n",
      "5\n",
      "Enter in row 1 column 2\n",
      "6\n",
      "8 10 \n"
     ]
    }
   ],
   "source": [
    "# Q1\n",
    "import logging as lg\n",
    "lg.basicConfig(filename=\"error.log\",level=lg.INFO)\n",
    "class addMatrix:\n",
    "    def __init__(self,rows,col):\n",
    "        self.rows=rows\n",
    "        self.col=col\n",
    "    \n",
    "    def myFun(self):\n",
    "        try:\n",
    "            mat1=[]\n",
    "            mat2=[]\n",
    "            for i in range(0,self.rows):\n",
    "                mat1.append([])\n",
    "                mat2.append([])\n",
    "                \n",
    "            for i in range(0,self.rows):\n",
    "                for j in range(0,self.col):\n",
    "                    mat1[i].append(j)\n",
    "                    mat2[i].append(j)\n",
    "                    mat1[i][j]=0\n",
    "                    mat2[i][j]=0\n",
    "            \n",
    "#             Matrix 1\n",
    "            for i in range(0,self.rows):\n",
    "                for j in range(0,self.col):\n",
    "                    print(\"Enter in row\",i+1,\"column\",j+1)\n",
    "                    mat1[i][j]=int(input())\n",
    "            \n",
    "#             Matrix 2\n",
    "            for i in range(0,self.rows):\n",
    "                for j in range(0,self.col):\n",
    "                    print(\"Enter in row\",i+1,\"column\",j+1)\n",
    "                    mat2[i][j]=int(input())\n",
    "                    \n",
    "            for i in range(0,self.rows):\n",
    "                for j in range(0,self.col):\n",
    "                    print(mat1[i][j]+mat2[i][j],end=\" \")\n",
    "                print()\n",
    "            \n",
    "            \n",
    "            \n",
    "                    \n",
    "        except Exception as e:\n",
    "                lg.info(e)\n",
    "\n",
    "    def __str__(self):\n",
    "        return \"Class addMatrix created\"\n",
    "        \n",
    "\n",
    "    \n",
    "try:\n",
    "    rows=int(input(\"Enter no of rows: \"))\n",
    "    col=int(input(\"Enter no of column: \"))\n",
    "    obj = addMatrix(rows,col)\n",
    "    obj.myFun()\n",
    "except Exception as e:\n",
    "    lg.info(e)"
   ]
  },
  {
   "cell_type": "code",
   "execution_count": 5,
   "id": "b64ad884",
   "metadata": {},
   "outputs": [
    {
     "name": "stdout",
     "output_type": "stream",
     "text": [
      "[9, 12, 15]\n",
      "[19, 26, 33]\n",
      "[24, 33, 42]\n"
     ]
    }
   ],
   "source": [
    "#2\n",
    "import logging as lg\n",
    "lg.basicConfig(filename=\"error.log\",level=lg.INFO)\n",
    "class Matrix_Multiplication:\n",
    "    def myFun(self):\n",
    "        try:\n",
    "            X = [[1,2],\n",
    "                 [3,4],\n",
    "                 [4,5]]\n",
    "\n",
    "            Y = [ [1,2,3],\n",
    "                 [4,5,6] ]\n",
    "\n",
    "            result = [[0,0,0],[0,0,0],[0,0,0]]\n",
    "            my_list = []\n",
    "            for i in range( len(X) ):\n",
    "                for j in range(len(Y[0])):\n",
    "                    for k in range(len(Y)):\n",
    "                        result[i][j] += X[i][k] * Y[k][j]\n",
    "\n",
    "            for r in result:\n",
    "                print(r)\n",
    "        except Exception as e:\n",
    "            lf.info()\n",
    "    \n",
    "    \n",
    "    def __str__(self):\n",
    "        return \"Class Matrix_Multiplication created\"\n",
    "        \n",
    "\n",
    "    \n",
    "try:\n",
    "    obj = Matrix_Multiplication()\n",
    "    obj.myFun()\n",
    "except Exception as e:\n",
    "    lg.info(e)"
   ]
  },
  {
   "cell_type": "code",
   "execution_count": 6,
   "id": "c64de093",
   "metadata": {},
   "outputs": [],
   "source": [
    "# Q3\n",
    "import logging as lg\n",
    "lg.basicConfig(filename=\"error.log\",level=lg.INFO)\n",
    "class Matrix_Multiplication:\n",
    "    def myFun(self):\n",
    "        try:\n",
    "            X = [[12,7],\n",
    "                [4 ,5],\n",
    "                [3 ,8]]\n",
    "\n",
    "            result = [[0,0,0],\n",
    "                     [0,0,0]]\n",
    "\n",
    "            for i in range(len(X)):\n",
    "                for j in range(len(X[0])):\n",
    "                    result[j][i]=X[i][j]\n",
    "        \n",
    "            for i in result:\n",
    "                print(i)\n",
    "        except Exception as e:\n",
    "            lf.info()\n",
    "    \n",
    "    \n",
    "    def __str__(self):\n",
    "        return \"Class Matrix_Multiplication created\"\n",
    "        \n",
    "\n",
    "    \n",
    "try:\n",
    "    obj = Matrix_Transpose()\n",
    "    obj.myFun()\n",
    "except Exception as e:\n",
    "    lg.info(e)"
   ]
  },
  {
   "cell_type": "code",
   "execution_count": 9,
   "id": "ae66392b",
   "metadata": {},
   "outputs": [
    {
     "name": "stdout",
     "output_type": "stream",
     "text": [
      "Enter a string: puru sharma\n",
      "The sorted words are:\n",
      "puru\n",
      "sharma\n"
     ]
    }
   ],
   "source": [
    "# Q4\n",
    "# Program to sort alphabetically the words form a string provided by the user\n",
    " \n",
    " \n",
    "#to take input from the user\n",
    "my_str = input(\"Enter a string: \")\n",
    " \n",
    "# breakdown the string into a list of words\n",
    "words = my_str.split()\n",
    " \n",
    "# sort the list\n",
    "words.sort()\n",
    " \n",
    "# display the sorted words\n",
    " \n",
    "print(\"The sorted words are:\")\n",
    "for word in words:\n",
    "   print(word)\n",
    " "
   ]
  },
  {
   "cell_type": "code",
   "execution_count": 12,
   "id": "e4425d75",
   "metadata": {},
   "outputs": [
    {
     "name": "stdout",
     "output_type": "stream",
     "text": [
      "Enter a string: purus%&\n",
      "purus\n"
     ]
    }
   ],
   "source": [
    "# Q5\n",
    "# Program to all punctuation from the string provided by the user\n",
    " \n",
    "# define punctuation\n",
    "punctuations = '''!()-[]{};:'\"\\,<>./?@#$%^&*_~'''\n",
    " \n",
    "# take input from the user\n",
    "my_str = input(\"Enter a string: \")\n",
    " \n",
    "# remove punctuation from the string\n",
    "no_punct = \"\"\n",
    "for char in my_str:\n",
    "   if char not in punctuations:\n",
    "       no_punct = no_punct + char\n",
    " \n",
    "# display the unpunctuated string\n",
    "print(no_punct)"
   ]
  },
  {
   "cell_type": "code",
   "execution_count": null,
   "id": "b9755c83",
   "metadata": {},
   "outputs": [],
   "source": []
  }
 ],
 "metadata": {
  "kernelspec": {
   "display_name": "Python 3",
   "language": "python",
   "name": "python3"
  },
  "language_info": {
   "codemirror_mode": {
    "name": "ipython",
    "version": 3
   },
   "file_extension": ".py",
   "mimetype": "text/x-python",
   "name": "python",
   "nbconvert_exporter": "python",
   "pygments_lexer": "ipython3",
   "version": "3.9.6"
  }
 },
 "nbformat": 4,
 "nbformat_minor": 5
}
