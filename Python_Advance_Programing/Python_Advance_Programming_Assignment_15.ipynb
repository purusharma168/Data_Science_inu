{
 "cells": [
  {
   "cell_type": "markdown",
   "id": "a024e7bd",
   "metadata": {},
   "source": [
    "#### 1. Write a function that returns True if a given name can generate an array of words.\n",
    "Examples\n",
    "\n",
    "anagram(\"Justin Bieber\", [\"injures\", \"ebb\", \"it\"]) ➞ True\n",
    "\n",
    "anagram(\"Natalie Portman\", [\"ornamental\", \"pita\"]) ➞ True\n",
    "\n",
    "anagram(\"Chris Pratt\", [\"chirps\", \"rat\"]) ➞ False\n",
    "\n",
    "Not all letters are used\n",
    "anagram(\"Jeff Goldblum\", [\"jog\", \"meld\", \"bluffs\"]) ➞ False\n",
    "\n",
    "\"s\" does not exist in the original name"
   ]
  },
  {
   "cell_type": "code",
   "execution_count": 98,
   "id": "321d709b",
   "metadata": {},
   "outputs": [],
   "source": [
    "def anagram(word,input_list):\n",
    "    \"\"\"\n",
    "    function that returns True if a given name can generate an array of words.\n",
    "    \"\"\"\n",
    "    try:\n",
    "        word = list(''.join(word.split(' ')).lower())\n",
    "        word_clone = word.copy()\n",
    "        input_list = list(''.join(input_list))  \n",
    "        input_list_clone = input_list\n",
    "        [word.remove(ele) for ele in input_list if ele in word]\n",
    "        [input_list_clone.remove(ele) for ele in word_clone if ele in input_list_clone]\n",
    "        if len(word + input_list) > 0:\n",
    "            return False\n",
    "        else:\n",
    "            return True\n",
    "        \n",
    "    except Exception as e:\n",
    "        print(\"Error occurred \",e)"
   ]
  },
  {
   "cell_type": "code",
   "execution_count": 99,
   "id": "d447b46f",
   "metadata": {},
   "outputs": [
    {
     "data": {
      "text/plain": [
       "True"
      ]
     },
     "execution_count": 99,
     "metadata": {},
     "output_type": "execute_result"
    }
   ],
   "source": [
    "anagram(\"Justin Bieber\", [\"injures\", \"ebb\", \"it\"])"
   ]
  },
  {
   "cell_type": "code",
   "execution_count": 100,
   "id": "22958e06",
   "metadata": {},
   "outputs": [
    {
     "data": {
      "text/plain": [
       "True"
      ]
     },
     "execution_count": 100,
     "metadata": {},
     "output_type": "execute_result"
    }
   ],
   "source": [
    "anagram(\"Natalie Portman\", [\"ornamental\", \"pita\"])"
   ]
  },
  {
   "cell_type": "code",
   "execution_count": 101,
   "id": "22dae10f",
   "metadata": {},
   "outputs": [
    {
     "data": {
      "text/plain": [
       "False"
      ]
     },
     "execution_count": 101,
     "metadata": {},
     "output_type": "execute_result"
    }
   ],
   "source": [
    "anagram(\"Chris Pratt\", [\"chirps\", \"rat\"])"
   ]
  },
  {
   "cell_type": "code",
   "execution_count": 102,
   "id": "28f309a5",
   "metadata": {},
   "outputs": [
    {
     "data": {
      "text/plain": [
       "False"
      ]
     },
     "execution_count": 102,
     "metadata": {},
     "output_type": "execute_result"
    }
   ],
   "source": [
    "anagram(\"Jeff Goldblum\", [\"jog\", \"meld\", \"bluffs\"])"
   ]
  },
  {
   "cell_type": "markdown",
   "id": "71463124",
   "metadata": {},
   "source": [
    "#### 2. Given an array of users, each defined by an object with the following properties: name, score, reputation create a function that sorts the array to form the correct leaderboard.\n",
    "The leaderboard takes into consideration the score of each user of course, but an emphasis is put on their reputation in the community, so to get the trueScore, you should add the reputation multiplied by 2 to the score.\n",
    "\n",
    "Once you know the trueScore of each user, sort the array according to it in descending order.\n",
    "\n",
    "Examples\n",
    "\n",
    "leaderboards([ { \"name\": \"a\", \"score\": 100, \"reputation\": 20 }, { \"name\": \"b\", \"score\": 90, \"reputation\": 40 }, { \"name\": \"c\", \"score\": 115, \"reputation\": 30 }, ]) ➞ \n",
    "\n",
    "[ { \"name\": \"c\", \"score\": 115, \"reputation\": 30 }, # trueScore = 175 \n",
    "\n",
    "{ \"name\": \"b\", \"score\": 90, \"reputation\": 40 }, # trueScore = 170 \n",
    "\n",
    "{ \"name\": \"a\", \"score\": 100, \"reputation\": 20 } # trueScore = 140 ]"
   ]
  },
  {
   "cell_type": "code",
   "execution_count": 103,
   "id": "8c92a038",
   "metadata": {},
   "outputs": [],
   "source": [
    "def leaderboards(users):\n",
    "    \"\"\"\n",
    "    a function that sorts the array to form the correct leaderboard.\n",
    "    \"\"\"\n",
    "    try:\n",
    "        score=[]\n",
    "        for i in range(len(users)):            \n",
    "            score.append( users[i][\"score\"] + users[i][\"reputation\"] * 2 )\n",
    "            \n",
    "        res = []\n",
    "        for _,j in sorted(zip(score,users),reverse=True):\n",
    "            res.append(j)        \n",
    "        return res\n",
    "    \n",
    "    except Exception as e:\n",
    "        print(\"Error occurred \",e)"
   ]
  },
  {
   "cell_type": "code",
   "execution_count": 104,
   "id": "10e07673",
   "metadata": {},
   "outputs": [
    {
     "data": {
      "text/plain": [
       "[{'name': 'c', 'score': 115, 'reputation': 30},\n",
       " {'name': 'b', 'score': 90, 'reputation': 40},\n",
       " {'name': 'a', 'score': 100, 'reputation': 20}]"
      ]
     },
     "execution_count": 104,
     "metadata": {},
     "output_type": "execute_result"
    }
   ],
   "source": [
    "leaderboards([ { \"name\": \"a\", \"score\": 100, \"reputation\": 20 }, { \"name\": \"b\", \"score\": 90, \"reputation\": 40 }, { \"name\": \"c\", \"score\": 115, \"reputation\": 30 }, ])"
   ]
  },
  {
   "cell_type": "markdown",
   "id": "7f4e593c",
   "metadata": {},
   "source": [
    "#### 3. Create a function that, given a phrase and a number of letters guessed, returns a string with hyphens - for every letter of the phrase not guessed, and each letter guessed in place.\n",
    "Examples:\n",
    "\n",
    "hangman(\"helicopter\", [\"o\", \"e\", \"s\"]) ➞ \"-e---o--e-\"\n",
    "\n",
    "hangman(\"tree\", [\"r\", \"t\", \"e\"]) ➞ \"tree\"\n",
    "\n",
    "hangman(\"Python rules\", [\"a\", \"n\", \"p\", \"r\", \"z\"]) ➞ \"P----n r----\"\n",
    "\n",
    "hangman(\"He\"s a very naughty boy!\", [\"e\", \"a\", \"y\"]) ➞ \"-e\"- a -e-y -a----y –y!\""
   ]
  },
  {
   "cell_type": "code",
   "execution_count": 105,
   "id": "a01f488e",
   "metadata": {},
   "outputs": [],
   "source": [
    "def hangman(word,string_list):\n",
    "    \"\"\"\n",
    "    function that, given a phrase and a number of letters guessed, \n",
    "    returns a string with hyphens - for every letter of the phrase not guessed, \n",
    "    and each letter guessed in place.\n",
    "    \"\"\"\n",
    "    try:\n",
    "        symbols = {'~', ':', \"'\", '+', '[', '\\\\', '@', '^', '{', '%', '(', '-', '\"', '*', '|', ',', '&', '<', '`', '}', '.', '_', '=', ']', '!', '>', ';', '?', '#', '$', ')', '/'}\n",
    "\n",
    "        res = ''\n",
    "        \n",
    "        for i in word:\n",
    "            if i.lower() in string_list:                \n",
    "                res = res + i                \n",
    "            else:                \n",
    "                if i in symbols:\n",
    "                    res = res + i                    \n",
    "                else:                    \n",
    "                    res = res + '-'\n",
    "        return res\n",
    "    \n",
    "    except Exception as e:\n",
    "        print(\"Error occurred \",e)"
   ]
  },
  {
   "cell_type": "code",
   "execution_count": 106,
   "id": "5063247f",
   "metadata": {},
   "outputs": [
    {
     "data": {
      "text/plain": [
       "'-e---o--e-'"
      ]
     },
     "execution_count": 106,
     "metadata": {},
     "output_type": "execute_result"
    }
   ],
   "source": [
    "hangman(\"helicopter\", [\"o\", \"e\", \"s\"])"
   ]
  },
  {
   "cell_type": "code",
   "execution_count": 107,
   "id": "0bdcd754",
   "metadata": {},
   "outputs": [
    {
     "data": {
      "text/plain": [
       "'tree'"
      ]
     },
     "execution_count": 107,
     "metadata": {},
     "output_type": "execute_result"
    }
   ],
   "source": [
    "hangman(\"tree\", [\"r\", \"t\", \"e\"])"
   ]
  },
  {
   "cell_type": "code",
   "execution_count": 108,
   "id": "6ac28885",
   "metadata": {},
   "outputs": [
    {
     "data": {
      "text/plain": [
       "'P----n-r----'"
      ]
     },
     "execution_count": 108,
     "metadata": {},
     "output_type": "execute_result"
    }
   ],
   "source": [
    "hangman(\"Python rules\", [\"a\", \"n\", \"p\", \"r\", \"z\"]) "
   ]
  },
  {
   "cell_type": "code",
   "execution_count": 111,
   "id": "32351090",
   "metadata": {},
   "outputs": [
    {
     "data": {
      "text/plain": [
       "'-e\"--a--e-y--a----y---y!'"
      ]
     },
     "execution_count": 111,
     "metadata": {},
     "output_type": "execute_result"
    }
   ],
   "source": [
    "hangman('He\"s a very naughty boy!', [\"e\", \"a\", \"y\"]) "
   ]
  },
  {
   "cell_type": "markdown",
   "id": "bbb08d00",
   "metadata": {},
   "source": [
    "#### 4. The Collatz sequence is as follows:\n",
    "Start with some given integer n.\n",
    "\n",
    "If it is even, the next number will be n divided by 2.\n",
    "\n",
    "If it is odd, multiply it by 3 and add 1 to make the next number.\n",
    "\n",
    "The sequence stops when it reaches 1.\n",
    "\n",
    "According to the Collatz conjecture, it will always reach 1. If that's true, you can construct a finite sequence following the aforementioned method for any given integer.\n",
    "\n",
    "Write a function that takes in an integer n and returns the highest integer in the corresponding Collatz sequence.\n",
    "\n",
    "Examples\n",
    "\n",
    "max_collatz(10) ➞ 16\n",
    "\n",
    "Collatz sequence: 10, 5, 16, 8, 4, 2, 1\n",
    "\n",
    "max_collatz(32) ➞ 32\n",
    "\n",
    "Collatz sequence: 32, 16, 8, 4, 2, 1\n",
    "\n",
    "max_collatz(85) ➞ 256\n",
    "\n",
    "Collatz sequence: 85, 256, 128, 64, 32, 16, 8, 4, 2, 1"
   ]
  },
  {
   "cell_type": "code",
   "execution_count": 114,
   "id": "1d33fa52",
   "metadata": {},
   "outputs": [],
   "source": [
    "def max_collatz(integer):\n",
    "    \"\"\"\n",
    "    function that takes in an integer n and returns the highest integer in the corresponding Collatz sequence\n",
    "    \"\"\"\n",
    "    try:\n",
    "        collatz_seq = [integer]\n",
    "        \n",
    "        while integer > 1:\n",
    "            if integer % 2 == 0:\n",
    "                integer = integer / 2\n",
    "                collatz_seq.append(int(integer))\n",
    "            else:\n",
    "                integer = integer * 3 + 1\n",
    "                collatz_seq.append(int(integer))\n",
    "        return max(collatz_seq)\n",
    "                \n",
    "    except Exception as e:\n",
    "        print(\"Error occurred \",e)"
   ]
  },
  {
   "cell_type": "code",
   "execution_count": 115,
   "id": "7d0ae469",
   "metadata": {},
   "outputs": [
    {
     "data": {
      "text/plain": [
       "16"
      ]
     },
     "execution_count": 115,
     "metadata": {},
     "output_type": "execute_result"
    }
   ],
   "source": [
    "max_collatz(10)"
   ]
  },
  {
   "cell_type": "code",
   "execution_count": 116,
   "id": "5ed4d10d",
   "metadata": {},
   "outputs": [
    {
     "data": {
      "text/plain": [
       "32"
      ]
     },
     "execution_count": 116,
     "metadata": {},
     "output_type": "execute_result"
    }
   ],
   "source": [
    "max_collatz(32) "
   ]
  },
  {
   "cell_type": "code",
   "execution_count": 117,
   "id": "7d392bb7",
   "metadata": {},
   "outputs": [
    {
     "data": {
      "text/plain": [
       "256"
      ]
     },
     "execution_count": 117,
     "metadata": {},
     "output_type": "execute_result"
    }
   ],
   "source": [
    "max_collatz(85) "
   ]
  },
  {
   "cell_type": "markdown",
   "id": "33f9a009",
   "metadata": {},
   "source": [
    "#### 5. Write a function that sorts a list of integers by their digit length in descending order, then settles ties by sorting numbers with the same digit length in ascending order.\n",
    "Examples\n",
    "\n",
    "digit_sort([77, 23, 5, 7, 101]) ➞ [101, 23, 77, 5, 7]\n",
    "\n",
    "digit_sort([1, 5, 9, 2, 789, 563, 444]) ➞ [444, 563, 789, 1, 2, 5, 9]\n",
    "\n",
    "digit_sort([53219, 3772, 564, 32, 1]) ➞ [53219, 3772, 564, 32, 1]"
   ]
  },
  {
   "cell_type": "code",
   "execution_count": 135,
   "id": "bfa61351",
   "metadata": {},
   "outputs": [],
   "source": [
    "def digit_sort(arr):\n",
    "    \"\"\"\n",
    "    function that sorts a list of integers by their digit length in descending order, \n",
    "    then settles ties by sorting numbers with the same digit length in ascending order.\n",
    "    \"\"\"\n",
    "    try:\n",
    "        length = set([len(str(x)) for x in arr])\n",
    "        res = []\n",
    "        for i in list(length)[::-1]:\n",
    "            lst = []\n",
    "            for j in range(len(arr)):\n",
    "                if len(str(arr[j])) == i:\n",
    "                    lst.append(arr[j])\n",
    "            res.append(lst)\n",
    "\n",
    "        ans = [sorted(ele) for ele in res]\n",
    "        return sum(ans, [])\n",
    "    except Exception as e:\n",
    "        print(\"Error occurred \",e)"
   ]
  },
  {
   "cell_type": "code",
   "execution_count": 136,
   "id": "98777319",
   "metadata": {},
   "outputs": [
    {
     "data": {
      "text/plain": [
       "[101, 23, 77, 5, 7]"
      ]
     },
     "execution_count": 136,
     "metadata": {},
     "output_type": "execute_result"
    }
   ],
   "source": [
    "digit_sort([77, 23, 5, 7, 101])"
   ]
  },
  {
   "cell_type": "code",
   "execution_count": 137,
   "id": "9edfa12f",
   "metadata": {},
   "outputs": [
    {
     "data": {
      "text/plain": [
       "[444, 563, 789, 1, 2, 5, 9]"
      ]
     },
     "execution_count": 137,
     "metadata": {},
     "output_type": "execute_result"
    }
   ],
   "source": [
    "digit_sort([1, 5, 9, 2, 789, 563, 444])"
   ]
  },
  {
   "cell_type": "code",
   "execution_count": 138,
   "id": "4154c182",
   "metadata": {},
   "outputs": [
    {
     "data": {
      "text/plain": [
       "[53219, 3772, 564, 32, 1]"
      ]
     },
     "execution_count": 138,
     "metadata": {},
     "output_type": "execute_result"
    }
   ],
   "source": [
    "digit_sort([53219, 3772, 564, 32, 1])"
   ]
  }
 ],
 "metadata": {
  "kernelspec": {
   "display_name": "Python 3",
   "language": "python",
   "name": "python3"
  },
  "language_info": {
   "codemirror_mode": {
    "name": "ipython",
    "version": 3
   },
   "file_extension": ".py",
   "mimetype": "text/x-python",
   "name": "python",
   "nbconvert_exporter": "python",
   "pygments_lexer": "ipython3",
   "version": "3.7.10"
  }
 },
 "nbformat": 4,
 "nbformat_minor": 5
}
