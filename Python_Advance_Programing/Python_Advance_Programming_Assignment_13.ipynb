{
 "cells": [
  {
   "cell_type": "markdown",
   "id": "3b9d26ad",
   "metadata": {},
   "source": [
    "#### 1. Create a function that takes a list and string. The function should remove the letters in the string from the list, and return the list.\n",
    "Examples\n",
    "\n",
    "remove_letters([\"s\", \"t\", \"r\", \"i\", \"n\", \"g\", \"w\"], \"string\") ➞ [\"w\"]\n",
    "\n",
    "remove_letters([\"b\", \"b\", \"l\", \"l\", \"g\", \"n\", \"o\", \"a\", \"w\"], \"balloon\") ➞ [\"b\", \"g\", \"w\"]\n",
    "\n",
    "remove_letters([\"d\", \"b\", \"t\", \"e\", \"a\", \"i\"], \"edabit\") ➞ []\n"
   ]
  },
  {
   "cell_type": "code",
   "execution_count": 10,
   "id": "0a8da233",
   "metadata": {},
   "outputs": [],
   "source": [
    "def remove_letters(lst,string):\n",
    "    \"\"\"\n",
    "    function should remove the letters in the string from the list, and return the list.\n",
    "    \"\"\"\n",
    "    try:\n",
    "        [lst.remove(string[i]) for i in range(len(string)) if string[i] in lst]\n",
    "        return lst\n",
    "    except Exception as e:\n",
    "        print(\"Error occurred \",e)"
   ]
  },
  {
   "cell_type": "code",
   "execution_count": 11,
   "id": "c656a522",
   "metadata": {},
   "outputs": [
    {
     "data": {
      "text/plain": [
       "['w']"
      ]
     },
     "execution_count": 11,
     "metadata": {},
     "output_type": "execute_result"
    }
   ],
   "source": [
    "remove_letters([\"s\", \"t\", \"r\", \"i\", \"n\", \"g\", \"w\"], \"string\") "
   ]
  },
  {
   "cell_type": "code",
   "execution_count": 12,
   "id": "fab6164b",
   "metadata": {},
   "outputs": [
    {
     "data": {
      "text/plain": [
       "['b', 'g', 'w']"
      ]
     },
     "execution_count": 12,
     "metadata": {},
     "output_type": "execute_result"
    }
   ],
   "source": [
    "remove_letters([\"b\", \"b\", \"l\", \"l\", \"g\", \"n\", \"o\", \"a\", \"w\"], \"balloon\") "
   ]
  },
  {
   "cell_type": "code",
   "execution_count": 13,
   "id": "57c9bc12",
   "metadata": {},
   "outputs": [
    {
     "data": {
      "text/plain": [
       "[]"
      ]
     },
     "execution_count": 13,
     "metadata": {},
     "output_type": "execute_result"
    }
   ],
   "source": [
    "remove_letters([\"d\", \"b\", \"t\", \"e\", \"a\", \"i\"], \"edabit\")"
   ]
  },
  {
   "cell_type": "markdown",
   "id": "35254a1d",
   "metadata": {},
   "source": [
    "#### 2. A block sequence in three dimensions. We can write a formula for this one:\n",
    "Create a function that takes a number (step) as an argument and returns the amount of blocks in that step.\n",
    "\n",
    "Examples\n",
    "\n",
    "blocks(1) ➞ 5\n",
    "\n",
    "blocks(5) ➞ 39\n",
    "\n",
    "blocks(2) ➞ 12"
   ]
  },
  {
   "cell_type": "code",
   "execution_count": 14,
   "id": "1b6e02da",
   "metadata": {},
   "outputs": [],
   "source": [
    "def blocks(step):\n",
    "    \"\"\"\n",
    "    function that takes a number (step) as an argument and returns the amount of blocks in that step\n",
    "    \"\"\"\n",
    "    try:\n",
    "        tot = 3*step + (step-1)\n",
    "        for i in range(2, step+2) :\n",
    "            tot += i\n",
    "        return tot\n",
    "    except Exception as e:\n",
    "        print(\"Error occurred \",e)"
   ]
  },
  {
   "cell_type": "code",
   "execution_count": 16,
   "id": "0b327715",
   "metadata": {},
   "outputs": [
    {
     "data": {
      "text/plain": [
       "5"
      ]
     },
     "execution_count": 16,
     "metadata": {},
     "output_type": "execute_result"
    }
   ],
   "source": [
    "blocks(1) "
   ]
  },
  {
   "cell_type": "code",
   "execution_count": 17,
   "id": "a67dcc45",
   "metadata": {},
   "outputs": [
    {
     "data": {
      "text/plain": [
       "39"
      ]
     },
     "execution_count": 17,
     "metadata": {},
     "output_type": "execute_result"
    }
   ],
   "source": [
    "blocks(5) "
   ]
  },
  {
   "cell_type": "code",
   "execution_count": 18,
   "id": "0a244a4e",
   "metadata": {},
   "outputs": [
    {
     "data": {
      "text/plain": [
       "12"
      ]
     },
     "execution_count": 18,
     "metadata": {},
     "output_type": "execute_result"
    }
   ],
   "source": [
    "blocks(2) "
   ]
  },
  {
   "cell_type": "markdown",
   "id": "ebcea746",
   "metadata": {},
   "source": [
    "#### 3. Create a function that subtracts one positive integer from another, without using any arithmetic operators such as -, %, /, +, etc.\n",
    "Examples\n",
    "\n",
    "my_sub(5, 9) ➞ 4\n",
    "\n",
    "my_sub(10, 30) ➞ 20\n",
    "\n",
    "my_sub(0, 0) ➞ 0"
   ]
  },
  {
   "cell_type": "code",
   "execution_count": 30,
   "id": "88aec42d",
   "metadata": {},
   "outputs": [],
   "source": [
    "def my_sub(x,y):\n",
    "    try:\n",
    "        if (y == 0):\n",
    "            return x \n",
    "        elif (x == 0):\n",
    "            return y\n",
    "        elif x > y:\n",
    "            return my_sub(x ^ y, (~x & y) << 1)\n",
    "        else:\n",
    "            return my_sub(y ^ x, (~y & x) << 1)\n",
    "    except Exception as e:\n",
    "        print(\"Error occurred \",e)"
   ]
  },
  {
   "cell_type": "code",
   "execution_count": 31,
   "id": "79665782",
   "metadata": {},
   "outputs": [
    {
     "data": {
      "text/plain": [
       "4"
      ]
     },
     "execution_count": 31,
     "metadata": {},
     "output_type": "execute_result"
    }
   ],
   "source": [
    "my_sub(5, 9)"
   ]
  },
  {
   "cell_type": "code",
   "execution_count": 32,
   "id": "a13a9057",
   "metadata": {},
   "outputs": [
    {
     "data": {
      "text/plain": [
       "20"
      ]
     },
     "execution_count": 32,
     "metadata": {},
     "output_type": "execute_result"
    }
   ],
   "source": [
    "my_sub(10, 30)"
   ]
  },
  {
   "cell_type": "code",
   "execution_count": 33,
   "id": "d6a6deb6",
   "metadata": {},
   "outputs": [
    {
     "data": {
      "text/plain": [
       "0"
      ]
     },
     "execution_count": 33,
     "metadata": {},
     "output_type": "execute_result"
    }
   ],
   "source": [
    "my_sub(0, 0)"
   ]
  },
  {
   "cell_type": "markdown",
   "id": "62a2edc9",
   "metadata": {},
   "source": [
    "#### 4. Create a function that takes a string containing money in dollars and pounds sterling (seperated by comma) and returns the sum of dollar bills only, as an integer.\n",
    "For the input string:\n",
    "\n",
    "Each amount is prefixed by the currency symbol: \\$ for dollars and £ for pounds.\n",
    "\n",
    "Thousands are represented by the suffix k.\n",
    "\n",
    "i.e. \\\\$4k = $4,000 and £40k = £40,000\n",
    "\n",
    "Examples\n",
    "\n",
    "add_bill(\"d20,p40,p60,d50\") ➞ 20 + 50 = 70\n",
    "\n",
    "add_bill(\"p30,d20,p60,d150,p360\") ➞ 20 + 150 = 170\n",
    "\n",
    "add_bill(\"p30,d2k,p60,d200,p360\") ➞ 2 * 1000 + 200 = 2200"
   ]
  },
  {
   "cell_type": "code",
   "execution_count": 36,
   "id": "b4aa52ce",
   "metadata": {},
   "outputs": [],
   "source": [
    "def add_bill(money):\n",
    "    \"\"\"\n",
    "    function that takes a string containing money in dollars \n",
    "    and pounds sterling (seperated by comma) and \n",
    "    returns the sum of dollar bills only, as an integer.\n",
    "    \"\"\"\n",
    "    try:\n",
    "        money = money.split(\",\")\n",
    "        total_bill = 0\n",
    "        for s in money:\n",
    "            if s[0] == 'd':\n",
    "                if s[-1] == 'k':\n",
    "                    total_bill += int(s.replace('d','').replace('k',''))*1000\n",
    "                else:\n",
    "                    total_bill +=int(s.replace('d',''))                    \n",
    "        return total_bill\n",
    "                    \n",
    "    except Exception as e:\n",
    "        print(\"Error occurred \",e)"
   ]
  },
  {
   "cell_type": "code",
   "execution_count": 37,
   "id": "10a7ce99",
   "metadata": {},
   "outputs": [
    {
     "data": {
      "text/plain": [
       "70"
      ]
     },
     "execution_count": 37,
     "metadata": {},
     "output_type": "execute_result"
    }
   ],
   "source": [
    "add_bill(\"d20,p40,p60,d50\") "
   ]
  },
  {
   "cell_type": "code",
   "execution_count": 38,
   "id": "f13353c0",
   "metadata": {},
   "outputs": [
    {
     "data": {
      "text/plain": [
       "170"
      ]
     },
     "execution_count": 38,
     "metadata": {},
     "output_type": "execute_result"
    }
   ],
   "source": [
    "add_bill(\"p30,d20,p60,d150,p360\") "
   ]
  },
  {
   "cell_type": "code",
   "execution_count": 39,
   "id": "990e16f3",
   "metadata": {},
   "outputs": [
    {
     "data": {
      "text/plain": [
       "2200"
      ]
     },
     "execution_count": 39,
     "metadata": {},
     "output_type": "execute_result"
    }
   ],
   "source": [
    "add_bill(\"p30,d2k,p60,d200,p360\") "
   ]
  },
  {
   "cell_type": "markdown",
   "id": "81722ded",
   "metadata": {},
   "source": [
    "#### 5. Create a function that flips a horizontal list into a vertical list, and a vertical list into a horizontal list.\n",
    "In other words, take an 1 x n list (1 row + n columns) and flip it into a n x 1 list (n rows and 1 column), and vice versa.\n",
    "\n",
    "Examples\n",
    "\n",
    "flip_list([1, 2, 3, 4]) ➞ [[1], [2], [3], [4]]\n",
    "\n",
    "Take a horizontal list and flip it vertical.\n",
    "\n",
    "flip_list([[5], [6], [9]]) ➞ [5, 6, 9]\n",
    "\n",
    "Take a vertical list and flip it horizontal.\n",
    "\n",
    "flip_list([]) ➞ []"
   ]
  },
  {
   "cell_type": "code",
   "execution_count": null,
   "id": "66fa324f",
   "metadata": {},
   "outputs": [],
   "source": []
  },
  {
   "cell_type": "code",
   "execution_count": 40,
   "id": "325e81bf",
   "metadata": {},
   "outputs": [],
   "source": [
    "def flip_list(input_list):\n",
    "    \"\"\"\n",
    "    function that flips a horizontal list into a vertical list, and a vertical list into a horizontal list.\n",
    "    \"\"\"\n",
    "    try:\n",
    "        if len(input_list) > 0:\n",
    "            if isinstance(lst[0], list):\n",
    "                res = [i[0] for i in input_list]\n",
    "            else:\n",
    "                res = [[i] for i in input_list]\n",
    "        else:\n",
    "            res = input_\n",
    "            \n",
    "        if not lst:\n",
    "            ans = lst\n",
    "        else:\n",
    "            check_vertical = isinstance(lst[0], list)\n",
    "    \n",
    "            if check_vertical:\n",
    "                ans = [item[0] for item in lst]\n",
    "            else :\n",
    "                ans = [[item] for item in lst]\n",
    "        \n",
    "        return ans\n",
    "        \n",
    "    except Exception as e:\n",
    "        print(\"Error occurred \",e)"
   ]
  },
  {
   "cell_type": "code",
   "execution_count": null,
   "id": "2e95eabd",
   "metadata": {},
   "outputs": [],
   "source": [
    "\n",
    "def flip_list(in_list):\n",
    "    if len(in_list) > 0:\n",
    "        output = [ele[0] for ele in in_list] if isinstance(in_list[0],list) else [[ele] for ele in in_list]\n",
    "    else:\n",
    "        output = []\n",
    "    print(f'flip_list({in_list}) ➞ {output}')"
   ]
  }
 ],
 "metadata": {
  "kernelspec": {
   "display_name": "Python 3",
   "language": "python",
   "name": "python3"
  },
  "language_info": {
   "codemirror_mode": {
    "name": "ipython",
    "version": 3
   },
   "file_extension": ".py",
   "mimetype": "text/x-python",
   "name": "python",
   "nbconvert_exporter": "python",
   "pygments_lexer": "ipython3",
   "version": "3.7.10"
  }
 },
 "nbformat": 4,
 "nbformat_minor": 5
}
