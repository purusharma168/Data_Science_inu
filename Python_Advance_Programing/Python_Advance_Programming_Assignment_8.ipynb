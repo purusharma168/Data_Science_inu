{
 "cells": [
  {
   "cell_type": "markdown",
   "id": "e1e1d158",
   "metadata": {},
   "source": [
    "#### 1. Given a sentence as txt, return True if any two adjacent words have this property: One word ends with a vowel, while the word immediately after begins with a vowel (a e i o u).\n",
    "\n",
    "Examples\n",
    "\n",
    "vowel_links(\"a very large appliance\") ➞ True\n",
    "\n",
    "vowel_links(\"go to edabit\") ➞ True\n",
    "\n",
    "vowel_links(\"an open fire\") ➞ False\n",
    "\n",
    "vowel_links(\"a sudden applause\") ➞ False\n"
   ]
  },
  {
   "cell_type": "code",
   "execution_count": 18,
   "id": "984235de",
   "metadata": {},
   "outputs": [],
   "source": [
    "def vowel_links(txt):\n",
    "    \"\"\"\n",
    "    function to return True if any two adjacent words have this property: \n",
    "    One word ends with a vowel, while the word immediately after begins with a vowel (a e i o u).\n",
    "\n",
    "    \"\"\"\n",
    "    try:\n",
    "        vow = 'aeiou'\n",
    "        word = txt.split()  \n",
    "        word_len = len(word)\n",
    "        for i in range(word_len-1):\n",
    "            if word[i][-1] in vow:\n",
    "                if word[i+1][0] in vow:\n",
    "                    return True\n",
    "                    break;\n",
    "            else:\n",
    "                if i == word_len-2:\n",
    "                    return False\n",
    "    except Exception as e:\n",
    "        print(\"Error occurred\",e)"
   ]
  },
  {
   "cell_type": "code",
   "execution_count": 19,
   "id": "b6e23539",
   "metadata": {},
   "outputs": [
    {
     "data": {
      "text/plain": [
       "True"
      ]
     },
     "execution_count": 19,
     "metadata": {},
     "output_type": "execute_result"
    }
   ],
   "source": [
    "vowel_links(\"a very large appliance\")"
   ]
  },
  {
   "cell_type": "code",
   "execution_count": 20,
   "id": "e3b69624",
   "metadata": {},
   "outputs": [
    {
     "data": {
      "text/plain": [
       "True"
      ]
     },
     "execution_count": 20,
     "metadata": {},
     "output_type": "execute_result"
    }
   ],
   "source": [
    "vowel_links(\"go to edabit\")"
   ]
  },
  {
   "cell_type": "code",
   "execution_count": 21,
   "id": "cb5a5acd",
   "metadata": {},
   "outputs": [
    {
     "data": {
      "text/plain": [
       "False"
      ]
     },
     "execution_count": 21,
     "metadata": {},
     "output_type": "execute_result"
    }
   ],
   "source": [
    "vowel_links(\"an open fire\")"
   ]
  },
  {
   "cell_type": "code",
   "execution_count": 22,
   "id": "0c242c54",
   "metadata": {},
   "outputs": [
    {
     "data": {
      "text/plain": [
       "False"
      ]
     },
     "execution_count": 22,
     "metadata": {},
     "output_type": "execute_result"
    }
   ],
   "source": [
    "vowel_links(\"a sudden applause\")"
   ]
  },
  {
   "cell_type": "markdown",
   "id": "8e8e0581",
   "metadata": {},
   "source": [
    "#### 2. You are given three inputs: a string, one letter, and a second letter. Write a function that returns True if every instance of the first letter occurs before every instance of the second letter.\n",
    "\n",
    "Examples\n",
    "\n",
    "first_before_second(\"a rabbit jumps joyfully\", \"a\", \"j\") ➞ True\n",
    "\n",
    "Every instance of \"a\" occurs before every instance of \"j\".\n",
    "\n",
    "first_before_second(\"knaves knew about waterfalls\", \"k\", \"w\") ➞ True\n",
    "\n",
    "first_before_second(\"happy birthday\", \"a\", \"y\") ➞ False\n",
    "\n",
    "The \"a\" in \"birthday\" occurs after the \"y\" in \"happy\".\n",
    "\n",
    "first_before_second(\"precarious kangaroos\", \"k\", \"a\") ➞ False"
   ]
  },
  {
   "cell_type": "code",
   "execution_count": 23,
   "id": "e1904849",
   "metadata": {},
   "outputs": [],
   "source": [
    "def first_before_second(string,one_letter,second_letter):\n",
    "    \"\"\"\n",
    "    function that returns True if every instance of the first letter occurs before every instance of the second letter.\n",
    "    \n",
    "    string : input string\n",
    "    one_letter : input first letter\n",
    "    second_letter : input second letter\n",
    "    \n",
    "    Returns: bool (True of False)\n",
    "    \"\"\"\n",
    "    try :\n",
    "        lst1 = [i for i, j in enumerate(string) if j == one_letter ]\n",
    "        lst2 = [k for k, l in enumerate(string) if l == second_letter]\n",
    "\n",
    "        print(all(lst2) > all(lst1))\n",
    "        \n",
    "    except Exception as e:\n",
    "        print(\"Error occurred\",e)\n"
   ]
  },
  {
   "cell_type": "code",
   "execution_count": 24,
   "id": "8ee87159",
   "metadata": {},
   "outputs": [
    {
     "name": "stdout",
     "output_type": "stream",
     "text": [
      "True\n"
     ]
    }
   ],
   "source": [
    "first_before_second(\"a rabbit jumps joyfully\", \"a\", \"j\")"
   ]
  },
  {
   "cell_type": "code",
   "execution_count": 25,
   "id": "f61f60d3",
   "metadata": {},
   "outputs": [
    {
     "name": "stdout",
     "output_type": "stream",
     "text": [
      "False\n"
     ]
    }
   ],
   "source": [
    "first_before_second(\"precarious kangaroos\", \"k\", \"a\")"
   ]
  },
  {
   "cell_type": "code",
   "execution_count": 26,
   "id": "742eb035",
   "metadata": {},
   "outputs": [
    {
     "name": "stdout",
     "output_type": "stream",
     "text": [
      "False\n"
     ]
    }
   ],
   "source": [
    "first_before_second(\"happy birthday\", \"a\", \"y\")"
   ]
  },
  {
   "cell_type": "code",
   "execution_count": 28,
   "id": "4970b657",
   "metadata": {},
   "outputs": [
    {
     "name": "stdout",
     "output_type": "stream",
     "text": [
      "True\n"
     ]
    }
   ],
   "source": [
    "first_before_second(\"knaves knew about waterfalls\", \"k\", \"w\")"
   ]
  },
  {
   "cell_type": "markdown",
   "id": "c4a89a8c",
   "metadata": {},
   "source": [
    "#### 3. Create a function that returns the characters from a list or string r on odd or even positions, depending on the specifier s. The specifier will be \"odd\" for items on odd positions (1, 3, 5, ...) and \"even\" for items on even positions (2, 4, 6, ...).\n",
    "\n",
    "Examples\n",
    "\n",
    "char_at_pos([2, 4, 6, 8, 10], \"even\") ➞ [4, 8]\n",
    "\n",
    "4 & 8 occupy the 2nd & 4th positions\n",
    "\n",
    "char_at_pos(\"EDABIT\", \"odd\") ➞ \"EAI\"\n",
    "\n",
    "\"E\", \"A\" and \"I\" occupy the 1st, 3rd and 5th positions\n",
    "\n",
    "char_at_pos([\"A\", \"R\", \"B\", \"I\", \"T\", \"R\", \"A\", \"R\", \"I\", \"L\", \"Y\"], \"odd\") ➞ [\"A\", \"B\", \"T\", \"A\", \"I\", \"Y\"]"
   ]
  },
  {
   "cell_type": "code",
   "execution_count": 120,
   "id": "29d6ec04",
   "metadata": {},
   "outputs": [],
   "source": [
    "def char_at_pos(arg,pos):\n",
    "    \"\"\"\n",
    "    function that returns the characters from a list or string r on odd or even positions, depending on the specifier s. \n",
    "    \n",
    "    arg : input string or list\n",
    "    pos : input specifier \"even\" of \"odd\"\n",
    "    \n",
    "    Returns: Even or Odd items depending on the specifier\n",
    "    \"\"\"\n",
    "    try:\n",
    "        lst = []\n",
    "        for i in range(len(arg)):\n",
    "            if pos == \"even\" and (i+1)%2 == 0:\n",
    "                lst += str(arg[i])\n",
    "            elif pos == \"odd\" and (i+1)%2 != 0:\n",
    "                lst += str(arg[i])\n",
    "        if type(arg) == list:\n",
    "            res = []\n",
    "            for ele in lst:\n",
    "                if ele.isdigit():\n",
    "                    res.append(int(ele))\n",
    "                else:\n",
    "                    res.append(ele)\n",
    "            return res\n",
    "        elif type(arg) == str:\n",
    "            res = ''.join(lst)\n",
    "            return res\n",
    "    except Exception as e:\n",
    "        print(\"Error occurred :\",e)"
   ]
  },
  {
   "cell_type": "code",
   "execution_count": 121,
   "id": "5878161f",
   "metadata": {},
   "outputs": [
    {
     "data": {
      "text/plain": [
       "[4, 8]"
      ]
     },
     "execution_count": 121,
     "metadata": {},
     "output_type": "execute_result"
    }
   ],
   "source": [
    "char_at_pos([2, 4, 6, 8, 10], \"even\")"
   ]
  },
  {
   "cell_type": "code",
   "execution_count": 122,
   "id": "0bb5ace5",
   "metadata": {},
   "outputs": [
    {
     "data": {
      "text/plain": [
       "'EAI'"
      ]
     },
     "execution_count": 122,
     "metadata": {},
     "output_type": "execute_result"
    }
   ],
   "source": [
    "char_at_pos(\"EDABIT\", \"odd\")"
   ]
  },
  {
   "cell_type": "code",
   "execution_count": 123,
   "id": "edbbdeb2",
   "metadata": {},
   "outputs": [
    {
     "data": {
      "text/plain": [
       "['A', 'B', 'T', 'A', 'I', 'Y']"
      ]
     },
     "execution_count": 123,
     "metadata": {},
     "output_type": "execute_result"
    }
   ],
   "source": [
    "char_at_pos([\"A\", \"R\", \"B\", \"I\", \"T\", \"R\", \"A\", \"R\", \"I\", \"L\", \"Y\"], \"odd\")"
   ]
  },
  {
   "cell_type": "markdown",
   "id": "62c40956",
   "metadata": {},
   "source": [
    "#### 4. Write a function that returns the greatest common divisor of all list elements. If the greatest common divisor is 1, return 1.\n",
    "\n",
    "Examples\n",
    "\n",
    "GCD([10, 20, 40]) ➞ 10\n",
    "\n",
    "GCD([1, 2, 3, 100]) ➞ 1\n",
    "\n",
    "GCD([1024, 192, 2048, 512]) ➞ 64"
   ]
  },
  {
   "cell_type": "code",
   "execution_count": 124,
   "id": "aa4bc417",
   "metadata": {},
   "outputs": [],
   "source": [
    "import math\n",
    "def GCD(nums):\n",
    "    \"\"\"\n",
    "    function that returns the greatest common divisor of all list elements. If the greatest common divisor is 1, return 1. \n",
    "    \n",
    "    nums : list of numbers \n",
    "    \n",
    "    Returns: int\n",
    "    \"\"\"\n",
    "    try:\n",
    "        common_divisor = min(nums)        \n",
    "        for i in range(len(nums)):            \n",
    "            common_divisor = math.gcd(common_divisor,nums[i])\n",
    "        return common_divisor\n",
    "    \n",
    "    except Exception as e:\n",
    "        print(\"Error occurred\",e)"
   ]
  },
  {
   "cell_type": "code",
   "execution_count": 125,
   "id": "7be3049e",
   "metadata": {},
   "outputs": [
    {
     "data": {
      "text/plain": [
       "10"
      ]
     },
     "execution_count": 125,
     "metadata": {},
     "output_type": "execute_result"
    }
   ],
   "source": [
    "GCD([10, 20, 40])"
   ]
  },
  {
   "cell_type": "code",
   "execution_count": 126,
   "id": "4fb46376",
   "metadata": {},
   "outputs": [
    {
     "data": {
      "text/plain": [
       "1"
      ]
     },
     "execution_count": 126,
     "metadata": {},
     "output_type": "execute_result"
    }
   ],
   "source": [
    "GCD([1, 2, 3, 100])"
   ]
  },
  {
   "cell_type": "code",
   "execution_count": 127,
   "id": "2668cf3a",
   "metadata": {},
   "outputs": [
    {
     "data": {
      "text/plain": [
       "64"
      ]
     },
     "execution_count": 127,
     "metadata": {},
     "output_type": "execute_result"
    }
   ],
   "source": [
    "GCD([1024, 192, 2048, 512])"
   ]
  },
  {
   "cell_type": "markdown",
   "id": "82b12e1b",
   "metadata": {},
   "source": [
    "#### 5. A number/string is a palindrome if the digits/characters are the same when read both forward and backward. Examples include \"racecar\" and 12321. Given a positive number n, check if n or the binary representation of n is palindromic. Return the following:\n",
    "\n",
    "- \"Decimal only.\" if only n is a palindrome.\n",
    "- \"Binary only.\" if only the binary representation of n is a palindrome.\n",
    "- \"Decimal and binary.\" if both are palindromes.\n",
    "- \"Neither!\" if neither are palindromes.\n",
    "\n",
    "Examples\n",
    "\n",
    "palindrome_type(1306031) ➞ \"Decimal only.\"\n",
    "\n",
    "decimal = 1306031\n",
    "\n",
    "binary  = \"100111110110110101111\"\n",
    "\n",
    "palindrome_type(427787) ➞ \"Binary only.\"\n",
    "\n",
    "decimal = 427787\n",
    "\n",
    "binary  = \"1101000011100001011\"\n",
    "\n",
    "palindrome_type(313) ➞ \"Decimal and binary.\"\n",
    "\n",
    "decimal = 313\n",
    "\n",
    "binary  = 100111001\n",
    "\n",
    "palindrome_type(934) ➞ \"Neither!\"\n",
    "\n",
    "decimal = 934\n",
    "\n",
    "binary  = \"1110100110\"\n"
   ]
  },
  {
   "cell_type": "code",
   "execution_count": 138,
   "id": "7b4bb3f8",
   "metadata": {},
   "outputs": [],
   "source": [
    "def palindrome_type(num):\n",
    "    try:\n",
    "        if str(num) == str(num)[::-1] and str(bin(num)[2:]) != str(bin(num)[2:])[::-1]:\n",
    "            print ('Decimal only.')\n",
    "        elif str(num) != str(num)[::-1] and str(bin(num)[2:]) == str(bin(num)[2:])[::-1]:\n",
    "            print ('Binary only.')\n",
    "        elif str(num) == str(num)[::-1] and str(bin(num)[2:]) == str(bin(num)[2:])[::-1]:\n",
    "            print ('Decimal and binary.')\n",
    "        else:\n",
    "            print ('Neither!')\n",
    "    except Exception as e:\n",
    "        print(\"Error occurred\",e)"
   ]
  },
  {
   "cell_type": "code",
   "execution_count": 139,
   "id": "202c6945",
   "metadata": {},
   "outputs": [
    {
     "name": "stdout",
     "output_type": "stream",
     "text": [
      "Decimal only.\n",
      "Binary only.\n",
      "Decimal and binary.\n",
      "Neither!\n"
     ]
    }
   ],
   "source": [
    "palindrome_type(1306031) \n",
    "palindrome_type(427787) \n",
    "palindrome_type(313)\n",
    "palindrome_type(934)"
   ]
  },
  {
   "cell_type": "code",
   "execution_count": 136,
   "id": "dfd3f978",
   "metadata": {},
   "outputs": [],
   "source": [
    "\n",
    "def palindrome_type(num):\n",
    "    try:\n",
    "        bin_num= bin(num)[2:]\n",
    "        full=[num,bin_num]\n",
    "        count=[]\n",
    "        for k in full:\n",
    "            n=list(str(k))\n",
    "            length= int(len(n)/2 if len(n) % 2 ==0 else (len(n)-1)/2)\n",
    "            ctr=0\n",
    "            for i in range(length):\n",
    "                if n[i] == n[-(i+1)]:\n",
    "                    ctr=ctr+1\n",
    "                else:\n",
    "                    break;\n",
    "        \n",
    "            if ctr==length:\n",
    "                count.append(k)\n",
    "        if num in count and bin_num in count:\n",
    "            print(\"Decimal and binary.\")\n",
    "        elif num in count:\n",
    "            print(\"Decimal only.\")\n",
    "        elif bin_num in count:\n",
    "            print(\"Binary only.\")\n",
    "        else:\n",
    "            print(\"Neither!\")\n",
    "    except Exception as e:\n",
    "        print(\"Error occurred\",e)"
   ]
  },
  {
   "cell_type": "code",
   "execution_count": 137,
   "id": "d73e5b10",
   "metadata": {},
   "outputs": [
    {
     "data": {
      "text/plain": [
       "'100111110110110101111'"
      ]
     },
     "execution_count": 137,
     "metadata": {},
     "output_type": "execute_result"
    }
   ],
   "source": [
    "bin(1306031)[2:]"
   ]
  },
  {
   "cell_type": "code",
   "execution_count": null,
   "id": "173292c5",
   "metadata": {},
   "outputs": [],
   "source": []
  }
 ],
 "metadata": {
  "kernelspec": {
   "display_name": "Python 3",
   "language": "python",
   "name": "python3"
  },
  "language_info": {
   "codemirror_mode": {
    "name": "ipython",
    "version": 3
   },
   "file_extension": ".py",
   "mimetype": "text/x-python",
   "name": "python",
   "nbconvert_exporter": "python",
   "pygments_lexer": "ipython3",
   "version": "3.7.10"
  }
 },
 "nbformat": 4,
 "nbformat_minor": 5
}
