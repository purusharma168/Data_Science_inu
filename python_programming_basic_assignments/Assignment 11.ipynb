{
 "cells": [
  {
   "cell_type": "code",
   "execution_count": 1,
   "id": "169be07e",
   "metadata": {},
   "outputs": [
    {
     "name": "stdout",
     "output_type": "stream",
     "text": [
      "Python\n",
      "Assignment\n",
      "Programming\n"
     ]
    }
   ],
   "source": [
    "#1.\n",
    "k = 5\n",
    "words = [\"Hello\",\"Python\",\"Assignment\",\"Basic\",\"Programming\"]\n",
    "\n",
    "for i in words:\n",
    "    if len(i)>k:\n",
    "        print(i)"
   ]
  },
  {
   "cell_type": "code",
   "execution_count": 2,
   "id": "ed54dcbf",
   "metadata": {},
   "outputs": [
    {
     "name": "stdout",
     "output_type": "stream",
     "text": [
      "Python is  best lnguge to lern in 2021\n"
     ]
    }
   ],
   "source": [
    "#2.\n",
    "String = \"Python is a best language to learn in 2021\"\n",
    "\n",
    "String_new = String.replace(\"a\",\"\")\n",
    "print(String_new)\n",
    "\n",
    "            \n",
    "\n",
    "            \n",
    "\n"
   ]
  },
  {
   "cell_type": "code",
   "execution_count": 3,
   "id": "6acc6ff8",
   "metadata": {},
   "outputs": [
    {
     "name": "stdout",
     "output_type": "stream",
     "text": [
      "1, 2, 3, 4\n",
      "s1.join(s2): 1abc2abc3\n",
      "s2.join(s1): a123b123c\n"
     ]
    }
   ],
   "source": [
    "#3.\n",
    "\n",
    "numList = ['1', '2', '3', '4']\n",
    "separator = ', '\n",
    "print(separator.join(numList))\n",
    "s1 = 'abc'\n",
    "s2 = '123'\n",
    "\n",
    "\n",
    "print('s1.join(s2):', s1.join(s2))\n",
    "\n",
    "print('s2.join(s1):', s2.join(s1))"
   ]
  },
  {
   "cell_type": "code",
   "execution_count": 4,
   "id": "d9d37774",
   "metadata": {},
   "outputs": [
    {
     "name": "stdout",
     "output_type": "stream",
     "text": [
      "Yes\n"
     ]
    }
   ],
   "source": [
    "#4.\n",
    "\n",
    "def check(string) :\n",
    "\n",
    "\n",
    "    p = set(string)\n",
    "\n",
    "\n",
    "    s = {'0', '1'}\n",
    "\n",
    "\n",
    "    if s == p or p == {'0'} or p == {'1'}:\n",
    "        print(\"Yes\")\n",
    "    else :\n",
    "        print(\"No\")\n",
    "\n",
    "\n",
    "\n",
    "\n",
    "if __name__ == \"__main__\" :\n",
    "\n",
    "    string = \"101010000111\"\n",
    "\n",
    "\n",
    "check(string)\n"
   ]
  },
  {
   "cell_type": "code",
   "execution_count": 5,
   "id": "ad37d5f5",
   "metadata": {},
   "outputs": [
    {
     "name": "stdout",
     "output_type": "stream",
     "text": [
      "sample\n"
     ]
    }
   ],
   "source": [
    "#5.\n",
    "string1 = \"This is a sample string\"\n",
    "string2 = \"This is a Trial string\"\n",
    "String1_list = string1.split()\n",
    "String2_list = string2.split()\n",
    "for i in String1_list:\n",
    "    if i not in String2_list:\n",
    "        print(i)"
   ]
  },
  {
   "cell_type": "code",
   "execution_count": 6,
   "id": "54ec5b8a",
   "metadata": {},
   "outputs": [
    {
     "name": "stdout",
     "output_type": "stream",
     "text": [
      "['t', 'h', 'o', 'n', ' ', 'i', 's', 'e', 'b', 'l', 'a', 'g', 'u', 'r', '2', 'I']\n"
     ]
    }
   ],
   "source": [
    "#6.\n",
    "String_ = \"Python is the best language to learn in 2021 and Ineuron is the best institute to learn AI\"\n",
    "String_list = String_.split()\n",
    "duplicate = []\n",
    "\n",
    "for i in String_:\n",
    "    if String_.count(i)>1 and i not in duplicate:\n",
    "        duplicate.append(i)\n",
    "    \n",
    "print(duplicate)"
   ]
  },
  {
   "cell_type": "code",
   "execution_count": 7,
   "id": "c20c9fda",
   "metadata": {},
   "outputs": [
    {
     "name": "stdout",
     "output_type": "stream",
     "text": [
      "String contains Special Characters.\n"
     ]
    }
   ],
   "source": [
    "#7.\n",
    "import re \n",
    "test = \"Ineuron.ai@query\"\n",
    "  \n",
    "\n",
    "def check_splcharacter(test): \n",
    "    string_check= re.compile('[@_!#$%^&*()<>?/\\|}{~:]')    \n",
    "    if(string_check.search(test) == None): \n",
    "        print(\"String does not contain Special Characters.\")         \n",
    "    else: \n",
    "        print(\"String contains Special Characters.\") \n",
    "      \n",
    "check_splcharacter(test) "
   ]
  },
  {
   "cell_type": "code",
   "execution_count": null,
   "id": "0c013ea0",
   "metadata": {},
   "outputs": [],
   "source": []
  }
 ],
 "metadata": {
  "kernelspec": {
   "display_name": "Python 3",
   "language": "python",
   "name": "python3"
  },
  "language_info": {
   "codemirror_mode": {
    "name": "ipython",
    "version": 3
   },
   "file_extension": ".py",
   "mimetype": "text/x-python",
   "name": "python",
   "nbconvert_exporter": "python",
   "pygments_lexer": "ipython3",
   "version": "3.9.6"
  }
 },
 "nbformat": 4,
 "nbformat_minor": 5
}
