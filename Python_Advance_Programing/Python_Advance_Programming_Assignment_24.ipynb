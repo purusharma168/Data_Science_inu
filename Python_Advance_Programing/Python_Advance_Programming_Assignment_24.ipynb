{
 "cells": [
  {
   "cell_type": "markdown",
   "id": "2ac79078",
   "metadata": {},
   "source": [
    "#### 1. Implement a class iterator to flatten a nested list of lists of integers. Each list element is either an integer or a list. There can be many levels of nested lists in lists.\n",
    "\n",
    "The class initializes with a nested list. It also has two methods:\n",
    "\n",
    "  1. next() returns an integer in the order of appearance.\n",
    "  2. hasNext() returns True / False regarding if all integers have been retrieved or not.\n",
    "\n",
    "Write the Class implementation for three required methods.\n",
    "\n",
    "Examples\n",
    "\n",
    "ni, actual = NestedIterator([[1, 1], 2, [1, 1]]), []\n",
    "\n",
    "while ni.hasNext():\n",
    "\n",
    "    actual.append(ni.next())\n",
    "    \n",
    "actual ➞ [1, 1, 2, 1, 1]\n",
    "\n",
    "ni, actual = NestedIterator([1, [4, [6]]]), []\n",
    "\n",
    "while ni.hasNext():\n",
    "\n",
    "    actual.append(ni.next())\n",
    "    \n",
    "actual ➞ [1, 4, 6]\n",
    "\n",
    "ni, actual = NestedIterator([[[]], []]), []\n",
    "\n",
    "while ni.hasNext():\n",
    "\n",
    "    actual.append(ni.next())\n",
    "    \n",
    "actual ➞ []\n"
   ]
  },
  {
   "cell_type": "code",
   "execution_count": 26,
   "id": "c2a09917",
   "metadata": {},
   "outputs": [],
   "source": [
    "class NestedIterator:\n",
    "    \n",
    "    def __init__(self, nested_list):\n",
    "        self.nested_list = nested_list   \n",
    "        flatten = lambda *n: (ele for item in n for ele in (flatten(*item) if isinstance(item, list) else (item,)))\n",
    "        self.flat_list = list(flatten(self.nested_list))     \n",
    "        \n",
    "    \n",
    "    def next(self):        \n",
    "        if len(self.flat_list) > 0:\n",
    "            return self.flat_list.pop(0)\n",
    "        else:\n",
    "            return \"List is empty\"\n",
    "        \n",
    "    def hasNext(self):\n",
    "        return len(self.flat_list) > 0"
   ]
  },
  {
   "cell_type": "code",
   "execution_count": 27,
   "id": "9b9faa32",
   "metadata": {},
   "outputs": [
    {
     "data": {
      "text/plain": [
       "[1, 1, 2, 1, 1]"
      ]
     },
     "execution_count": 27,
     "metadata": {},
     "output_type": "execute_result"
    }
   ],
   "source": [
    "ni,actual = NestedIterator([[1, 1], 2, [1, 1]]),[]\n",
    "while ni.hasNext():\n",
    "\n",
    "    actual.append(ni.next())\n",
    "actual"
   ]
  },
  {
   "cell_type": "code",
   "execution_count": 28,
   "id": "ef541408",
   "metadata": {},
   "outputs": [
    {
     "data": {
      "text/plain": [
       "[1, 4, 6]"
      ]
     },
     "execution_count": 28,
     "metadata": {},
     "output_type": "execute_result"
    }
   ],
   "source": [
    "ni, actual = NestedIterator([1, [4, [6]]]), []\n",
    "\n",
    "while ni.hasNext():\n",
    "\n",
    "    actual.append(ni.next())\n",
    "actual"
   ]
  },
  {
   "cell_type": "code",
   "execution_count": 29,
   "id": "2b21c3ea",
   "metadata": {},
   "outputs": [
    {
     "data": {
      "text/plain": [
       "[]"
      ]
     },
     "execution_count": 29,
     "metadata": {},
     "output_type": "execute_result"
    }
   ],
   "source": [
    "ni, actual = NestedIterator([[[]], []]), []\n",
    "\n",
    "while ni.hasNext():\n",
    "\n",
    "    actual.append(ni.next())\n",
    "actual"
   ]
  },
  {
   "cell_type": "markdown",
   "id": "49b38685",
   "metadata": {},
   "source": [
    "#### 2. Implement the class Shape that receives perimeter and density function into __init__ method. The list of consecutive corners defines shape of a 2-dimensional object. The density function defines the mass distribution inside the shape. To compute mass in a certain point m(x, y) = small_square * density(x, y). The __init__ method calls other internal methods that compute three characteristics of the shape:\n",
    "\n",
    "   - area\n",
    "   - total mass\n",
    "   - center of mass (xc, yc)\n",
    "\n",
    "The computational grid has distance between two neighboring points as 2 * delta, the distance between a grid point and the perimeter wall is delta.\n",
    "\n",
    "Examples\n",
    "\n",
    "sh_ex1 = Shape([(1, 1), (3, 1), (3, 2), (1, 2)], lambda x, y: 100 + 100 * x)\n",
    "\n",
    "sh_ex1.area ➞ 2.0\n",
    "\n",
    "sh_ex1.mass ➞ 600.0\n",
    "\n",
    "sh_ex1.mass_center ➞ (2.1, 1.5)\n",
    "\n"
   ]
  },
  {
   "cell_type": "code",
   "execution_count": null,
   "id": "9303c1c4",
   "metadata": {},
   "outputs": [],
   "source": []
  },
  {
   "cell_type": "markdown",
   "id": "008b7d33",
   "metadata": {},
   "source": [
    "#### 3. Given a 3x3 matrix of a completed tic-tac-toe game, create a function that returns whether the game is a win for \"X\", \"O\", or a \"Draw\", where \"X\" and \"O\" represent themselves on the matrix, and \"E\" represents an empty spot.\n",
    "\n",
    "Examples\n",
    "```\n",
    "tic_tac_toe([\n",
    "  [\"X\", \"O\", \"X\"],\n",
    "  [\"O\", \"X\",  \"O\"],\n",
    "  [\"O\", \"X\",  \"X\"]\n",
    "]) ➞ \"X\"\n",
    "\n",
    "tic_tac_toe([\n",
    "  [\"O\", \"O\", \"O\"],\n",
    "  [\"O\", \"X\", \"X\"],\n",
    "  [\"E\", \"X\", \"X\"]\n",
    "]) ➞ \"O\"\n",
    "\n",
    "tic_tac_toe([\n",
    "  [\"X\", \"X\", \"O\"],\n",
    "  [\"O\", \"O\", \"X\"],\n",
    "  [\"X\", \"X\", \"O\"]\n",
    "]) ➞ \"Draw\"\n",
    "```\n"
   ]
  },
  {
   "cell_type": "code",
   "execution_count": 40,
   "id": "b8a0b162",
   "metadata": {},
   "outputs": [],
   "source": [
    "import numpy as np\n",
    "def tic_tac_toe(lst):\n",
    "    try:\n",
    "        res = \"Draw\"\n",
    "        for i in lst:\n",
    "            if len(set(i)) == 1:\n",
    "                res = i[0]\n",
    "                break\n",
    "\n",
    "        for j in np.array(lst).T:\n",
    "            if len(set(j)) == 1:\n",
    "                res = j[0]\n",
    "                break\n",
    "\n",
    "        diagonal_1 = np.array(lst).diagonal()\n",
    "        if len(set(diagonal_1)) == 1:\n",
    "            res = diagonal_1[0]\n",
    "\n",
    "        diagonal_2 = np.fliplr(np.array(lst)).diagonal()\n",
    "        if len(set(diagonal_2)) == 1:\n",
    "            res = diagonal_2[0]\n",
    "\n",
    "        return res\n",
    "    \n",
    "     except Exception as e:\n",
    "        print(\"Error occurred : \",e)"
   ]
  },
  {
   "cell_type": "code",
   "execution_count": 41,
   "id": "297bfad2",
   "metadata": {},
   "outputs": [
    {
     "data": {
      "text/plain": [
       "'X'"
      ]
     },
     "execution_count": 41,
     "metadata": {},
     "output_type": "execute_result"
    }
   ],
   "source": [
    "tic_tac_toe([ [\"X\", \"O\", \"X\"], [\"O\", \"X\", \"O\"], [\"O\", \"X\", \"X\"] ])"
   ]
  },
  {
   "cell_type": "code",
   "execution_count": 42,
   "id": "ea79766f",
   "metadata": {},
   "outputs": [
    {
     "data": {
      "text/plain": [
       "'O'"
      ]
     },
     "execution_count": 42,
     "metadata": {},
     "output_type": "execute_result"
    }
   ],
   "source": [
    "tic_tac_toe([ [\"O\", \"O\", \"O\"], [\"O\", \"X\", \"X\"], [\"E\", \"X\", \"X\"] ])"
   ]
  },
  {
   "cell_type": "code",
   "execution_count": 43,
   "id": "c33ccc44",
   "metadata": {},
   "outputs": [
    {
     "data": {
      "text/plain": [
       "'Draw'"
      ]
     },
     "execution_count": 43,
     "metadata": {},
     "output_type": "execute_result"
    }
   ],
   "source": [
    "tic_tac_toe([ [\"X\", \"X\", \"O\"], [\"O\", \"O\", \"X\"], [\"X\", \"X\", \"O\"] ])"
   ]
  },
  {
   "cell_type": "markdown",
   "id": "5ff5f05c",
   "metadata": {},
   "source": [
    "#### 4. Your computer might have been infected by a virus! Create a function that finds the viruses in files and removes them from your computer.\n",
    "\n",
    "Examples\n",
    "\n",
    "remove_virus(\"PC Files: spotifysetup.exe, virus.exe, dog.jpg\") ➞ \"PC Files: spotifysetup.exe, dog.jpg\"\n",
    "\n",
    "remove_virus(\"PC Files: antivirus.exe, cat.pdf, lethalmalware.exe, dangerousvirus.exe \") ➞ \"PC Files: antivirus.exe, cat.pdf\"\n",
    "\n",
    "remove_virus(\"PC Files: notvirus.exe, funnycat.gif\") ➞ \"PC Files: notvirus.exe, funnycat.gif\")\n",
    "\n"
   ]
  },
  {
   "cell_type": "code",
   "execution_count": 166,
   "id": "d951b364",
   "metadata": {},
   "outputs": [],
   "source": [
    "def remove_virus(string):\n",
    "    try:\n",
    "        virus = [\"lethalmalware.exe\", \"virus.exe\",\"dangerousvirus.exe\"]\n",
    "        string = string.split(\":\")\n",
    "        pc_files,files = string[0], string[1].split(',')\n",
    "        res = [file.strip() for file in files if file.strip() not in virus]\n",
    "\n",
    "        return f\"{pc_files}: {', '.join(res)}\"\n",
    "    \n",
    "    except Exception as e:\n",
    "        print(\"Error occurred : \",e)"
   ]
  },
  {
   "cell_type": "code",
   "execution_count": 167,
   "id": "a7075f74",
   "metadata": {},
   "outputs": [
    {
     "data": {
      "text/plain": [
       "'PC Files: spotifysetup.exe, dog.jpg'"
      ]
     },
     "execution_count": 167,
     "metadata": {},
     "output_type": "execute_result"
    }
   ],
   "source": [
    "remove_virus(\"PC Files: spotifysetup.exe, virus.exe, dog.jpg\")"
   ]
  },
  {
   "cell_type": "code",
   "execution_count": 168,
   "id": "6405907f",
   "metadata": {},
   "outputs": [
    {
     "data": {
      "text/plain": [
       "'PC Files: antivirus.exe, cat.pdf'"
      ]
     },
     "execution_count": 168,
     "metadata": {},
     "output_type": "execute_result"
    }
   ],
   "source": [
    "remove_virus(\"PC Files: antivirus.exe, cat.pdf, lethalmalware.exe, dangerousvirus.exe \") "
   ]
  },
  {
   "cell_type": "code",
   "execution_count": 169,
   "id": "f7ce80e4",
   "metadata": {},
   "outputs": [
    {
     "data": {
      "text/plain": [
       "'PC Files: notvirus.exe, funnycat.gif'"
      ]
     },
     "execution_count": 169,
     "metadata": {},
     "output_type": "execute_result"
    }
   ],
   "source": [
    "remove_virus(\"PC Files: notvirus.exe, funnycat.gif\")"
   ]
  },
  {
   "cell_type": "markdown",
   "id": "cdec2c0f",
   "metadata": {},
   "source": [
    "#### 5. In a video game, a meteor will fall toward the main character's home planet. Given the meteor's trajectory as a string in the form y = mx + b and the character's position as a tuple of (x, y), return True if the meteor will hit the character and False if it will not.\n",
    "\n",
    "Examples\n",
    "\n",
    "will_hit(\"y = 2x - 5\", (0, 0)) ➞ False\n",
    "\n",
    "will_hit(\"y = -4x + 6\", (1, 2)) ➞ True\n",
    "\n",
    "will_hit(\"y = 2x + 6\", (3, 2)) ➞ False\n"
   ]
  },
  {
   "cell_type": "code",
   "execution_count": 161,
   "id": "f1358685",
   "metadata": {},
   "outputs": [],
   "source": [
    "def will_hit(trajectory,position):\n",
    "    try:\n",
    "        trajectory = trajectory.split(\"=\")\n",
    "        m = trajectory[1].split(\"x\")[0]\n",
    "        b = trajectory[1].split(\" \")[-1]\n",
    "        sig = trajectory[1].split(\" \")[-2]\n",
    "        y_final = eval(' '.join([str(position[0]),'*',m,sig,b]))  \n",
    "        return y_final == position[1]\n",
    "        \n",
    "    except Exception as e:\n",
    "        print(\"Error occurred : \",e)"
   ]
  },
  {
   "cell_type": "code",
   "execution_count": 163,
   "id": "bc5616a2",
   "metadata": {},
   "outputs": [
    {
     "data": {
      "text/plain": [
       "False"
      ]
     },
     "execution_count": 163,
     "metadata": {},
     "output_type": "execute_result"
    }
   ],
   "source": [
    "will_hit(\"y = 2x - 5\", (0, 0)) "
   ]
  },
  {
   "cell_type": "code",
   "execution_count": 164,
   "id": "4087d514",
   "metadata": {},
   "outputs": [
    {
     "data": {
      "text/plain": [
       "True"
      ]
     },
     "execution_count": 164,
     "metadata": {},
     "output_type": "execute_result"
    }
   ],
   "source": [
    "will_hit(\"y = -4x + 6\", (1, 2))"
   ]
  },
  {
   "cell_type": "code",
   "execution_count": 165,
   "id": "71611f99",
   "metadata": {},
   "outputs": [
    {
     "data": {
      "text/plain": [
       "False"
      ]
     },
     "execution_count": 165,
     "metadata": {},
     "output_type": "execute_result"
    }
   ],
   "source": [
    "will_hit(\"y = 2x + 6\", (3, 2))"
   ]
  }
 ],
 "metadata": {
  "kernelspec": {
   "display_name": "Python 3 (ipykernel)",
   "language": "python",
   "name": "python3"
  },
  "language_info": {
   "codemirror_mode": {
    "name": "ipython",
    "version": 3
   },
   "file_extension": ".py",
   "mimetype": "text/x-python",
   "name": "python",
   "nbconvert_exporter": "python",
   "pygments_lexer": "ipython3",
   "version": "3.8.11"
  }
 },
 "nbformat": 4,
 "nbformat_minor": 5
}
