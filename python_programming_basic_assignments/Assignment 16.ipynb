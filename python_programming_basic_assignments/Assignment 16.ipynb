{
 "cells": [
  {
   "cell_type": "code",
   "execution_count": 2,
   "id": "03a2a44a",
   "metadata": {},
   "outputs": [
    {
     "name": "stdout",
     "output_type": "stream",
     "text": [
      "degree = 572.9582790879778\n"
     ]
    }
   ],
   "source": [
    "#2.\n",
    "\n",
    "def Convert(radian):\n",
    "\tpi = 3.14159\n",
    "\t# Simply used the formula\n",
    "\tdegree = radian * (180/pi)\n",
    "\treturn degree\n",
    "\n",
    "radian = 10\n",
    "print(\"degree =\",(Convert(radian)))\n",
    "\n"
   ]
  },
  {
   "cell_type": "code",
   "execution_count": 5,
   "id": "17032ca7",
   "metadata": {},
   "outputs": [
    {
     "name": "stdout",
     "output_type": "stream",
     "text": [
      "No\n",
      "Yes\n"
     ]
    }
   ],
   "source": [
    "#3.\n",
    "\n",
    "def checkIfCurzonNumber(N):\n",
    "\n",
    "\tpowerTerm, productTerm = 0, 0\n",
    "\n",
    "\tpowerTerm = pow(2, N) + 1\n",
    "\n",
    "\t\n",
    "\tproductTerm = 2 * N + 1\n",
    "\n",
    "\tif (powerTerm % productTerm == 0):\n",
    "\t\tprint(\"Yes\")\n",
    "\telse:\n",
    "\t\tprint(\"No\")\n",
    "\n",
    "if __name__ == '__main__':\n",
    "\t\n",
    "\tN = 19\n",
    "\tcheckIfCurzonNumber(N)\n",
    "\n",
    "\tN = 5\n",
    "\tcheckIfCurzonNumber(N)\n"
   ]
  },
  {
   "cell_type": "code",
   "execution_count": 7,
   "id": "243a9439",
   "metadata": {},
   "outputs": [
    {
     "name": "stdout",
     "output_type": "stream",
     "text": [
      "Area: 259.8076\n"
     ]
    }
   ],
   "source": [
    "#4.\n",
    "\n",
    "import math\n",
    "\n",
    "def hexagonArea(s):\n",
    "\t\n",
    "\treturn ((3 * math.sqrt(3) *\n",
    "\t\t\t(s * s)) / 2);\n",
    "\t\n",
    "if __name__ == \"__main__\" :\n",
    "\ts = 10\n",
    "\n",
    "\tprint(\"Area:\",\"{0:.4f}\" .\n",
    "\t\tformat(hexagonArea(s)))\n",
    "\n",
    "\n"
   ]
  },
  {
   "cell_type": "code",
   "execution_count": 10,
   "id": "ef1333eb",
   "metadata": {},
   "outputs": [
    {
     "name": "stdout",
     "output_type": "stream",
     "text": [
      "Decimal equivalent of 11A in base 100 is 10110\n"
     ]
    }
   ],
   "source": [
    "#5.\n",
    "def val(c):\n",
    "\tif c >= '0' and c <= '9':\n",
    "\t\treturn ord(c) - ord('0')\n",
    "\telse:\n",
    "\t\treturn ord(c) - ord('A') + 10;\n",
    "\n",
    "\n",
    "def toDeci(str,base):\n",
    "\tllen = len(str)\n",
    "\tpower = 1 \n",
    "\tnum = 0\t \n",
    "\tfor i in range(llen - 1, -1, -1):\n",
    "\n",
    "\t\tif val(str[i]) >= base:\n",
    "\t\t\tprint('Invalid Number')\n",
    "\t\t\treturn -1\n",
    "\t\tnum += val(str[i]) * power\n",
    "\t\tpower = power * base\n",
    "\treturn num\n",
    "\n",
    "strr = \"11A\"\n",
    "base = 100\n",
    "print('Decimal equivalent of', strr,\n",
    "\t\t\t'in base', base, 'is',\n",
    "\t\t\t\ttoDeci(strr, base))\n"
   ]
  },
  {
   "cell_type": "code",
   "execution_count": null,
   "id": "f85c4f23",
   "metadata": {},
   "outputs": [],
   "source": []
  }
 ],
 "metadata": {
  "kernelspec": {
   "display_name": "Python 3",
   "language": "python",
   "name": "python3"
  },
  "language_info": {
   "codemirror_mode": {
    "name": "ipython",
    "version": 3
   },
   "file_extension": ".py",
   "mimetype": "text/x-python",
   "name": "python",
   "nbconvert_exporter": "python",
   "pygments_lexer": "ipython3",
   "version": "3.9.6"
  }
 },
 "nbformat": 4,
 "nbformat_minor": 5
}
