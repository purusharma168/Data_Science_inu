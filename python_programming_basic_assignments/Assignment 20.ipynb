{
 "cells": [
  {
   "cell_type": "code",
   "execution_count": 3,
   "id": "7899abe3",
   "metadata": {},
   "outputs": [
    {
     "name": "stdout",
     "output_type": "stream",
     "text": [
      "[0]\n",
      "[0, 1]\n",
      "[0, 1, 2]\n",
      "[0, 1, 2, 3]\n"
     ]
    }
   ],
   "source": [
    "#1.\n",
    "list = [1,2,\"Ineuron\",5]\n",
    "list1 = []\n",
    "for i in range(len(list)):\n",
    "    if type(i)==int:\n",
    "        list1.append(i)\n",
    "    print(list1)\n",
    "    "
   ]
  },
  {
   "cell_type": "code",
   "execution_count": 4,
   "id": "0f04657e",
   "metadata": {},
   "outputs": [
    {
     "name": "stdout",
     "output_type": "stream",
     "text": [
      "Volume Of Cone :  314.15926535897927\n",
      "Surface Area Of Cone :  282.7433388230814\n"
     ]
    }
   ],
   "source": [
    "#3.\n",
    "''' Python3 program to calculate Volume and\n",
    "\tSurface area of Cone'''\n",
    "\n",
    "\n",
    "import math\n",
    "pi = math.pi\n",
    "\n",
    "\n",
    "def volume(r, h):\n",
    "\treturn (1 / 3) * pi * r * r * h\n",
    "\n",
    "\n",
    "def surfacearea(r, s):\n",
    "\treturn pi * r * s + pi * r * r\n",
    "\n",
    "\n",
    "radius = float(5)\n",
    "height = float(12)\n",
    "slat_height = float(13)\n",
    "print( \"Volume Of Cone : \", volume(radius, height) )\n",
    "print( \"Surface Area Of Cone : \", surfacearea(radius, slat_height) )\n"
   ]
  },
  {
   "cell_type": "code",
   "execution_count": 5,
   "id": "49c8dffe",
   "metadata": {},
   "outputs": [
    {
     "name": "stdout",
     "output_type": "stream",
     "text": [
      "1 3 6 10 15 "
     ]
    }
   ],
   "source": [
    "#4.\n",
    "def triangular_series( n ):\n",
    "\tj = 1\n",
    "\tk = 1\n",
    "\t\n",
    "\n",
    "\tfor i in range(1, n + 1):\n",
    "\t\tprint(k, end = ' ')\n",
    "\t\tj = j + 1 \n",
    "\t\t\n",
    "\t\n",
    "\t\tk = k + j\n",
    "\t\t\n",
    "\n",
    "n = 5\n",
    "triangular_series(n)\n",
    "\n",
    "\n"
   ]
  },
  {
   "cell_type": "code",
   "execution_count": 6,
   "id": "d136ce71",
   "metadata": {},
   "outputs": [
    {
     "name": "stdout",
     "output_type": "stream",
     "text": [
      "3.0\n"
     ]
    }
   ],
   "source": [
    "#5.\n",
    "def getMissingNo(A):\n",
    "\tn = len(A)\n",
    "\ttotal = (n + 1)*(n + 2)/2\n",
    "\tsum_of_A = sum(A)\n",
    "\treturn total - sum_of_A\n",
    "\n",
    "\n",
    "\n",
    "A = [1, 2, 4, 5, 6]\n",
    "miss = getMissingNo(A)\n",
    "print(miss)\n"
   ]
  },
  {
   "cell_type": "code",
   "execution_count": null,
   "id": "5179420d",
   "metadata": {},
   "outputs": [],
   "source": []
  }
 ],
 "metadata": {
  "kernelspec": {
   "display_name": "Python 3",
   "language": "python",
   "name": "python3"
  },
  "language_info": {
   "codemirror_mode": {
    "name": "ipython",
    "version": 3
   },
   "file_extension": ".py",
   "mimetype": "text/x-python",
   "name": "python",
   "nbconvert_exporter": "python",
   "pygments_lexer": "ipython3",
   "version": "3.8.5"
  }
 },
 "nbformat": 4,
 "nbformat_minor": 5
}
