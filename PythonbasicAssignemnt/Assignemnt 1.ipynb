{
 "cells": [
  {
   "cell_type": "markdown",
   "id": "585eabd5",
   "metadata": {},
   "source": [
    "\n",
    "\n",
    "# 1. In the below elements which of them are values or an expression? eg:- values can be\n",
    "integer or string and expressions will be mathematical operators.\n",
    "*\n",
    "&#39;hello&#39;\n",
    "-87.8\n",
    "-\n",
    "/\n",
    "+\n",
    "6"
   ]
  },
  {
   "cell_type": "raw",
   "id": "8b98f8c2",
   "metadata": {},
   "source": [
    "1) * = operator\n",
    "2) 'hello'= value\n",
    "3) -87.8 = value\n",
    "4) - = operator\n",
    "5) / = operator\n",
    "6) + = operator\n",
    "7) 6 = value"
   ]
  },
  {
   "cell_type": "markdown",
   "id": "9b986321",
   "metadata": {},
   "source": [
    "#  2. What is the difference between string and variable?"
   ]
  },
  {
   "cell_type": "markdown",
   "id": "bf2cf0e7",
   "metadata": {},
   "source": [
    "# String\n",
    "\n",
    "1. this is a data type\n",
    "2. string is a value representing text"
   ]
  },
  {
   "cell_type": "markdown",
   "id": "2e1a0823",
   "metadata": {},
   "source": [
    "# Variable\n",
    "1. a variable is a name that can refer to any value\n",
    "2. It stores values be it string,integer,float etc.\n",
    "3. example:\n",
    "    name='puru sharma' Here, name is variable and 'puru sharma' is a string \n",
    " "
   ]
  },
  {
   "cell_type": "markdown",
   "id": "cc4e366e",
   "metadata": {},
   "source": [
    "# 3. Describe three different data types."
   ]
  },
  {
   "cell_type": "code",
   "execution_count": null,
   "id": "2ff98a7a",
   "metadata": {},
   "outputs": [],
   "source": [
    "Data forms can be Integer , Float , String , Complex Numbers , boolean.... "
   ]
  },
  {
   "cell_type": "markdown",
   "id": "77af5105",
   "metadata": {},
   "source": [
    "# 4. What is an expression made up of? What do all expressions do?"
   ]
  },
  {
   "cell_type": "raw",
   "id": "215a698d",
   "metadata": {},
   "source": [
    "Expression just represents something like numbers , strings , instance, any value can be the expression\n",
    "\n",
    "Eg: var1=\"puru\" ---> var is a variable which stores string \"puru\"\n",
    "    \"puru\"-----> It is an expression,as nothing is evaluated here"
   ]
  },
  {
   "cell_type": "markdown",
   "id": "f3aff54c",
   "metadata": {},
   "source": [
    "# 5. This assignment statements, like spam = 10. What is the difference between an expression and a statement?\n"
   ]
  },
  {
   "cell_type": "raw",
   "id": "e6b50cd6",
   "metadata": {},
   "source": [
    "spam =  34, here 34 is an expression.\n",
    "spam is a variable which stores integer value 10, so assigning the value 10 to a variable spam is known as declaration of a variable."
   ]
  },
  {
   "cell_type": "markdown",
   "id": "637635a0",
   "metadata": {},
   "source": [
    "# 6. After running the following code, what does the variable bacon contain?\n",
    "# bacon = 22\n",
    "# bacon + 1"
   ]
  },
  {
   "cell_type": "code",
   "execution_count": 2,
   "id": "df287755",
   "metadata": {},
   "outputs": [
    {
     "name": "stdout",
     "output_type": "stream",
     "text": [
      "22\n"
     ]
    }
   ],
   "source": [
    "bacon = 22\n",
    "bacon+1\n",
    "print(bacon) ## bacon will contain 22"
   ]
  },
  {
   "cell_type": "markdown",
   "id": "4f34f25c",
   "metadata": {},
   "source": [
    "# 7. What should the values of the following two terms be?\n",
    "# &#39;spam&#39; + &#39;spamspam&#39;\n",
    "# &#39;spam&#39; * 3"
   ]
  },
  {
   "cell_type": "code",
   "execution_count": 4,
   "id": "34f7365c",
   "metadata": {},
   "outputs": [
    {
     "name": "stdout",
     "output_type": "stream",
     "text": [
      "spamspamspam\n",
      "spamspamspam\n"
     ]
    }
   ],
   "source": [
    "print('spam' + 'spamspam')\n",
    "print('spam' * 3)"
   ]
  },
  {
   "cell_type": "markdown",
   "id": "a43861df",
   "metadata": {},
   "source": [
    "# 8. Why is eggs a valid variable name while 100 is invalid?"
   ]
  },
  {
   "cell_type": "code",
   "execution_count": null,
   "id": "72ee4114",
   "metadata": {},
   "outputs": [],
   "source": [
    "According to rules in python:\n",
    "A variable name cannot start with a number, therefor  100 cannot be the variable name\n"
   ]
  },
  {
   "cell_type": "code",
   "execution_count": 7,
   "id": "42c853fb",
   "metadata": {},
   "outputs": [
    {
     "name": "stdout",
     "output_type": "stream",
     "text": [
      "puru\n"
     ]
    }
   ],
   "source": [
    "#example\n",
    "eggs=\"puru\"\n",
    "print(eggs)"
   ]
  },
  {
   "cell_type": "code",
   "execution_count": 9,
   "id": "540953c8",
   "metadata": {},
   "outputs": [
    {
     "ename": "SyntaxError",
     "evalue": "cannot assign to literal (<ipython-input-9-3585515925f8>, line 2)",
     "output_type": "error",
     "traceback": [
      "\u001b[0;36m  File \u001b[0;32m\"<ipython-input-9-3585515925f8>\"\u001b[0;36m, line \u001b[0;32m2\u001b[0m\n\u001b[0;31m    100= \"puru\"\u001b[0m\n\u001b[0m    ^\u001b[0m\n\u001b[0;31mSyntaxError\u001b[0m\u001b[0;31m:\u001b[0m cannot assign to literal\n"
     ]
    }
   ],
   "source": [
    "# here you can see the differences \n",
    "100= \"puru\"\n",
    "print(100)"
   ]
  },
  {
   "cell_type": "markdown",
   "id": "91a3d155",
   "metadata": {},
   "source": [
    "# 9. What three functions can be used to get the integer, floating-point number, or string version of a value?\n"
   ]
  },
  {
   "cell_type": "code",
   "execution_count": 20,
   "id": "4b53e298",
   "metadata": {},
   "outputs": [
    {
     "name": "stdout",
     "output_type": "stream",
     "text": [
      "<class 'int'>\n",
      "<class 'float'>\n",
      "<class 'str'>\n"
     ]
    }
   ],
   "source": [
    "# Converting to integer\n",
    "value_int = int(\"20\")\n",
    "print(type(value_int))\n",
    "value_float = float(\"23\")\n",
    "print(type(value_float))\n",
    "value_string = str(29)\n",
    "print(type(value_string))"
   ]
  },
  {
   "cell_type": "markdown",
   "id": "7e315f63",
   "metadata": {},
   "source": [
    "\n",
    "# 10. Why does this expression cause an error? How can you fix it?\n",
    "&#39;I have eaten &#39; + 99 + &#39; burritos.&#39;"
   ]
  },
  {
   "cell_type": "raw",
   "id": "4f0e60d8",
   "metadata": {},
   "source": [
    "\"I have eaten\" + 99 + \"burritos.\"\n",
    "In the above example we cannot concatenate string with integer value , string can only be concatinated with string."
   ]
  },
  {
   "cell_type": "code",
   "execution_count": 11,
   "id": "20891c06",
   "metadata": {},
   "outputs": [
    {
     "name": "stdout",
     "output_type": "stream",
     "text": [
      "i have eatenburritos\n"
     ]
    }
   ],
   "source": [
    "# in this example i will try to cocatenate two strings.\n",
    "a=\"i have eaten\"+\"burritos\"\n",
    "print(a)"
   ]
  },
  {
   "cell_type": "code",
   "execution_count": 12,
   "id": "c80e6463",
   "metadata": {},
   "outputs": [
    {
     "ename": "TypeError",
     "evalue": "can only concatenate str (not \"int\") to str",
     "output_type": "error",
     "traceback": [
      "\u001b[0;31m---------------------------------------------------------------------------\u001b[0m",
      "\u001b[0;31mTypeError\u001b[0m                                 Traceback (most recent call last)",
      "\u001b[0;32m<ipython-input-12-66e6a9183160>\u001b[0m in \u001b[0;36m<module>\u001b[0;34m\u001b[0m\n\u001b[1;32m      1\u001b[0m \u001b[0;31m# in this example i will try to cocatenate two strings and one integer value also.\u001b[0m\u001b[0;34m\u001b[0m\u001b[0;34m\u001b[0m\u001b[0;34m\u001b[0m\u001b[0m\n\u001b[0;32m----> 2\u001b[0;31m \u001b[0mb\u001b[0m\u001b[0;34m=\u001b[0m\u001b[0;34m\"I have eaten\"\u001b[0m \u001b[0;34m+\u001b[0m \u001b[0;36m99\u001b[0m \u001b[0;34m+\u001b[0m \u001b[0;34m\"burritos.\"\u001b[0m\u001b[0;34m\u001b[0m\u001b[0;34m\u001b[0m\u001b[0m\n\u001b[0m\u001b[1;32m      3\u001b[0m \u001b[0;34m\u001b[0m\u001b[0m\n\u001b[1;32m      4\u001b[0m \u001b[0mprint\u001b[0m\u001b[0;34m(\u001b[0m\u001b[0mb\u001b[0m\u001b[0;34m)\u001b[0m\u001b[0;34m\u001b[0m\u001b[0;34m\u001b[0m\u001b[0m\n",
      "\u001b[0;31mTypeError\u001b[0m: can only concatenate str (not \"int\") to str"
     ]
    }
   ],
   "source": [
    "# in this example i will try to cocatenate two strings and one integer value also.\n",
    "b=\"I have eaten\" + 99 + \"burritos.\"\n",
    "\n",
    "print(b)"
   ]
  },
  {
   "cell_type": "code",
   "execution_count": 17,
   "id": "3118bc06",
   "metadata": {},
   "outputs": [
    {
     "name": "stdout",
     "output_type": "stream",
     "text": [
      "I have eatenburritos.100\n"
     ]
    }
   ],
   "source": [
    "#  in this example i am able to add integer value in two string. i have used type casting concept.\n",
    "# with the help of this concepte we can change datatype into another datatype as per the problem. \n",
    "x=\"I have eaten\" \n",
    "y=\"burritos.\"\n",
    "z=str(100)\n",
    "print(x+y+z)"
   ]
  },
  {
   "cell_type": "code",
   "execution_count": null,
   "id": "5a8096d1",
   "metadata": {},
   "outputs": [],
   "source": []
  }
 ],
 "metadata": {
  "kernelspec": {
   "display_name": "Python 3",
   "language": "python",
   "name": "python3"
  },
  "language_info": {
   "codemirror_mode": {
    "name": "ipython",
    "version": 3
   },
   "file_extension": ".py",
   "mimetype": "text/x-python",
   "name": "python",
   "nbconvert_exporter": "python",
   "pygments_lexer": "ipython3",
   "version": "3.8.5"
  }
 },
 "nbformat": 4,
 "nbformat_minor": 5
}
