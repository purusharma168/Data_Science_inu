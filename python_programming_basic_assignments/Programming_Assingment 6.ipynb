{
 "cells": [
  {
   "cell_type": "markdown",
   "id": "1057d37b",
   "metadata": {},
   "source": [
    "1. Write a Python Program to Display Fibonacci Sequence Using Recursion?\n",
    "2. Write a Python Program to Find Factorial of Number Using Recursion?\n",
    "3. Write a Python Program to calculate your Body Mass Index?\n",
    "4. Write a Python Program to calculate the natural logarithm of any number?\n",
    "5. Write a Python Program for cube sum of first n natural numbers?"
   ]
  },
  {
   "cell_type": "code",
   "execution_count": 1,
   "id": "c7cd5aff",
   "metadata": {},
   "outputs": [
    {
     "name": "stdout",
     "output_type": "stream",
     "text": [
      "34\n",
      "5702887\n"
     ]
    }
   ],
   "source": [
    "# Q1\n",
    "import logging as lg\n",
    "lg.basicConfig(filename=\"error.log\",level=lg.INFO)\n",
    "def fib(n):\n",
    "    try:\n",
    "        if n==0 or n==1:\n",
    "            return n\n",
    "        else:\n",
    "            return fib(n-1)+fib(n-2)\n",
    "    except Exception as e:\n",
    "        lg.info(e)\n",
    "\n",
    "try:\n",
    "    n=int(input())\n",
    "    print(fib(n))\n",
    "except Exception as e:\n",
    "    lg.info(e)"
   ]
  },
  {
   "cell_type": "code",
   "execution_count": 2,
   "id": "baed1159",
   "metadata": {},
   "outputs": [
    {
     "name": "stdout",
     "output_type": "stream",
     "text": [
      "35\n",
      "10333147966386144929666651337523200000000\n"
     ]
    }
   ],
   "source": [
    "# Q2\n",
    "import logging as lg\n",
    "lg.basicConfig(filename=\"error.log\",level=lg.INFO)\n",
    "def fact(n):\n",
    "    try:\n",
    "        if n<=1:\n",
    "            return n\n",
    "        else:\n",
    "            return n*fact(n-1)\n",
    "    except Exception as e:\n",
    "        lg.info(e)\n",
    "\n",
    "try:\n",
    "    n=int(input())\n",
    "    print(fact(n))\n",
    "except Exception as e:\n",
    "    lg.info(e)"
   ]
  },
  {
   "cell_type": "code",
   "execution_count": 3,
   "id": "4e52eb5e",
   "metadata": {},
   "outputs": [
    {
     "name": "stdout",
     "output_type": "stream",
     "text": [
      "Input your height in Feet: 6\n",
      "Input your weight in Kilogram: 65\n",
      "Your body mass index is: 1.81 \n"
     ]
    }
   ],
   "source": [
    "# Q3\n",
    "height = float(input(\"Input your height in Feet: \"))\n",
    "weight = float(input(\"Input your weight in Kilogram: \"))\n",
    "print(\"Your body mass index is: {} \".format(round(weight / (height * height), 2)))"
   ]
  },
  {
   "cell_type": "code",
   "execution_count": 4,
   "id": "46983d77",
   "metadata": {},
   "outputs": [
    {
     "name": "stdout",
     "output_type": "stream",
     "text": [
      "23\n",
      "3.1354942159291497\n"
     ]
    }
   ],
   "source": [
    "# Q4\n",
    "import math\n",
    "n=int(input())\n",
    "print(math.log(n))"
   ]
  },
  {
   "cell_type": "code",
   "execution_count": 8,
   "id": "71641648",
   "metadata": {},
   "outputs": [
    {
     "name": "stdout",
     "output_type": "stream",
     "text": [
      "34\n",
      "772421860\n"
     ]
    }
   ],
   "source": [
    "# Q5\n",
    "import math\n",
    "def sum_first_n_natural_num(n):\n",
    "    return n*(n+1)//2\n",
    "\n",
    "\n",
    "try:\n",
    "    n=int(input())\n",
    "    cube = 4**6\n",
    "    print(sum_first_n_natural_num(n**3))\n",
    "except Exception as e:\n",
    "    lg.info(e)"
   ]
  },
  {
   "cell_type": "code",
   "execution_count": null,
   "id": "415cee8f",
   "metadata": {},
   "outputs": [],
   "source": []
  }
 ],
 "metadata": {
  "kernelspec": {
   "display_name": "Python 3",
   "language": "python",
   "name": "python3"
  },
  "language_info": {
   "codemirror_mode": {
    "name": "ipython",
    "version": 3
   },
   "file_extension": ".py",
   "mimetype": "text/x-python",
   "name": "python",
   "nbconvert_exporter": "python",
   "pygments_lexer": "ipython3",
   "version": "3.9.6"
  }
 },
 "nbformat": 4,
 "nbformat_minor": 5
}
