{
 "cells": [
  {
   "cell_type": "markdown",
   "id": "d9aefa20",
   "metadata": {},
   "source": [
    "#### 1. A robot has been given a list of movement instructions. Each instruction is either left, right, up or down, followed by a distance to move. The robot starts at [0, 0]. You want to calculate where the robot will end up and return its final position as a list.\n",
    "To illustrate, if the robot is given the following instructions:\n",
    "\n",
    "[\"right 10\", \"up 50\", \"left 30\", \"down 10\"]\n",
    "\n",
    "It will end up 20 left and 40 up from where it started, so we return [-20, 40].\n",
    "\n",
    "Examples\n",
    "\n",
    "track_robot([\"right 10\", \"up 50\", \"left 30\", \"down 10\"]) ➞ [-20, 40]\n",
    "\n",
    "track_robot([]) ➞ [0, 0] // If there are no instructions, the robot doesn't move.\n",
    "\n",
    "track_robot([\"right 100\", \"right 100\", \"up 500\", \"up 10000\"]) ➞ [200, 10500]"
   ]
  },
  {
   "cell_type": "code",
   "execution_count": 4,
   "id": "f8d0ba3f",
   "metadata": {},
   "outputs": [],
   "source": [
    "def track_robot(instruct):\n",
    "    \"\"\"\n",
    "    calculate where the robot will end up and return its final position as a list.\n",
    "    \"\"\"\n",
    "    try:\n",
    "        initial_pos = [0,0]       \n",
    "        for move in instruct:\n",
    "            command,val = move.split(\" \")\n",
    "            if command == \"left\":\n",
    "                initial_pos[0] = initial_pos[0] - int(val)\n",
    "            elif command == \"right\":\n",
    "                initial_pos[0] = initial_pos[0] + int(val)\n",
    "            elif command == \"up\":\n",
    "                initial_pos[1] = initial_pos[1] + int(val)\n",
    "            elif command == \"down\":\n",
    "                initial_pos[1] = initial_pos[1] - int(val)\n",
    "            \n",
    "        return initial_pos\n",
    "    except Exception as e:\n",
    "        print(\"error occurred\",e)\n"
   ]
  },
  {
   "cell_type": "code",
   "execution_count": 5,
   "id": "8021c2b7",
   "metadata": {},
   "outputs": [
    {
     "data": {
      "text/plain": [
       "[-20, 40]"
      ]
     },
     "execution_count": 5,
     "metadata": {},
     "output_type": "execute_result"
    }
   ],
   "source": [
    "track_robot([\"right 10\", \"up 50\", \"left 30\", \"down 10\"])"
   ]
  },
  {
   "cell_type": "code",
   "execution_count": 6,
   "id": "daae211c",
   "metadata": {},
   "outputs": [
    {
     "data": {
      "text/plain": [
       "[0, 0]"
      ]
     },
     "execution_count": 6,
     "metadata": {},
     "output_type": "execute_result"
    }
   ],
   "source": [
    "track_robot([])"
   ]
  },
  {
   "cell_type": "code",
   "execution_count": 7,
   "id": "6503e1bd",
   "metadata": {},
   "outputs": [
    {
     "data": {
      "text/plain": [
       "[200, 10500]"
      ]
     },
     "execution_count": 7,
     "metadata": {},
     "output_type": "execute_result"
    }
   ],
   "source": [
    "track_robot([\"right 100\", \"right 100\", \"up 500\", \"up 10000\"])"
   ]
  },
  {
   "cell_type": "markdown",
   "id": "eef76bad",
   "metadata": {},
   "source": [
    "#### 2. Write a function that will return the longest word in a sentence. In cases where more than one word is found, return the first one.\n",
    "Examples\n",
    "\n",
    "find_longest(\"A thing of beauty is a joy forever.\") ➞ \"forever\"\n",
    "\n",
    "find_longest(\"Forgetfulness is by all means powerless!\") ➞ \"forgetfulness\"\n",
    "\n",
    "find_longest(\"\\\"Strengths\\\" is the longest and most commonly used word that contains only a single vowel.\") ➞ \"strengths\""
   ]
  },
  {
   "cell_type": "code",
   "execution_count": 15,
   "id": "0885aef2",
   "metadata": {},
   "outputs": [],
   "source": [
    "import re\n",
    "def find_longest(string):\n",
    "    \"\"\"\n",
    "    function that will return the longest word in a sentence. In cases where more than one word is found, return the first one.\n",
    "    \"\"\"\n",
    "    try:\n",
    "        idx = 0\n",
    "        max_len = 0\n",
    "        string_list = string.split(\" \")\n",
    "        string_list = [re.sub('[^a-zA-Z0-9]+', '', i) for i in string_list]\n",
    "        for word_id in range(len(string_list)):\n",
    "            if len(string_list[word_id]) > max_len:\n",
    "                idx = word_id\n",
    "                max_len = len(string_list[word_id])\n",
    "        return string_list[idx].lower()\n",
    "            \n",
    "    except Exception as e:\n",
    "        print(\"error occurred\",e)"
   ]
  },
  {
   "cell_type": "code",
   "execution_count": 16,
   "id": "576e1c43",
   "metadata": {},
   "outputs": [
    {
     "data": {
      "text/plain": [
       "'forever'"
      ]
     },
     "execution_count": 16,
     "metadata": {},
     "output_type": "execute_result"
    }
   ],
   "source": [
    "find_longest(\"A thing of beauty is a joy forever.\") "
   ]
  },
  {
   "cell_type": "code",
   "execution_count": 17,
   "id": "0751fe17",
   "metadata": {},
   "outputs": [
    {
     "data": {
      "text/plain": [
       "'forgetfulness'"
      ]
     },
     "execution_count": 17,
     "metadata": {},
     "output_type": "execute_result"
    }
   ],
   "source": [
    "find_longest(\"Forgetfulness is by all means powerless!\") "
   ]
  },
  {
   "cell_type": "code",
   "execution_count": 19,
   "id": "99a2d7c9",
   "metadata": {},
   "outputs": [
    {
     "data": {
      "text/plain": [
       "'strengths'"
      ]
     },
     "execution_count": 19,
     "metadata": {},
     "output_type": "execute_result"
    }
   ],
   "source": [
    "find_longest(\"'Strengths' is the longest and most commonly used word that contains only a single vowel.\")"
   ]
  },
  {
   "cell_type": "markdown",
   "id": "7e421b2f",
   "metadata": {},
   "source": [
    "#### 3. Create a function to check if a candidate is qualified in an imaginary coding interview of an imaginary tech startup.\n",
    "The criteria for a candidate to be qualified in the coding interview is:\n",
    "\n",
    "1. The candidate should have complete all the questions.\n",
    "2. The maximum time given to complete the interview is 120 minutes.\n",
    "3. The maximum time given for very easy questions is 5 minutes each.\n",
    "4. The maximum time given for easy questions is 10 minutes each.\n",
    "5. The maximum time given for medium questions is 15 minutes each.\n",
    "6. The maximum time given for hard questions is 20 minutes each.\n",
    "\n",
    "If all the above conditions are satisfied, return \"qualified\", else return \"disqualified\".\n",
    "\n",
    "You will be given a list of time taken by a candidate to solve a particular question and the total time taken by the candidate to complete the interview.\n",
    "\n",
    "Given a list , in a true condition will always be in the format [very easy, very easy, easy, easy, medium, medium, hard, hard].\n",
    "\n",
    "The maximum time to complete the interview includes a buffer time of 20 minutes.\n",
    "\n",
    "Examples\n",
    "\n",
    "interview([5, 5, 10, 10, 15, 15, 20, 20], 120) ➞ \"qualified\"\n",
    "\n",
    "interview([2, 3, 8, 6, 5, 12, 10, 18], 64) ➞ \"qualified\"\n",
    "\n",
    "interview([5, 5, 10, 10, 25, 15, 20, 20], 120) ➞ \"disqualified\"\n",
    "\n",
    "Exceeded the time limit for a medium question.\n",
    "\n",
    "interview([5, 5, 10, 10, 15, 15, 20], 120) ➞ \"disqualified\"\n",
    "\n",
    "Did not complete all the questions.\n",
    "\n",
    "interview([5, 5, 10, 10, 15, 15, 20, 20], 130) ➞ \"disqualified\"\n",
    "\n",
    "Solved all the questions in their respected time limits but exceeded the total time limit of the interview."
   ]
  },
  {
   "cell_type": "code",
   "execution_count": 22,
   "id": "5efd4230",
   "metadata": {},
   "outputs": [],
   "source": [
    "def interview(questions,time):\n",
    "    \"\"\"\n",
    "    function to check if a candidate is qualified in an imaginary coding interview of an imaginary tech startup.\n",
    "    Question format [very easy, very easy, easy, easy, medium, medium, hard, hard].\n",
    "    \"\"\"\n",
    "    try:\n",
    "        result = 'qualified'\n",
    "        if len(questions) != 8 or time >120 or max(questions[0:2]) > 5 or max(questions[2:4]) > 10 or max(questions[4:6]) > 15 or max(questions[6:8]) > 20:\n",
    "            result = 'disqualified'\n",
    "        return result\n",
    "    except Exception as e:\n",
    "        print(\"error occurred\",e)"
   ]
  },
  {
   "cell_type": "code",
   "execution_count": 23,
   "id": "4bf7d755",
   "metadata": {},
   "outputs": [
    {
     "data": {
      "text/plain": [
       "'qualified'"
      ]
     },
     "execution_count": 23,
     "metadata": {},
     "output_type": "execute_result"
    }
   ],
   "source": [
    "interview([5, 5, 10, 10, 15, 15, 20, 20], 120)"
   ]
  },
  {
   "cell_type": "code",
   "execution_count": 24,
   "id": "38fe3d93",
   "metadata": {},
   "outputs": [
    {
     "data": {
      "text/plain": [
       "'qualified'"
      ]
     },
     "execution_count": 24,
     "metadata": {},
     "output_type": "execute_result"
    }
   ],
   "source": [
    "interview([2, 3, 8, 6, 5, 12, 10, 18], 64)"
   ]
  },
  {
   "cell_type": "code",
   "execution_count": 25,
   "id": "00c1e850",
   "metadata": {},
   "outputs": [
    {
     "data": {
      "text/plain": [
       "'disqualified'"
      ]
     },
     "execution_count": 25,
     "metadata": {},
     "output_type": "execute_result"
    }
   ],
   "source": [
    "interview([5, 5, 10, 10, 25, 15, 20, 20], 120)"
   ]
  },
  {
   "cell_type": "code",
   "execution_count": 26,
   "id": "03e66425",
   "metadata": {},
   "outputs": [
    {
     "data": {
      "text/plain": [
       "'disqualified'"
      ]
     },
     "execution_count": 26,
     "metadata": {},
     "output_type": "execute_result"
    }
   ],
   "source": [
    "interview([5, 5, 10, 10, 15, 15, 20], 120)"
   ]
  },
  {
   "cell_type": "code",
   "execution_count": 27,
   "id": "a41d2ccc",
   "metadata": {},
   "outputs": [
    {
     "data": {
      "text/plain": [
       "'disqualified'"
      ]
     },
     "execution_count": 27,
     "metadata": {},
     "output_type": "execute_result"
    }
   ],
   "source": [
    "interview([5, 5, 10, 10, 15, 15, 20, 20], 130)"
   ]
  },
  {
   "cell_type": "markdown",
   "id": "5779ba3c",
   "metadata": {},
   "source": [
    "#### 4. Write a function that divides a list into chunks of size n, where n is the length of each chunk.\n",
    "Examples\n",
    "\n",
    "chunkify([2, 3, 4, 5], 2) ➞ [[2, 3], [4, 5]]\n",
    "\n",
    "chunkify([2, 3, 4, 5, 6], 2) ➞ [[2, 3], [4, 5], [6]]\n",
    "\n",
    "chunkify([2, 3, 4, 5, 6, 7], 3) ➞ [[2, 3, 4], [5, 6, 7]]\n",
    "\n",
    "chunkify([2, 3, 4, 5, 6, 7], 1) ➞ [[2], [3], [4], [5], [6], [7]]\n",
    "\n",
    "chunkify([2, 3, 4, 5, 6, 7], 7) ➞ [[2, 3, 4, 5, 6, 7]]"
   ]
  },
  {
   "cell_type": "code",
   "execution_count": 30,
   "id": "9a5f8948",
   "metadata": {},
   "outputs": [],
   "source": [
    "def chunkify(input_list,n):\n",
    "    \"\"\"\n",
    "    function that divides a list into chunks of size n, where n is the length of each chunk.\n",
    "    \"\"\"\n",
    "    try:\n",
    "        \n",
    "        res = [input_list [i:i+n] for i in range(0,len(input_list),n)]\n",
    "            \n",
    "        return res\n",
    "        \n",
    "    except Exception as e:\n",
    "        print(\"error occurred\",e)\n"
   ]
  },
  {
   "cell_type": "code",
   "execution_count": 31,
   "id": "8d8fc760",
   "metadata": {},
   "outputs": [
    {
     "data": {
      "text/plain": [
       "[[2, 3], [4, 5]]"
      ]
     },
     "execution_count": 31,
     "metadata": {},
     "output_type": "execute_result"
    }
   ],
   "source": [
    "chunkify([2, 3, 4, 5], 2)"
   ]
  },
  {
   "cell_type": "code",
   "execution_count": 32,
   "id": "b113bdf6",
   "metadata": {},
   "outputs": [
    {
     "data": {
      "text/plain": [
       "[[2, 3], [4, 5], [6]]"
      ]
     },
     "execution_count": 32,
     "metadata": {},
     "output_type": "execute_result"
    }
   ],
   "source": [
    "chunkify([2, 3, 4, 5, 6], 2) "
   ]
  },
  {
   "cell_type": "code",
   "execution_count": 33,
   "id": "ccc8ed00",
   "metadata": {},
   "outputs": [
    {
     "data": {
      "text/plain": [
       "[[2, 3, 4], [5, 6, 7]]"
      ]
     },
     "execution_count": 33,
     "metadata": {},
     "output_type": "execute_result"
    }
   ],
   "source": [
    "chunkify([2, 3, 4, 5, 6, 7], 3)"
   ]
  },
  {
   "cell_type": "code",
   "execution_count": 34,
   "id": "3708728c",
   "metadata": {},
   "outputs": [
    {
     "data": {
      "text/plain": [
       "[[2], [3], [4], [5], [6], [7]]"
      ]
     },
     "execution_count": 34,
     "metadata": {},
     "output_type": "execute_result"
    }
   ],
   "source": [
    "chunkify([2, 3, 4, 5, 6, 7], 1)"
   ]
  },
  {
   "cell_type": "code",
   "execution_count": 35,
   "id": "5f32b236",
   "metadata": {},
   "outputs": [
    {
     "data": {
      "text/plain": [
       "[[2, 3, 4, 5, 6, 7]]"
      ]
     },
     "execution_count": 35,
     "metadata": {},
     "output_type": "execute_result"
    }
   ],
   "source": [
    "chunkify([2, 3, 4, 5, 6, 7], 7)"
   ]
  },
  {
   "cell_type": "markdown",
   "id": "951450fd",
   "metadata": {},
   "source": [
    "#### 5. You are given a list of strings consisting of grocery items, with prices in parentheses. Return a list of prices in float format.\n",
    "Examples\n",
    "\n",
    "get_prices([\"salad ($4.99)\"\\]) ➞ \\[4.99\\]\n",
    "\n",
    "get_prices(\\[ \"artichokes(\\$1.99)\",\n",
    "\n",
    "\"rotiserrie chicken ($5.99)\", \n",
    "\n",
    "\"gum ($0.75)\" ])\n",
    "\n",
    "➞ [1.99, 5.99, 0.75]\n",
    "\n",
    "get_prices(\\[ \"ice cream (\\$5.99)\",\n",
    "\n",
    "\"banana ($0.20)\", \n",
    "\n",
    "\"sandwich ($8.50)\",\n",
    "\n",
    "\"soup ($1.99)\"\n",
    "])\n",
    "\n",
    "➞ [5.99, 0.2, 8.50, 1.99]"
   ]
  },
  {
   "cell_type": "code",
   "execution_count": 52,
   "id": "d1aec850",
   "metadata": {},
   "outputs": [],
   "source": [
    "def get_prices(food):\n",
    "    \"\"\"\n",
    "    Return a list of prices in float format\n",
    "    \"\"\"\n",
    "    res = [float(i.split(\"$\")[-1][:-1]) for i in food]\n",
    "    return res"
   ]
  },
  {
   "cell_type": "code",
   "execution_count": 53,
   "id": "0e569cec",
   "metadata": {},
   "outputs": [
    {
     "data": {
      "text/plain": [
       "[4.99]"
      ]
     },
     "execution_count": 53,
     "metadata": {},
     "output_type": "execute_result"
    }
   ],
   "source": [
    "get_prices([\"salad ($4.99)\"])"
   ]
  },
  {
   "cell_type": "code",
   "execution_count": 54,
   "id": "78fca7bf",
   "metadata": {},
   "outputs": [
    {
     "data": {
      "text/plain": [
       "[1.99, 5.99, 0.75]"
      ]
     },
     "execution_count": 54,
     "metadata": {},
     "output_type": "execute_result"
    }
   ],
   "source": [
    "get_prices([ \"artichokes($1.99)\",\"rotiserrie chicken ($5.99)\",\"gum ($0.75)\" ])"
   ]
  },
  {
   "cell_type": "code",
   "execution_count": 55,
   "id": "b008abe2",
   "metadata": {},
   "outputs": [
    {
     "data": {
      "text/plain": [
       "[5.99, 0.2, 8.5, 1.99]"
      ]
     },
     "execution_count": 55,
     "metadata": {},
     "output_type": "execute_result"
    }
   ],
   "source": [
    "get_prices([ \"ice cream ($5.99)\",\"banana ($0.20)\",\"sandwich ($8.50)\",\"soup ($1.99)\" ])"
   ]
  }
 ],
 "metadata": {
  "kernelspec": {
   "display_name": "Python 3",
   "language": "python",
   "name": "python3"
  },
  "language_info": {
   "codemirror_mode": {
    "name": "ipython",
    "version": 3
   },
   "file_extension": ".py",
   "mimetype": "text/x-python",
   "name": "python",
   "nbconvert_exporter": "python",
   "pygments_lexer": "ipython3",
   "version": "3.7.10"
  }
 },
 "nbformat": 4,
 "nbformat_minor": 5
}
