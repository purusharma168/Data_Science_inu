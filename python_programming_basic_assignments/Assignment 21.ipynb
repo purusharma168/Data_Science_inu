{
 "cells": [
  {
   "cell_type": "code",
   "execution_count": 8,
   "metadata": {},
   "outputs": [
    {
     "data": {
      "text/plain": [
       "[2, 3, 6]"
      ]
     },
     "execution_count": 8,
     "metadata": {},
     "output_type": "execute_result"
    }
   ],
   "source": [
    "#1.\n",
    "def List(List,number):\n",
    "    List.pop(0)\n",
    "    List.append(number)\n",
    "    return List\n",
    "\n",
    "List([1,2,3],6)"
   ]
  },
  {
   "cell_type": "code",
   "execution_count": 9,
   "metadata": {},
   "outputs": [
    {
     "name": "stdout",
     "output_type": "stream",
     "text": [
      "HNOPTY\n"
     ]
    }
   ],
   "source": [
    "#3.\n",
    "\n",
    "def sortString(str):\n",
    "\treturn ''.join(sorted(str))\n",
    "\t\n",
    "# Driver code\n",
    "str = 'PYTHON'\n",
    "print(sortString(str))\n"
   ]
  },
  {
   "cell_type": "code",
   "execution_count": 10,
   "metadata": {},
   "outputs": [
    {
     "name": "stdout",
     "output_type": "stream",
     "text": [
      "Compound interest is 6288.946267774416\n"
     ]
    }
   ],
   "source": [
    "#4.\n",
    "\n",
    "\n",
    "def compound_interest(principle, rate, time):\n",
    "\n",
    "\t# Calculates compound interest\n",
    "\tAmount = principle * (pow((1 + rate / 100), time))\n",
    "\tCI = Amount - principle\n",
    "\tprint(\"Compound interest is\", CI)\n",
    "\n",
    "\n",
    "compound_interest(10000, 10.25, 5)\n",
    "\n",
    "\n"
   ]
  },
  {
   "cell_type": "code",
   "execution_count": 11,
   "metadata": {},
   "outputs": [
    {
     "name": "stdout",
     "output_type": "stream",
     "text": [
      "1\n",
      "2\n"
     ]
    }
   ],
   "source": [
    "#5.\n",
    "def List_filter(List):\n",
    "    for i in List:\n",
    "        if type(i)==int:\n",
    "            print(i)\n",
    "\n",
    "List_filter([1,\"python\",2])"
   ]
  },
  {
   "cell_type": "code",
   "execution_count": null,
   "metadata": {},
   "outputs": [],
   "source": []
  }
 ],
 "metadata": {
  "interpreter": {
   "hash": "c58d10f40f0b856b9f76130d9ed183997b07a9ef1518b907aa0aba494584eb5b"
  },
  "kernelspec": {
   "display_name": "Python 3",
   "language": "python",
   "name": "python3"
  },
  "language_info": {
   "codemirror_mode": {
    "name": "ipython",
    "version": 3
   },
   "file_extension": ".py",
   "mimetype": "text/x-python",
   "name": "python",
   "nbconvert_exporter": "python",
   "pygments_lexer": "ipython3",
   "version": "3.9.6"
  }
 },
 "nbformat": 4,
 "nbformat_minor": 2
}
