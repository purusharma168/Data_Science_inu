{
 "cells": [
  {
   "cell_type": "markdown",
   "id": "b0d88c97",
   "metadata": {},
   "source": [
    "### 1. YouTube offers different playback speed options for users. This allows users to increase or decrease the speed of the video content. Given the actual duration and playback speed of the video, calculate the playback duration of the video.\n",
    "\n",
    "Examples\n",
    "\n",
    "playback_duration(\"00:30:00\", 2) ➞ \"00:15:00\"\n",
    "\n",
    "playback_duration(\"01:20:00\", 1.5) ➞ \"00:53:20\"\n",
    "\n",
    "playback_duration(\"51:20:09\", 0.5) ➞ \"102:40:18\"\n"
   ]
  },
  {
   "cell_type": "code",
   "execution_count": 46,
   "id": "90a399d7",
   "metadata": {},
   "outputs": [],
   "source": [
    "from datetime import datetime\n",
    "from datetime import timedelta\n",
    "\n",
    "def playback_duration(time_str, playback_speed):\n",
    "    \"\"\"\n",
    "    Given the actual duration and playback speed of the video, \n",
    "    calculate the playback duration of the video.\n",
    "    \"\"\"\n",
    "    try:\n",
    "        dt = list(map(int, time_str.split(':'))) # striping time in hh:mm:ss format\n",
    "        delta = timedelta(minutes=dt[1],hours=dt[0],seconds=dt[2]) \n",
    "        new_delta = delta.total_seconds()/playback_speed # converting to sec / speed\n",
    "        hours, rest = divmod(new_delta, 3600)\n",
    "        minutes, seconds = divmod(rest, 60) # converting back to hh:mm:ss\n",
    "        return f'{int(hours):02d}:{int(minutes):02d}:{int(seconds):02d}'\n",
    "    except Exception as e:\n",
    "        print ('Error occured : ',e)"
   ]
  },
  {
   "cell_type": "code",
   "execution_count": 49,
   "id": "99c69254",
   "metadata": {},
   "outputs": [
    {
     "data": {
      "text/plain": [
       "'00:15:00'"
      ]
     },
     "execution_count": 49,
     "metadata": {},
     "output_type": "execute_result"
    }
   ],
   "source": [
    "playback_duration(\"00:30:00\", 2) "
   ]
  },
  {
   "cell_type": "markdown",
   "id": "e8fb5d49",
   "metadata": {},
   "source": [
    "### 2. We need your help to construct a building which will be a pile of n cubes. The cube at the bottom will have a volume of n^3, the cube above will have volume of (n-1)^3 and so on until the top which will have a volume of 1^3.\n",
    "\n",
    "Given the total volume m of the building, can you find the number of cubes n required for the building?\n",
    "\n",
    "In other words, you have to return an integer n such that:\n",
    "\n",
    "n^3 + (n-1)^3 + ... + 1^3 == m\n",
    "\n",
    "Return None if there is no such number.\n",
    "\n",
    "Examples\n",
    "\n",
    "pile_of_cubes(1071225) ➞ 45\n",
    "\n",
    "pile_of_cubes(4183059834009) ➞ 2022\n",
    "\n",
    "pile_of_cubes(16) ➞ None\n"
   ]
  },
  {
   "cell_type": "code",
   "execution_count": 64,
   "id": "988e6cb8",
   "metadata": {},
   "outputs": [],
   "source": [
    "def pile_of_cubes(num):\n",
    "    \"\"\"\n",
    "    Given the total volume m of the building, \n",
    "    find the number of cubes n required for the building.\n",
    "    \"\"\"\n",
    "    try:\n",
    "        n = 0\n",
    "        while int(((n*(n+1))/2)**2) < num:\n",
    "            n += 1\n",
    "            if int(((n*(n+1))/2)**2) == num:\n",
    "                return n\n",
    "           \n",
    "    except Exception as e:\n",
    "        print ('Error occured : ',e)"
   ]
  },
  {
   "cell_type": "code",
   "execution_count": 65,
   "id": "ecfb4ff3",
   "metadata": {},
   "outputs": [
    {
     "data": {
      "text/plain": [
       "45"
      ]
     },
     "execution_count": 65,
     "metadata": {},
     "output_type": "execute_result"
    }
   ],
   "source": [
    "pile_of_cubes(1071225)"
   ]
  },
  {
   "cell_type": "markdown",
   "id": "67dfc58d",
   "metadata": {},
   "source": [
    "### 3. A fulcrum of a list is an integer such that all elements to the left of it and all elements to the right of it sum to the same value. Write a function that finds the fulcrum of a list.\n",
    "\n",
    "To illustrate:\n",
    "\n",
    "find_fulcrum([3, 1, 5, 2, 4, 6, -1]) ➞ 2\n",
    "// Since [3, 1, 5] and [4, 6, -1] both sum to 9\n",
    "\n",
    "Examples\n",
    "\n",
    "find_fulcrum([1, 2, 4, 9, 10, -10, -9, 3]) ➞ 4\n",
    "\n",
    "find_fulcrum([9, 1, 9]) ➞ 1\n",
    "\n",
    "find_fulcrum([7, -1, 0, -1, 1, 1, 2, 3]) ➞ 0\n",
    "\n",
    "find_fulcrum([8, 8, 8, 8]) ➞ -1\n"
   ]
  },
  {
   "cell_type": "code",
   "execution_count": 75,
   "id": "91913528",
   "metadata": {},
   "outputs": [],
   "source": [
    "def find_fulcrum(lst):\n",
    "    \"\"\"\n",
    "    function that finds the fulcrum of a list\n",
    "    \"\"\"\n",
    "    try:\n",
    "        length = len(lst)\n",
    "        for i in range(length):\n",
    "            lsum = 0\n",
    "            rsum = 0\n",
    "            for j in range(i):\n",
    "                lsum += lst[j]\n",
    "            for k in range(i+1,length):\n",
    "                rsum += lst[k]\n",
    "            if lsum == rsum:\n",
    "                return lst[i]\n",
    "        return -1\n",
    "    except Exception as e:\n",
    "        print ('Error occured : ',e)"
   ]
  },
  {
   "cell_type": "code",
   "execution_count": 81,
   "id": "44baf896",
   "metadata": {},
   "outputs": [
    {
     "data": {
      "text/plain": [
       "-1"
      ]
     },
     "execution_count": 81,
     "metadata": {},
     "output_type": "execute_result"
    }
   ],
   "source": [
    "find_fulcrum([8, 8, 8, 8])"
   ]
  },
  {
   "cell_type": "markdown",
   "id": "1065b94d",
   "metadata": {},
   "source": [
    "### 4. Given a list of integers representing the color of each sock, determine how many pairs of socks with matching colors there are. For example, there are 7 socks with colors [1, 2, 1, 2, 1, 3, 2]. There is one pair of color 1 and one of color 2. There are three odd socks left, one of each color. The number of pairs is 2.\n",
    "\n",
    "Create a function that returns an integer representing the number of matching pairs of socks that are available.\n",
    "\n",
    "Examples\n",
    "\n",
    "sock_merchant([10, 20, 20, 10, 10, 30, 50, 10, 20]) ➞ 3\n",
    "\n",
    "sock_merchant([50, 20, 30, 90, 30, 20, 50, 20, 90]) ➞ 4\n",
    "\n",
    "sock_merchant([]) ➞ 0\n"
   ]
  },
  {
   "cell_type": "code",
   "execution_count": 101,
   "id": "f82598ef",
   "metadata": {},
   "outputs": [],
   "source": [
    "def sock_merchant(lst):\n",
    "    \"\"\"\n",
    "     function that returns an integer \n",
    "     representing the number of matching pairs of socks that are available.\n",
    "    \"\"\"\n",
    "    try:\n",
    "        d = {}\n",
    "        for ele in lst:\n",
    "            if ele in d.keys():\n",
    "                d[ele] += 1\n",
    "            else:\n",
    "                d[ele] = 1\n",
    "        count = 0\n",
    "        for val in d.values():\n",
    "            count += val // 2\n",
    "        return count\n",
    "    except Exception as e:\n",
    "        print ('Error occured : ',e)"
   ]
  },
  {
   "cell_type": "code",
   "execution_count": 104,
   "id": "b1b235e7",
   "metadata": {},
   "outputs": [
    {
     "data": {
      "text/plain": [
       "0"
      ]
     },
     "execution_count": 104,
     "metadata": {},
     "output_type": "execute_result"
    }
   ],
   "source": [
    "sock_merchant([]) "
   ]
  },
  {
   "cell_type": "markdown",
   "id": "569932ab",
   "metadata": {},
   "source": [
    "### 5. Create a function that takes a string containing integers as well as other characters and return the sum of the negative integers only.\n",
    "\n",
    "Examples\n",
    "\n",
    "negative_sum(\"-12 13%14&-11\") ➞ -23\n",
    "\n",
    "-12 + -11 = -23\n",
    "\n",
    "negative_sum(\"22 13%14&-11-22 13 12\") ➞ -33\n",
    "\n",
    "-11 + -22 = -33\n"
   ]
  },
  {
   "cell_type": "code",
   "execution_count": 117,
   "id": "aebd0f07",
   "metadata": {},
   "outputs": [],
   "source": [
    "import re\n",
    "def negative_sum(string):\n",
    "    \"\"\"\n",
    "    function that takes a string containing integers as well as other characters\n",
    "    and return the sum of the negative integers only\n",
    "    \"\"\"\n",
    "    try:\n",
    "        lst = [int(i) for i in re.findall(\"-\\d+\", string)]\n",
    "        return sum(lst)\n",
    "    except Exception as e:\n",
    "        print ('Error occured : ',e)"
   ]
  },
  {
   "cell_type": "code",
   "execution_count": 119,
   "id": "ae4c8141",
   "metadata": {},
   "outputs": [
    {
     "data": {
      "text/plain": [
       "-33"
      ]
     },
     "execution_count": 119,
     "metadata": {},
     "output_type": "execute_result"
    }
   ],
   "source": [
    "negative_sum(\"22 13%14&-11-22 13 12\")"
   ]
  }
 ],
 "metadata": {
  "kernelspec": {
   "display_name": "Python 3",
   "language": "python",
   "name": "python3"
  },
  "language_info": {
   "codemirror_mode": {
    "name": "ipython",
    "version": 3
   },
   "file_extension": ".py",
   "mimetype": "text/x-python",
   "name": "python",
   "nbconvert_exporter": "python",
   "pygments_lexer": "ipython3",
   "version": "3.7.10"
  }
 },
 "nbformat": 4,
 "nbformat_minor": 5
}
