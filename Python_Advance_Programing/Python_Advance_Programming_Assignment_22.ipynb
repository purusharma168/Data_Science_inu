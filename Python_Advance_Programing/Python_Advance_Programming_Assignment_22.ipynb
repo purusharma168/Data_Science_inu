{
 "cells": [
  {
   "cell_type": "markdown",
   "id": "a350d11c",
   "metadata": {},
   "source": [
    "#### 1. Create a class Smoothie and do the following:\n",
    " -Create an instance attribute called ingredients.\n",
    " \n",
    " -Create a get_cost method which calculates the total cost of the ingredients used to make the smoothie.\n",
    " \n",
    " -Create a get_price method which returns the number from get_cost plus the number from get_cost multiplied by 1.5. Round to two decimal places.\n",
    " \n",
    " -Create a get_name method which gets the ingredients and puts them in alphabetical order into a nice descriptive sentence. If there are multiple ingredients, add the word \"Fusion\" to the end but otherwise, add \"Smoothie\". Remember to change \"-berries\" to \"-berry\". See the examples below.\n",
    "```\n",
    "Ingredient    Price\n",
    "Strawberries  $1.50\n",
    "Banana        $0.50\n",
    "Mango         $2.50\n",
    "Blueberries   $1.00\n",
    "Raspberries   $1.00\n",
    "Apple         $1.75\n",
    "Pineapple     $3.50\n",
    "```\n",
    "Examples:\n",
    "```\n",
    "s1 = Smoothie([\"Banana\"])\n",
    "s1.ingredients ➞ [\"Banana\"]\n",
    "s1.get_cost() ➞ \"$0.50\"\n",
    "s1.get_price() ➞ \"$1.25\"\n",
    "s1.get_name() ➞ \"Banana Smoothie\"\n",
    "s2 = Smoothie([\"Raspberries\", \"Strawberries\", \"Blueberries\"])\n",
    "s2.ingredients ➞ [\"Raspberries\", \"Strawberries\", \"Blueberries\"]\n",
    "s2.get_cost() ➞ \"$3.50\"\n",
    "s2.get_price() ➞ \"$8.75\"\n",
    "s2.get_name() ➞ \"Blueberry Raspberry Strawberry Fusion\"\n",
    "```"
   ]
  },
  {
   "cell_type": "code",
   "execution_count": 40,
   "id": "129ff167",
   "metadata": {},
   "outputs": [],
   "source": [
    "class Smoothie:\n",
    "    \n",
    "    ing_price = {\n",
    "            \"Strawberries\": 1.50,\n",
    "            \"Banana\": 0.50,\n",
    "            \"Mango\": 2.50,\n",
    "            \"Blueberries\": 1.00,\n",
    "            \"Raspberries\": 1.00,\n",
    "            \"Apple\": 1.75,\n",
    "            \"Pineapple\": 3.50\n",
    "                }\n",
    "    \n",
    "    def __init__(self,ingredients):\n",
    "        self.ingredients = ingredients\n",
    "        \n",
    "    def get_cost(self):\n",
    "        cost=0\n",
    "        for ing in self.ingredients:\n",
    "            if ing in Smoothie.ing_price:\n",
    "                cost += Smoothie.ing_price[ing]\n",
    "        return \"$\" + f\"{cost:.2f}\"\n",
    "    \n",
    "    def get_price(self):\n",
    "        price = self.get_cost()\n",
    "        price = float(price[1:])\n",
    "        return \"$\" + f\"{(price+price*1.5):.2f}\"\n",
    "    \n",
    "    def get_name(self):\n",
    "        names = []\n",
    "\n",
    "        for ing in self.ingredients:\n",
    "            if ing in Smoothie.ing_price:\n",
    "                  names.append(ing.replace('berries','berry'))\n",
    "                    \n",
    "        if len(names) <=1:\n",
    "            return names[0] + \" Smoothie\"\n",
    "        else:\n",
    "            return \" \".join(sorted(names))+\" Fusion\""
   ]
  },
  {
   "cell_type": "code",
   "execution_count": 41,
   "id": "ade3b275",
   "metadata": {},
   "outputs": [
    {
     "data": {
      "text/plain": [
       "['Banana']"
      ]
     },
     "execution_count": 41,
     "metadata": {},
     "output_type": "execute_result"
    }
   ],
   "source": [
    "s1 = Smoothie([\"Banana\"])\n",
    "s1.ingredients "
   ]
  },
  {
   "cell_type": "code",
   "execution_count": 42,
   "id": "f6d04fd8",
   "metadata": {},
   "outputs": [
    {
     "data": {
      "text/plain": [
       "'$0.50'"
      ]
     },
     "execution_count": 42,
     "metadata": {},
     "output_type": "execute_result"
    }
   ],
   "source": [
    "s1.get_cost() "
   ]
  },
  {
   "cell_type": "code",
   "execution_count": 43,
   "id": "c723b663",
   "metadata": {},
   "outputs": [
    {
     "data": {
      "text/plain": [
       "'$1.25'"
      ]
     },
     "execution_count": 43,
     "metadata": {},
     "output_type": "execute_result"
    }
   ],
   "source": [
    "s1.get_price() "
   ]
  },
  {
   "cell_type": "code",
   "execution_count": 44,
   "id": "ebe57a16",
   "metadata": {},
   "outputs": [
    {
     "data": {
      "text/plain": [
       "'Banana Smoothie'"
      ]
     },
     "execution_count": 44,
     "metadata": {},
     "output_type": "execute_result"
    }
   ],
   "source": [
    "s1.get_name()"
   ]
  },
  {
   "cell_type": "code",
   "execution_count": 45,
   "id": "779bcc11",
   "metadata": {},
   "outputs": [
    {
     "data": {
      "text/plain": [
       "['Raspberries', 'Strawberries', 'Blueberries']"
      ]
     },
     "execution_count": 45,
     "metadata": {},
     "output_type": "execute_result"
    }
   ],
   "source": [
    "s2 = Smoothie([\"Raspberries\", \"Strawberries\", \"Blueberries\"])\n",
    "s2.ingredients "
   ]
  },
  {
   "cell_type": "code",
   "execution_count": 46,
   "id": "a5c45358",
   "metadata": {},
   "outputs": [
    {
     "data": {
      "text/plain": [
       "'$3.50'"
      ]
     },
     "execution_count": 46,
     "metadata": {},
     "output_type": "execute_result"
    }
   ],
   "source": [
    "s2.get_cost() "
   ]
  },
  {
   "cell_type": "code",
   "execution_count": 47,
   "id": "78c7d381",
   "metadata": {},
   "outputs": [
    {
     "data": {
      "text/plain": [
       "'$8.75'"
      ]
     },
     "execution_count": 47,
     "metadata": {},
     "output_type": "execute_result"
    }
   ],
   "source": [
    "s2.get_price() "
   ]
  },
  {
   "cell_type": "code",
   "execution_count": 48,
   "id": "75645b27",
   "metadata": {},
   "outputs": [
    {
     "data": {
      "text/plain": [
       "'Blueberry Raspberry Strawberry Fusion'"
      ]
     },
     "execution_count": 48,
     "metadata": {},
     "output_type": "execute_result"
    }
   ],
   "source": [
    "s2.get_name()"
   ]
  },
  {
   "cell_type": "markdown",
   "id": "2336ef0d",
   "metadata": {},
   "source": [
    "#### 2. Your task is to write a program which allows teachers to create a multiple choice test in a class called Testpaper and to be also able to assign a minimum pass mark. The testpaper's subject should also be included. The attributes are in the following order:\n",
    "\n",
    " -subject\n",
    " \n",
    " -markscheme\n",
    " \n",
    " -pass_mark\n",
    "\n",
    "As well as that, we need to create student objects to take the test itself! Create another class called Student and do the following:\n",
    "\n",
    "Create an attribute called tests_taken and set the default as 'No tests taken'.\n",
    "\n",
    "Make a method called take_test(), which takes in the testpaper object they are completing and the student's answers. Compare what they wrote to the mark scheme, and append to the/create a dictionary assigned to tests_taken in the way as shown in the point below.\n",
    "\n",
    "Each key in the dictionary should be the testpaper subject and each value should be a string in the format seen in the examples below (whether or not the student has failed, and their percentage in brackets).\n",
    "\n",
    "```\n",
    "Examples:\n",
    "paper1 = Testpaper(\"Maths\", [\"1A\", \"2C\", \"3D\", \"4A\", \"5A\"], \"60%\")  \n",
    "paper2 = Testpaper(\"Chemistry\", [\"1C\", \"2C\", \"3D\", \"4A\"], \"75%\")  \n",
    "paper3 = Testpaper(\"Computing\", [\"1D\", \"2C\", \"3C\", \"4B\", \"5D\", \"6C\", \"7A\"], \"75%\")\n",
    "\n",
    "student1 = Student()   \n",
    "student2 = Student()\n",
    "\n",
    "student1.tests_taken ➞ \"No tests taken\"\n",
    "student1.take_test(paper1, [\"1A\", \"2D\", \"3D\", \"4A\", \"5A\"])\n",
    "student1.tests_taken ➞ {\"Maths\" : \"Passed! (80%)\"}\n",
    "\n",
    "student2.take_test(paper2, [\"1C\", \"2D\", \"3A\", \"4C\"])\n",
    "student2.take_test(paper3, [\"1A\", \"2C\", \"3A\", \"4C\", \"5D\", \"6C\", \"7B\"])\n",
    "student2.tests_taken ➞ {\"Chemistry\" : \"Failed! (25%)\", \"Computing\" : \"Failed! (43%)\"}\n",
    "```"
   ]
  },
  {
   "cell_type": "code",
   "execution_count": 65,
   "id": "a8109b55",
   "metadata": {},
   "outputs": [],
   "source": [
    "class Testpaper:\n",
    "    def __init__(self,subject,markscheme,pass_mark):\n",
    "        self.subject = subject\n",
    "        self.markscheme = markscheme\n",
    "        self.pass_mark = pass_mark\n",
    "        \n",
    "class Student:\n",
    "    def __init__(self):\n",
    "        self.tests_taken = \"No tests taken\"\n",
    "    def take_test(self,testpaper,student_answer):\n",
    "        if isinstance(self.tests_taken,str):\n",
    "            self.tests_taken={}\n",
    "        correct = 0\n",
    "        for i in range(len(testpaper.markscheme)):\n",
    "            if testpaper.markscheme[i] == student_answer[i]:\n",
    "                correct += 1\n",
    "        marks_obtained = round(correct/len(testpaper.markscheme)*100)\n",
    "        \n",
    "        if marks_obtained >= float(testpaper.pass_mark[:-1]):\n",
    "            self.tests_taken[testpaper.subject] = f\"Passed! ({str(marks_obtained)}%)\"\n",
    "        else:\n",
    "            self.tests_taken[testpaper.subject] = f\"Falied! ({str(marks_obtained)}%)\""
   ]
  },
  {
   "cell_type": "code",
   "execution_count": 66,
   "id": "4d572149",
   "metadata": {},
   "outputs": [],
   "source": [
    "paper1 = Testpaper(\"Maths\", [\"1A\", \"2C\", \"3D\", \"4A\", \"5A\"], \"60%\")\n",
    "paper2 = Testpaper(\"Chemistry\", [\"1C\", \"2C\", \"3D\", \"4A\"], \"75%\")\n",
    "paper3 = Testpaper(\"Computing\", [\"1D\", \"2C\", \"3C\", \"4B\", \"5D\", \"6C\", \"7A\"], \"75%\")\n",
    "\n",
    "student1 = Student()\n",
    "student2 = Student()"
   ]
  },
  {
   "cell_type": "code",
   "execution_count": 67,
   "id": "d1f5d198",
   "metadata": {},
   "outputs": [
    {
     "data": {
      "text/plain": [
       "'No tests taken'"
      ]
     },
     "execution_count": 67,
     "metadata": {},
     "output_type": "execute_result"
    }
   ],
   "source": [
    "student1.tests_taken"
   ]
  },
  {
   "cell_type": "code",
   "execution_count": 68,
   "id": "cf530e9e",
   "metadata": {},
   "outputs": [],
   "source": [
    "student1.take_test(paper1, [\"1A\", \"2D\", \"3D\", \"4A\", \"5A\"])"
   ]
  },
  {
   "cell_type": "code",
   "execution_count": 69,
   "id": "1f231739",
   "metadata": {},
   "outputs": [
    {
     "data": {
      "text/plain": [
       "{'Maths': 'Passed! (80%)'}"
      ]
     },
     "execution_count": 69,
     "metadata": {},
     "output_type": "execute_result"
    }
   ],
   "source": [
    "student1.tests_taken"
   ]
  },
  {
   "cell_type": "code",
   "execution_count": 70,
   "id": "0a1905bd",
   "metadata": {},
   "outputs": [
    {
     "data": {
      "text/plain": [
       "{'Chemistry': 'Falied! (25%)', 'Computing': 'Falied! (43%)'}"
      ]
     },
     "execution_count": 70,
     "metadata": {},
     "output_type": "execute_result"
    }
   ],
   "source": [
    "student2.take_test(paper2, [\"1C\", \"2D\", \"3A\", \"4C\"])\n",
    "student2.take_test(paper3, [\"1A\", \"2C\", \"3A\", \"4C\", \"5D\", \"6C\", \"7B\"])\n",
    "student2.tests_taken"
   ]
  },
  {
   "cell_type": "markdown",
   "id": "b42e7c73",
   "metadata": {},
   "source": [
    "#### 3. Due to unforseen circumstances in Suburbia, the trains will be delayed by a further 10 minutes.\n",
    "Create a function that will help to plan out and manage these delays! Create a function called manage_delays that does the following:\n",
    "\n",
    "Parameters will be the train object, a destination and number of minutes the delay is.\n",
    "\n",
    "Increment to the train object's expected_time by the delay, if the destination given is in the train object's destinations.\n",
    "```\n",
    "Examples:\n",
    "trains = [\n",
    "  Train([\"Townsville\", \"Suburbia\", \"Urbantska\"], \"13:04\"),\n",
    "  Train([\"Farmsdale\", \"Suburbia\", \"Lakeside Valley\"], \"13:20\"),\n",
    "  Train([\"Suburbia\", \"Townsville\", \"Lakeside Valley\"], \"13:22\")\n",
    "]\n",
    "\n",
    "for t in trains:\n",
    "    manage_delays(t, \"Lakeside Valley\", 60)\n",
    "\n",
    "trains[0].expected_time ➞ \"13:04\"\n",
    "trains[1].expected_time ➞ \"14:20\"\n",
    "trains[2].expected_time ➞ \"14:22\"\n",
    "```"
   ]
  },
  {
   "cell_type": "code",
   "execution_count": 85,
   "id": "b541b51a",
   "metadata": {},
   "outputs": [],
   "source": [
    "class Train:\n",
    "    def __init__(self,destinations,expected_time):\n",
    "        self.destinations = destinations\n",
    "        self.expected_time = expected_time\n",
    "        \n",
    "def manage_delays(train_object, destination, number_of_minutes):\n",
    "    try:\n",
    "        if destination in train_object.destinations:\n",
    "            expected_time_hour, expected_time_minute = train_object.expected_time.split(\":\")\n",
    "            delay_hour, delay_minute = (int(expected_time_hour)*60 + int(expected_time_minute) + int(number_of_minutes))//60 , (int(expected_time_hour)*60 + int(expected_time_minute) + int(number_of_minutes))%60\n",
    "            train_object.expected_time = f\"{str(delay_hour)}:{str(delay_minute)}\"\n",
    "    \n",
    "    except Exception as e:\n",
    "        print (\"Error occured : \",e)"
   ]
  },
  {
   "cell_type": "code",
   "execution_count": 86,
   "id": "5ebf3c20",
   "metadata": {},
   "outputs": [],
   "source": [
    "trains = [\n",
    "  Train([\"Townsville\", \"Suburbia\", \"Urbantska\"], \"13:04\"),\n",
    "  Train([\"Farmsdale\", \"Suburbia\", \"Lakeside Valley\"], \"13:20\"),\n",
    "  Train([\"Suburbia\", \"Townsville\", \"Lakeside Valley\"], \"13:22\")\n",
    "]\n",
    "\n",
    "for t in trains:\n",
    "    manage_delays(t, \"Lakeside Valley\", 60)"
   ]
  },
  {
   "cell_type": "code",
   "execution_count": 87,
   "id": "5fefc910",
   "metadata": {},
   "outputs": [
    {
     "data": {
      "text/plain": [
       "'13:04'"
      ]
     },
     "execution_count": 87,
     "metadata": {},
     "output_type": "execute_result"
    }
   ],
   "source": [
    "trains[0].expected_time"
   ]
  },
  {
   "cell_type": "code",
   "execution_count": 88,
   "id": "efe19fb9",
   "metadata": {},
   "outputs": [
    {
     "data": {
      "text/plain": [
       "'14:20'"
      ]
     },
     "execution_count": 88,
     "metadata": {},
     "output_type": "execute_result"
    }
   ],
   "source": [
    "trains[1].expected_time"
   ]
  },
  {
   "cell_type": "code",
   "execution_count": 89,
   "id": "b429c9ed",
   "metadata": {},
   "outputs": [
    {
     "data": {
      "text/plain": [
       "'14:22'"
      ]
     },
     "execution_count": 89,
     "metadata": {},
     "output_type": "execute_result"
    }
   ],
   "source": [
    "trains[2].expected_time"
   ]
  },
  {
   "cell_type": "markdown",
   "id": "bcb19c7e",
   "metadata": {},
   "source": [
    "#### 4. Ted works as a computer programmer at Minecraft Inc. His boss has just given him an important assignment to update the code for the minecart tracks by the end of April. However, he has recently had to self-isolate due to Corvid-19 and has left the code for the tracks. BACK AT WORK!! He has the shorthand for the tracks he's supposed to look at, and where the carts are suppost to end up, but not the actual code.\n",
    "He knows that:\n",
    "```\n",
    "\"-->\" = \"Speed-Up Track\" ⁠— If a minecart interacts with this track, it's velocity increases by 2.67 BPS unless it's at its maximum speed of 8 BPS.\n",
    "\"<-->\" = \"Powered Track\" ⁠— If a minecart interacts with this track, it's velocity remains the same.\n",
    "\"<--\" = \"Slow-Down Track\" ⁠— If a minecart interacts with this track, it's velocity decreases by 2.67 BPS unless it's velocity equals 0, at which point it stops.\n",
    "\"---\" = \"Unpowered Track\" ⁠— If a minecart interacts with this track, it's velocity decreases by 1 BPS unless it's velocity equals 0, at which point it stops.\n",
    "```\n",
    "\n",
    "Help Ted by writing a class for the tracks that interact with the provided Minecart class as shown above. And then write a function that will take a list of the shorthand tracks and:\n",
    "\n",
    "If the Minecart reaches the last peice of Track, return True.\n",
    "\n",
    "Else return the index of the Track where the Minecart stops.\n",
    "```\n",
    "Examples:\n",
    "mine_run([\"-->\", \"-->\", \"-->\", \"<--\", \"<--\", \"<--\"]) ➞ True\n",
    "mine_run([\"-->\", \"<--\", \"-->\", \"-->\", \"<-->\", \"---\"]) ➞ 1\n",
    "```"
   ]
  },
  {
   "cell_type": "code",
   "execution_count": 213,
   "id": "3f7076bc",
   "metadata": {},
   "outputs": [],
   "source": [
    "class Minecraft:\n",
    "    def __init__(self,speed):\n",
    "        self.track = dict()\n",
    "        self.track[\"-->\"] = 8 if speed+2.67 > 8 else speed + 2.67\n",
    "        self.track[\"<-->\"] = speed\n",
    "        self.track[\"<--\"] = speed if speed < 2.67 else speed - 2.67 \n",
    "        self.track[\"---\"] = speed if speed < 1 else speed - 1\n",
    "        \n",
    "def mine_run(list_of_tracks):\n",
    "    try:\n",
    "        speed = 0\n",
    "        res = True\n",
    "        for t in list_of_tracks:\n",
    "            if speed <= 8:\n",
    "                speed = Minecraft(speed).track[t]\n",
    "\n",
    "                if speed == 0 and list_of_tracks.index(t) < len(list_of_tracks) - 1:\n",
    "                    res = list_of_tracks.index(t)\n",
    "                    break\n",
    "        return res\n",
    "\n",
    "    except Exception as e:\n",
    "        print (\"Error occured : \",e)"
   ]
  },
  {
   "cell_type": "code",
   "execution_count": 214,
   "id": "9d2ced4b",
   "metadata": {},
   "outputs": [
    {
     "data": {
      "text/plain": [
       "True"
      ]
     },
     "execution_count": 214,
     "metadata": {},
     "output_type": "execute_result"
    }
   ],
   "source": [
    "mine_run([\"-->\", \"-->\", \"-->\", \"<--\", \"<--\", \"<--\"])"
   ]
  },
  {
   "cell_type": "code",
   "execution_count": 215,
   "id": "d8152d6e",
   "metadata": {},
   "outputs": [
    {
     "data": {
      "text/plain": [
       "1"
      ]
     },
     "execution_count": 215,
     "metadata": {},
     "output_type": "execute_result"
    }
   ],
   "source": [
    "mine_run([\"-->\", \"<--\", \"-->\", \"-->\", \"<-->\", \"---\"])"
   ]
  },
  {
   "cell_type": "markdown",
   "id": "54e05bbd",
   "metadata": {},
   "source": [
    "#### 5. Make a Rectangle class with four parameters, an x, a y (representing the top-left corner of the rectangle), a width and a height exclusively in that order.\n",
    "Lastly, make a function intersecting that takes two Rectangle objects and returns True if those objects are intersecting (colliding), else return False.\n",
    "\n",
    "Examples\n",
    "\n",
    "a = Rectangle(10, 20, 100, 20)\n",
    "\n",
    "b = Rectangle(10, 40, 15, 20)\n",
    "\n",
    "c = Rectangle(50, 50, 20, 30)\n",
    "\n",
    "intersecting(a, b) ➞ True\n",
    "\n",
    "intersecting(a, c) ➞ False\n",
    "\n",
    "intersecting(b, c) ➞ True"
   ]
  },
  {
   "cell_type": "code",
   "execution_count": 198,
   "id": "20714517",
   "metadata": {},
   "outputs": [],
   "source": [
    "class Rectangle:\n",
    "    def __init__(self,x,y,width,height):\n",
    "        self.x = x\n",
    "        self.y = y\n",
    "        self.width = width\n",
    "        self.height = height\n",
    "        \n",
    "def intersecting(rectangle_object1,rectangle_object2):\n",
    "    rectangle_1 = [rectangle_object1.x, rectangle_object1.x + rectangle_object1.width, rectangle_object1.y, rectangle_object1.y - rectangle_object1.height]\n",
    "    rectangle_2 = [rectangle_object2.x, rectangle_object2.x + rectangle_object2.width, rectangle_object2.y, rectangle_object2.y - rectangle_object2.height]\n",
    "    intersecting = True\n",
    "    if (rectangle_1[3] >= rectangle_2[2] or rectangle_2[3] >= rectangle_1[2]):\n",
    "        intersecting = False\n",
    "    elif (rectangle_1[0] >= rectangle_2[1] or rectangle_2[0] >= rectangle_1[1]):\n",
    "        intersecting = False        \n",
    "    return intersecting"
   ]
  },
  {
   "cell_type": "code",
   "execution_count": 199,
   "id": "73608f05",
   "metadata": {},
   "outputs": [],
   "source": [
    "a = Rectangle(10, 20, 100, 20)\n",
    "\n",
    "b = Rectangle(10, 40, 15, 20)\n",
    "\n",
    "c = Rectangle(50, 50, 20, 30)"
   ]
  },
  {
   "cell_type": "code",
   "execution_count": 200,
   "id": "36cf4820",
   "metadata": {},
   "outputs": [
    {
     "data": {
      "text/plain": [
       "False"
      ]
     },
     "execution_count": 200,
     "metadata": {},
     "output_type": "execute_result"
    }
   ],
   "source": [
    "intersecting(a, b)"
   ]
  },
  {
   "cell_type": "code",
   "execution_count": 201,
   "id": "78f858c6",
   "metadata": {},
   "outputs": [
    {
     "data": {
      "text/plain": [
       "False"
      ]
     },
     "execution_count": 201,
     "metadata": {},
     "output_type": "execute_result"
    }
   ],
   "source": [
    "intersecting(a, c)"
   ]
  },
  {
   "cell_type": "code",
   "execution_count": 202,
   "id": "e92e03c4",
   "metadata": {},
   "outputs": [
    {
     "data": {
      "text/plain": [
       "False"
      ]
     },
     "execution_count": 202,
     "metadata": {},
     "output_type": "execute_result"
    }
   ],
   "source": [
    "intersecting(b, c)"
   ]
  }
 ],
 "metadata": {
  "kernelspec": {
   "display_name": "Python 3",
   "language": "python",
   "name": "python3"
  },
  "language_info": {
   "codemirror_mode": {
    "name": "ipython",
    "version": 3
   },
   "file_extension": ".py",
   "mimetype": "text/x-python",
   "name": "python",
   "nbconvert_exporter": "python",
   "pygments_lexer": "ipython3",
   "version": "3.7.10"
  }
 },
 "nbformat": 4,
 "nbformat_minor": 5
}
