{
 "cells": [
  {
   "cell_type": "markdown",
   "id": "44b4b199",
   "metadata": {},
   "source": [
    "### 1. Create a function that takes a number n (integer greater than zero) as an argument, and returns 2 if n is odd and 8 if n is even.\n",
    "\n",
    "You can only use the following arithmetic operators: addition of numbers +, subtraction of numbers -, multiplication of number *, division of number /, and exponentiation **.\n",
    "\n",
    "You are not allowed to use any other methods in this challenge (i.e. no if statements, comparison operators, etc).\n",
    "\n",
    "Examples\n",
    "\n",
    "f(1) ➞ 2\n",
    "\n",
    "f(2) ➞ 8\n",
    "\n",
    "f(3) ➞ 2\n"
   ]
  },
  {
   "cell_type": "code",
   "execution_count": 1,
   "id": "5ef66df3",
   "metadata": {},
   "outputs": [],
   "source": [
    "def f(num):\n",
    "    \"\"\"\n",
    "    function that takes a number n (integer greater than zero) as an argument,\n",
    "    and returns 2 if n is odd and 8 if n is even.\n",
    "    \"\"\"\n",
    "    try:\n",
    "        integer = 2 * int(num/2)\n",
    "        rem = num - integer\n",
    "        return 2**(3-2*rem)\n",
    "    except Exception as e:\n",
    "        print (\"Error occured : \",e)"
   ]
  },
  {
   "cell_type": "code",
   "execution_count": 2,
   "id": "7ac54576",
   "metadata": {},
   "outputs": [
    {
     "data": {
      "text/plain": [
       "2"
      ]
     },
     "execution_count": 2,
     "metadata": {},
     "output_type": "execute_result"
    }
   ],
   "source": [
    "f(3)"
   ]
  },
  {
   "cell_type": "markdown",
   "id": "d4e0a1da",
   "metadata": {},
   "source": [
    "### 2. Create a function that returns the majority vote in a list. A majority vote is an element that occurs > N/2 times in a list (where N is the length of the list).\n",
    "\n",
    "Examples\n",
    "\n",
    "majority_vote([\"A\", \"A\", \"B\"]) ➞ \"A\"\n",
    "\n",
    "majority_vote([\"A\", \"A\", \"A\", \"B\", \"C\", \"A\"]) ➞ \"A\"\n",
    "\n",
    "majority_vote([\"A\", \"B\", \"B\", \"A\", \"C\", \"C\"]) ➞ None\n"
   ]
  },
  {
   "cell_type": "code",
   "execution_count": 3,
   "id": "568c69bb",
   "metadata": {},
   "outputs": [],
   "source": [
    "def majority_vote(lst):\n",
    "    \"\"\"\n",
    "    function that returns the majority vote in a list. A majority vote is an element\n",
    "    that occurs > N/2 times in a list (where N is the length of the list).\n",
    "    \"\"\"\n",
    "    try:\n",
    "        unique = set(lst)\n",
    "        for i in unique:\n",
    "            if lst.count(i) > int(len(lst)/2):\n",
    "                return i\n",
    "        print (\"None\")\n",
    "    except Exception as e:\n",
    "        print (\"Error occured : \",e)"
   ]
  },
  {
   "cell_type": "code",
   "execution_count": 4,
   "id": "0a6f078c",
   "metadata": {},
   "outputs": [
    {
     "data": {
      "text/plain": [
       "'A'"
      ]
     },
     "execution_count": 4,
     "metadata": {},
     "output_type": "execute_result"
    }
   ],
   "source": [
    "majority_vote([\"A\", \"A\", \"B\"]) "
   ]
  },
  {
   "cell_type": "markdown",
   "id": "a91a0e46",
   "metadata": {},
   "source": [
    "### 3. Create a function that takes a string txt and censors any word from a given list lst. The text removed must be replaced by the given character char.\n",
    "\n",
    "Examples\n",
    "\n",
    "censor_string(\"Today is a Wednesday!\", [\"Today\", \"a\"], \"-\") ➞ \"----- is - Wednesday!\"\n",
    "\n",
    "censor_string(\"The cow jumped over the moon.\", [\"cow\", \"over\"], \"*\"), \"The \\*** jumped \\**** the moon.\")\n",
    "\n",
    "censor_string(\"Why did the chicken cross the road?\", [\"Did\", \"chicken\", \"road\"], \"*\") ➞ \"Why \\*** the \\******* cross the \\****?\"\n",
    "\n"
   ]
  },
  {
   "cell_type": "code",
   "execution_count": 5,
   "id": "504ec6eb",
   "metadata": {},
   "outputs": [],
   "source": [
    "import re\n",
    "def censor_string(string, string_list, char):\n",
    "    \"\"\"\n",
    "    function that takes a string txt and censors any word from a given list lst.\n",
    "    \"\"\"\n",
    "    try:\n",
    "        \n",
    "        for i in string_list:            \n",
    "            string = re.sub(r\"\\b\"+i+r\"\\b\", len(i)*char, string,flags=re.I)                    \n",
    "        return string\n",
    "    except Exception as e:\n",
    "        print (\"Error occured : \",e)"
   ]
  },
  {
   "cell_type": "code",
   "execution_count": 6,
   "id": "ecf3cb9a",
   "metadata": {},
   "outputs": [
    {
     "data": {
      "text/plain": [
       "'Why *** the ******* cross the ****?'"
      ]
     },
     "execution_count": 6,
     "metadata": {},
     "output_type": "execute_result"
    }
   ],
   "source": [
    "censor_string(\"Why did the chicken cross the road?\", [\"Did\", \"chicken\", \"road\"], \"*\")"
   ]
  },
  {
   "cell_type": "markdown",
   "id": "69d00a15",
   "metadata": {},
   "source": [
    "### 4. In mathematics a Polydivisible Number (or magic number) is a number in a given number base with digits abcde... that has the following properties:\n",
    "\n",
    "-  Its first digit a is not 0.\n",
    "- The number formed by its first two digits ab is a multiple of 2.\n",
    "- The number formed by its first three digits abc is a multiple of 3.\n",
    "- The number formed by its first four digits abcd is a multiple of 4.\n",
    "\n",
    "Create a function which takes an integer n and returns True if the given number is a Polydivisible Number and False otherwise.\n",
    "\n",
    "Examples\n",
    "\n",
    "is_polydivisible(1232) ➞ True\n",
    "\n",
    "1     / 1 = 1\n",
    "\n",
    "12    / 2 = 6\n",
    "\n",
    "123   / 3 = 41\n",
    "\n",
    "1232  / 4 = 308\n",
    "\n",
    "is_polydivisible(123220 ) ➞ False\n",
    "\n",
    "1   / 1 = 1\n",
    "\n",
    "12   / 2 = 6\n",
    "\n",
    "123   / 3 = 41\n",
    "\n",
    "1232   / 4 = 308\n",
    "\n",
    "12322   / 5 = 2464.4         # Not a Whole Number\n",
    "\n",
    "123220   /6 = 220536.333...  # Not a Whole Number\n"
   ]
  },
  {
   "cell_type": "code",
   "execution_count": 7,
   "id": "b5da1d94",
   "metadata": {},
   "outputs": [],
   "source": [
    "def order(num):\n",
    "    count = 0\n",
    "    while num>0:\n",
    "        num = num // 10\n",
    "        count += 1\n",
    "    return count\n",
    "\n",
    "def is_polydivisible(num):\n",
    "    \"\"\"\n",
    "    function which takes an integer n and \n",
    "    returns True if the given number \n",
    "    is a Polydivisible Number and False otherwise.\n",
    "    \"\"\"\n",
    "    try:\n",
    "        count = order(num)\n",
    "        first = num // 10**(count-1)\n",
    "        if first == 0:\n",
    "            return False\n",
    "        for i in range(1,count+1):\n",
    "            temp = num // 10**(count-i)\n",
    "            res = temp / i\n",
    "            if int(res) != res:\n",
    "                return False\n",
    "        return True\n",
    "    except Exception as e:\n",
    "        print (\"Error occured : \",e) "
   ]
  },
  {
   "cell_type": "code",
   "execution_count": 8,
   "id": "b5a6a22d",
   "metadata": {},
   "outputs": [
    {
     "data": {
      "text/plain": [
       "True"
      ]
     },
     "execution_count": 8,
     "metadata": {},
     "output_type": "execute_result"
    }
   ],
   "source": [
    "is_polydivisible(1232)"
   ]
  },
  {
   "cell_type": "markdown",
   "id": "e33959e4",
   "metadata": {},
   "source": [
    "### 5. Create a function that takes a list of numbers and returns the sum of all prime numbers in the list.\n",
    "\n",
    "Examples\n",
    "\n",
    "sum_primes([1, 2, 3, 4, 5, 6, 7, 8, 9, 10]) ➞ 17\n",
    "\n",
    "sum_primes([2, 3, 4, 11, 20, 50, 71]) ➞ 87\n",
    "\n",
    "sum_primes([]) ➞ None\n"
   ]
  },
  {
   "cell_type": "code",
   "execution_count": 9,
   "id": "1c0537ab",
   "metadata": {},
   "outputs": [],
   "source": [
    "def is_prime(num):\n",
    "    if num == 1:\n",
    "        return False\n",
    "    for i in range(2,num):\n",
    "        if num % i == 0:\n",
    "            return False\n",
    "    return True\n",
    "\n",
    "def sum_primes(numlist):\n",
    "    \"\"\"\n",
    "    function that takes a list of numbers\n",
    "    and returns the sum of all prime numbers in the list.\n",
    "    \"\"\"\n",
    "    try:\n",
    "        if not numlist:\n",
    "            print (\"None\")\n",
    "        else:\n",
    "            total = sum(list(filter(is_prime,numlist)))\n",
    "            return total\n",
    "    except Exception as e:\n",
    "        print (\"Error occured : \",e) "
   ]
  },
  {
   "cell_type": "code",
   "execution_count": 10,
   "id": "e04fc573",
   "metadata": {},
   "outputs": [
    {
     "data": {
      "text/plain": [
       "87"
      ]
     },
     "execution_count": 10,
     "metadata": {},
     "output_type": "execute_result"
    }
   ],
   "source": [
    "sum_primes([2, 3, 4, 11, 20, 50, 71])"
   ]
  }
 ],
 "metadata": {
  "kernelspec": {
   "display_name": "Python 3",
   "language": "python",
   "name": "python3"
  },
  "language_info": {
   "codemirror_mode": {
    "name": "ipython",
    "version": 3
   },
   "file_extension": ".py",
   "mimetype": "text/x-python",
   "name": "python",
   "nbconvert_exporter": "python",
   "pygments_lexer": "ipython3",
   "version": "3.7.10"
  }
 },
 "nbformat": 4,
 "nbformat_minor": 5
}
