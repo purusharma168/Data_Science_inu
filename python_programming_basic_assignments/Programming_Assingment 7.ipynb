{
 "cells": [
  {
   "cell_type": "markdown",
   "id": "d1483b6b",
   "metadata": {},
   "source": [
    "1. Write a Python Program to find sum of array?\n",
    "2. Write a Python Program to find largest element in an array?\n",
    "3. Write a Python Program for array rotation?\n",
    "4. Write a Python Program to Split the array and add the first part to the end?\n",
    "5. Write a Python Program to check if given array is Monotonic?"
   ]
  },
  {
   "cell_type": "code",
   "execution_count": 1,
   "id": "66c170a3",
   "metadata": {},
   "outputs": [
    {
     "name": "stdout",
     "output_type": "stream",
     "text": [
      "Enter the size of array: 1\n",
      "Enter 1 number:2\n",
      "Sum =  2\n"
     ]
    }
   ],
   "source": [
    "import logging as lg\n",
    "lg.basicConfig(filename=\"error.log\",level=lg.INFO)\n",
    "def sum_array(n):\n",
    "    try:\n",
    "        li = []\n",
    "        sum=0\n",
    "        for i in range(1,n+1):\n",
    "            num  = int(input(\"Enter {} number:\".format(i)))\n",
    "            li.append(num)\n",
    "\n",
    "        for i in li:\n",
    "            sum+=i\n",
    "\n",
    "        return sum\n",
    "    except Exception as e:\n",
    "        lg.info(e)\n",
    "\n",
    "try:\n",
    "    n=int(input(\"Enter the size of array: \"))\n",
    "    print(\"Sum = \" , sum_array(n))\n",
    "except Exception as e:\n",
    "    lg.info(e)"
   ]
  },
  {
   "cell_type": "code",
   "execution_count": 2,
   "id": "56437dcb",
   "metadata": {},
   "outputs": [
    {
     "name": "stdout",
     "output_type": "stream",
     "text": [
      "Enter the size of array: 3\n",
      "Enter 1 number:4\n",
      "Enter 2 number:4\n",
      "Enter 3 number:2\n",
      "Max in array is =  4\n"
     ]
    }
   ],
   "source": [
    "# Q2\n",
    "import logging as lg\n",
    "lg.basicConfig(filename=\"error.log\",level=lg.INFO)\n",
    "def Max_Array(n):\n",
    "    try:\n",
    "        li = []\n",
    "        for i in range(1,n+1):\n",
    "            num  = int(input(\"Enter {} number:\".format(i)))\n",
    "            li.append(num)\n",
    "        return max(li)\n",
    "    except Exception as e:\n",
    "        lg.info(e)\n",
    "\n",
    "try:\n",
    "    n=int(input(\"Enter the size of array: \"))\n",
    "    print(\"Max in array is = \" , Max_Array(n))\n",
    "except Exception as e:\n",
    "    lg.info(e)"
   ]
  },
  {
   "cell_type": "code",
   "execution_count": 3,
   "id": "0ea01a79",
   "metadata": {},
   "outputs": [
    {
     "name": "stdout",
     "output_type": "stream",
     "text": [
      "Enter the size of array: 5\n",
      "Enter 1 number:4\n",
      "Enter 2 number:3\n",
      "Enter 3 number:2\n",
      "Enter 4 number:4\n",
      "Enter 5 number:5\n",
      "[5, 4, 2, 3, 4]\n"
     ]
    }
   ],
   "source": [
    "# Q3\n",
    "import logging as lg\n",
    "lg.basicConfig(filename=\"error.log\",level=lg.INFO)\n",
    "def Array_Rotation(n):\n",
    "    try:\n",
    "        li = []\n",
    "        for i in range(1,n+1):\n",
    "            num  = int(input(\"Enter {} number:\".format(i)))\n",
    "            li.append(num)\n",
    "            \n",
    "        j = len(li)-1\n",
    "        for i in range(len(li)//2):\n",
    "            temp = li[i]\n",
    "            li[i] = li[j]\n",
    "            li[j] = temp\n",
    "            j-=1\n",
    "        print(li)\n",
    "    except Exception as e:\n",
    "        lg.info(e)\n",
    "\n",
    "try:\n",
    "    n=int(input(\"Enter the size of array: \"))\n",
    "    Array_Rotation(n)\n",
    "except Exception as e:\n",
    "    lg.info(e)"
   ]
  },
  {
   "cell_type": "code",
   "execution_count": 4,
   "id": "3ad48b7f",
   "metadata": {},
   "outputs": [
    {
     "name": "stdout",
     "output_type": "stream",
     "text": [
      "Enter the size of array: 5\n",
      "Enter 1 number:1\n",
      "Enter 2 number:2\n",
      "Enter 3 number:3\n",
      "Enter 4 number:4\n",
      "Enter 5 number:5\n",
      "(0, 5)\n",
      "(1, 2)\n",
      "(2, 3)\n",
      "(3, 4)\n",
      "(4, 1)\n"
     ]
    }
   ],
   "source": [
    "# Q4\n",
    "import logging as lg\n",
    "lg.basicConfig(filename=\"error.log\",level=lg.INFO)\n",
    "def Fun(n):\n",
    "    try:\n",
    "        li = []\n",
    "        for i in range(1,n+1):\n",
    "            num  = int(input(\"Enter {} number:\".format(i)))\n",
    "            li.append(num)\n",
    "        temp=li[0]\n",
    "        li[0]=li[len(li)-1]\n",
    "        li[len(li)-1]=temp\n",
    "        for i in enumerate(li):\n",
    "            print(i)\n",
    "    except Exception as e:\n",
    "        lg.info(e)\n",
    "\n",
    "try:\n",
    "    n=int(input(\"Enter the size of array: \"))\n",
    "    Fun(n)\n",
    "except Exception as e:\n",
    "    lg.info(e)"
   ]
  },
  {
   "cell_type": "code",
   "execution_count": 5,
   "id": "d2d709c5",
   "metadata": {},
   "outputs": [
    {
     "name": "stdout",
     "output_type": "stream",
     "text": [
      "Enter the size of array: 6\n",
      "Enter 1 number:5\n",
      "Enter 2 number:4\n",
      "Enter 3 number:3\n",
      "Enter 4 number:2\n",
      "Enter 5 number:1\n",
      "Enter 6 number:1\n",
      "Monotonic Array\n"
     ]
    }
   ],
   "source": [
    "#Q5\n",
    "import logging as lg\n",
    "lg.basicConfig(filename=\"error.log\",level=lg.INFO)\n",
    "def Monotonic(n):\n",
    "    try:\n",
    "        li = []\n",
    "        for i in range(1,n+1):\n",
    "            num  = int(input(\"Enter {} number:\".format(i)))\n",
    "            li.append(num)\n",
    "            \n",
    "        temp=0\n",
    "        result=True\n",
    "        for i in range(len(li)-1):\n",
    "            if(li[i]>=li[i+1]):\n",
    "                if(temp==1):\n",
    "                    result=False\n",
    "                    break\n",
    "                else:\n",
    "                    temp=0\n",
    "                    continue\n",
    "            elif(li[i]<=li[i+1]):\n",
    "                if(i!=0 and temp==0):\n",
    "                    result=False\n",
    "                    break\n",
    "                else:\n",
    "                    temp=1\n",
    "                    continue\n",
    "        return result\n",
    "    except Exception as e:\n",
    "            lg.info(e)\n",
    "try:\n",
    "    n=int(input(\"Enter the size of array: \"))\n",
    "    if(Monotonic(n)==True):\n",
    "        print(\"Monotonic Array\")\n",
    "    else:\n",
    "        print(\"Not a Monotonic Array\")\n",
    "except Exception as e:\n",
    "    lg.info(e)"
   ]
  },
  {
   "cell_type": "code",
   "execution_count": null,
   "id": "d04fbcb6",
   "metadata": {},
   "outputs": [],
   "source": []
  }
 ],
 "metadata": {
  "kernelspec": {
   "display_name": "Python 3",
   "language": "python",
   "name": "python3"
  },
  "language_info": {
   "codemirror_mode": {
    "name": "ipython",
    "version": 3
   },
   "file_extension": ".py",
   "mimetype": "text/x-python",
   "name": "python",
   "nbconvert_exporter": "python",
   "pygments_lexer": "ipython3",
   "version": "3.9.6"
  }
 },
 "nbformat": 4,
 "nbformat_minor": 5
}
