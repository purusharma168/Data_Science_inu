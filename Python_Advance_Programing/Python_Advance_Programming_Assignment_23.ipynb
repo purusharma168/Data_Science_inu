{
 "cells": [
  {
   "cell_type": "markdown",
   "id": "08b59036",
   "metadata": {},
   "source": [
    "#### 1. Create a class Sudoku that takes a string as an argument. The string will contain the numbers of a regular 9x9 sudoku board left to right and top to bottom, with zeros filling up the empty cells.\n",
    "Attributes\n",
    "\n",
    "An instance of the class Sudoku will have one attribute:\n",
    "\n",
    "board: a list representing the board, with sublits for each row, with the numbers as integers. Empty cell represented with 0.\n",
    "Methods\n",
    "\n",
    "An instance of the class Sudoku wil have three methods:\n",
    "\n",
    "get_row(n): will return the row in position n.\n",
    "\n",
    "get_col(n): will return the column in position n.\n",
    "\n",
    "get_sqr([n, m]): will return the square in position n if only one argument is given, and the square to which the cell in position (n, m) belongs to if two arguments are given.\n",
    "Example\n",
    "\n",
    "game = Sudoku(\"417950030000000700060007000050009106800600000000003400900005000000430000200701580\")\n",
    "\n",
    "```\n",
    "game.board ➞ \n",
    "[\n",
    "[4, 1, 7, 9, 5, 0, 0, 3, 0], \n",
    "[0, 0, 0, 0, 0, 0, 7, 0, 0], \n",
    "[0, 6, 0, 0, 0, 7, 0, 0, 0], \n",
    "[0, 5, 0, 0, 0, 9, 1, 0, 6], \n",
    "[8, 0, 0, 6, 0, 0, 0, 0, 0], \n",
    "[0, 0, 0, 0, 0, 3, 4, 0, 0], \n",
    "[9, 0, 0, 0, 0, 5, 0, 0, 0], \n",
    "[0, 0, 0, 4, 3, 0, 0, 0, 0], \n",
    "[2, 0, 0, 7, 0, 1, 5, 8, 0] \n",
    "]\n",
    "\n",
    "game.get_row(0) ➞ [4, 1, 7, 9, 5, 0, 0, 3, 0]\n",
    "\n",
    "game.get_col(8) ➞ [0, 0, 0, 6, 0, 0, 0, 0, 0]\n",
    "\n",
    "game.get_sqr(1) ➞ [9, 5, 0, 0, 0, 0, 0, 0, 7]\n",
    "\n",
    "game.get_sqr(1, 8) ➞ [0, 3, 0, 7, 0, 0, 0, 0, 0]\n",
    "\n",
    "game.get_sqr(8, 3) ➞ [0, 0, 5, 4, 3, 0, 7, 0, 1]\n",
    "```"
   ]
  },
  {
   "cell_type": "code",
   "execution_count": 3,
   "id": "1ceb9385",
   "metadata": {},
   "outputs": [],
   "source": [
    "import numpy as np\n",
    "class Sudoku:\n",
    "    def __init__(self,string):\n",
    "        self.board = np.array(list(map(int,string))).reshape(9,9)\n",
    "        \n",
    "    def get_row(self,n):\n",
    "        return self.board[n].tolist()\n",
    "    \n",
    "    def get_col(self,n):\n",
    "        return self.board[:,n].tolist()\n",
    "    \n",
    "    def get_sqr(self, n, m = None):\n",
    "        if m:\n",
    "            row = int(n/3)*3\n",
    "            col = int(m/3)*3\n",
    "        else:\n",
    "            row = int(n/3)*3\n",
    "            col = int(n%3)*3\n",
    "        \n",
    "        res = [self.board[i][j] for i in range(row,row+3) for j in range(col,col+3)]\n",
    "        return res"
   ]
  },
  {
   "cell_type": "code",
   "execution_count": 4,
   "id": "8983cbcb",
   "metadata": {},
   "outputs": [],
   "source": [
    "game = Sudoku(\"417950030000000700060007000050009106800600000000003400900005000000430000200701580\")"
   ]
  },
  {
   "cell_type": "code",
   "execution_count": 5,
   "id": "4f946032",
   "metadata": {},
   "outputs": [
    {
     "data": {
      "text/plain": [
       "[4, 1, 7, 9, 5, 0, 0, 3, 0]"
      ]
     },
     "execution_count": 5,
     "metadata": {},
     "output_type": "execute_result"
    }
   ],
   "source": [
    "game.get_row(0)"
   ]
  },
  {
   "cell_type": "code",
   "execution_count": 6,
   "id": "155ed52a",
   "metadata": {},
   "outputs": [
    {
     "data": {
      "text/plain": [
       "[0, 0, 0, 6, 0, 0, 0, 0, 0]"
      ]
     },
     "execution_count": 6,
     "metadata": {},
     "output_type": "execute_result"
    }
   ],
   "source": [
    "game.get_col(8)"
   ]
  },
  {
   "cell_type": "code",
   "execution_count": 7,
   "id": "876f357a",
   "metadata": {},
   "outputs": [
    {
     "data": {
      "text/plain": [
       "[9, 5, 0, 0, 0, 0, 0, 0, 7]"
      ]
     },
     "execution_count": 7,
     "metadata": {},
     "output_type": "execute_result"
    }
   ],
   "source": [
    "game.get_sqr(1)"
   ]
  },
  {
   "cell_type": "code",
   "execution_count": 8,
   "id": "d991e464",
   "metadata": {},
   "outputs": [
    {
     "data": {
      "text/plain": [
       "[0, 3, 0, 7, 0, 0, 0, 0, 0]"
      ]
     },
     "execution_count": 8,
     "metadata": {},
     "output_type": "execute_result"
    }
   ],
   "source": [
    "game.get_sqr(1, 8)"
   ]
  },
  {
   "cell_type": "code",
   "execution_count": 9,
   "id": "963058ac",
   "metadata": {},
   "outputs": [
    {
     "data": {
      "text/plain": [
       "[0, 0, 5, 4, 3, 0, 7, 0, 1]"
      ]
     },
     "execution_count": 9,
     "metadata": {},
     "output_type": "execute_result"
    }
   ],
   "source": [
    "game.get_sqr(8, 3)"
   ]
  },
  {
   "cell_type": "markdown",
   "id": "c3cb1a6e",
   "metadata": {},
   "source": [
    "#### 2. The function input is two non-empty linked lists representing two non-negative integers. The digits are stored in reverse order, and each of their nodes contains a single digit. Add the two numbers and return the sum as a linked list, in which the digits are also stored in reversed order. The class ListNode, building block of the linked list, is defined in the Tests tab.\n",
    "Class definition\n",
    "```\n",
    "class ListNode:\n",
    "    def __init__(self, val=0, next=None):\n",
    "        self.val = val\n",
    "        self.next = next\n",
    "```\n",
    "```\n",
    "Example:\n",
    "lt1 = ListNode(2)\n",
    "lt1.add_data([4, 3])\n",
    "lt2 = ListNode(5)\n",
    "lt2.add_data([6, 4]) # print(lt1.get_data())    # [2, 4, 3]\n",
    "# print(lt2.get_data())    # [5, 6, 4]\n",
    "# print(342 + 465)         # 807\n",
    "add_two_numbers(lt1, lt2).get_data() ➞ [7, 0, 8]\n",
    "\n",
    "lt1 = ListNode(0)\n",
    "lt2 = ListNode(0)\n",
    "# print(lt1.get_data())    # [0]\n",
    "# print(lt2.get_data())    # [0]\n",
    "# print(0 + 0)             # 0\n",
    "add_two_numbers(lt1, lt2).get_data() ➞ [0]\n",
    "\n",
    "lt1 = ListNode(9)\n",
    "lt1.add_data([9,9,9,9,9,9])\n",
    "lt2 = ListNode(9)\n",
    "lt2.add_data([9,9,9])\n",
    "# print(lt1.get_data())    # [9, 9, 9, 9, 9, 9, 9]\n",
    "# print(lt2.get_data())    # [9, 9, 9, 9]\n",
    "# print(9999999 + 9999)    # 10009998\n",
    "add_two_numbers(lt1, lt2).get_data() ➞ [8, 9, 9, 9, 0, 0, 0, 1]\n",
    "```"
   ]
  },
  {
   "cell_type": "code",
   "execution_count": 10,
   "id": "dba1231f",
   "metadata": {},
   "outputs": [],
   "source": [
    "class ListNode:\n",
    "    def __init__(self, val=0, next=None):\n",
    "        self.val = val\n",
    "        self.next = next\n",
    "        \n",
    "    def add_two_Numbers(self, listnode1, listnode2):\n",
    "        \n",
    "        res = ListNode(0)\n",
    "        reverse_res = res\n",
    "        remainder = 0\n",
    "                \n",
    "        while listnode1 or listnode2 or remainder:            \n",
    "            ans1  = listnode1.val if listnode1 else 0\n",
    "            ans2  = listnode2.val if listnode2 else 0\n",
    "            \n",
    "            remainder, div = divmod(ans1 + ans2 + remainder, 10)    \n",
    "                      \n",
    "            reverse_res.next = ListNode(div)\n",
    "            reverse_res = reverse_res.next                      \n",
    "            \n",
    "            listnode1 = listnode1.next if listnode1 else None\n",
    "            listnode2 = listnode2.next if listnode1 else None\n",
    "               \n",
    "        return res.next"
   ]
  },
  {
   "cell_type": "code",
   "execution_count": 11,
   "id": "1619356b",
   "metadata": {},
   "outputs": [
    {
     "ename": "NameError",
     "evalue": "name 'add_two_numbers' is not defined",
     "output_type": "error",
     "traceback": [
      "\u001b[0;31m---------------------------------------------------------------------------\u001b[0m",
      "\u001b[0;31mNameError\u001b[0m                                 Traceback (most recent call last)",
      "\u001b[0;32m<ipython-input-11-c4ee4fffdad0>\u001b[0m in \u001b[0;36m<module>\u001b[0;34m\u001b[0m\n\u001b[1;32m      1\u001b[0m \u001b[0mlt1\u001b[0m \u001b[0;34m=\u001b[0m \u001b[0mListNode\u001b[0m\u001b[0;34m(\u001b[0m\u001b[0;36m0\u001b[0m\u001b[0;34m)\u001b[0m\u001b[0;34m\u001b[0m\u001b[0;34m\u001b[0m\u001b[0m\n\u001b[1;32m      2\u001b[0m \u001b[0mlt2\u001b[0m \u001b[0;34m=\u001b[0m \u001b[0mListNode\u001b[0m\u001b[0;34m(\u001b[0m\u001b[0;36m0\u001b[0m\u001b[0;34m)\u001b[0m\u001b[0;34m\u001b[0m\u001b[0;34m\u001b[0m\u001b[0m\n\u001b[0;32m----> 3\u001b[0;31m \u001b[0madd_two_numbers\u001b[0m\u001b[0;34m(\u001b[0m\u001b[0mlt1\u001b[0m\u001b[0;34m,\u001b[0m\u001b[0mlt2\u001b[0m\u001b[0;34m)\u001b[0m\u001b[0;34m\u001b[0m\u001b[0;34m\u001b[0m\u001b[0m\n\u001b[0m",
      "\u001b[0;31mNameError\u001b[0m: name 'add_two_numbers' is not defined"
     ]
    }
   ],
   "source": [
    "lt1 = ListNode(0)\n",
    "lt2 = ListNode(0)\n",
    "add_two_numbers(lt1,lt2)"
   ]
  },
  {
   "cell_type": "markdown",
   "id": "1e28adaf",
   "metadata": {},
   "source": [
    "#### 3. Write a class called CoffeeShop, which has three instance variables:\n",
    "1.name : a string (basically, of the shop)\n",
    "\n",
    "2.menu : a list of items (of dict type), with each item containing the item (name of the item), type (whether a food or a drink) and price.\n",
    "\n",
    "3.orders : an empty list\n",
    "\n",
    "and seven methods:\n",
    "\n",
    "1.add_order: adds the name of the item to the end of the orders list if it exists on the menu, otherwise, return \"This item is currently unavailable!\"\n",
    "\n",
    "2.fulfill_order: if the orders list is not empty, return \"The {item} is ready!\". If the orders list is empty, return \"All orders have been fulfilled!\"\n",
    "\n",
    "3.list_orders: returns the item names of the orders taken, otherwise, an empty list.\n",
    "\n",
    "4.due_amount: returns the total amount due for the orders taken.\n",
    "\n",
    "5.cheapest_item: returns the name of the cheapest item on the menu.\n",
    "\n",
    "6.drinks_only: returns only the item names of type drink from the menu.\n",
    "\n",
    "7.food_only: returns only the item names of type food from the menu.\n",
    "\n",
    "IMPORTANT: Orders are fulfilled in a FIFO (first-in, first-out) order.\n",
    "```\n",
    "Examples\n",
    "\n",
    "tcs.add_order(\"hot cocoa\") ➞ \"This item is currently unavailable!\"\n",
    "\n",
    "Tesha's coffee shop does not sell hot cocoa\n",
    "tcs.add_order(\"iced tea\") ➞ \"This item is currently unavailable!\"\n",
    "\n",
    "specifying the variant of \"iced tea\" will help the process\n",
    "tcs.add_order(\"cinnamon roll\") ➞ \"Order added!\"\n",
    "\n",
    "tcs.add_order(\"iced coffee\") ➞ \"Order added!\"\n",
    "\n",
    "tcs.list_orders ➞ [\"cinnamon roll\", \"iced coffee\"]\n",
    "\n",
    "all items of the current order\n",
    "tcs.due_amount() ➞ 2.17\n",
    "\n",
    "tcs.fulfill_order() ➞ \"The cinnamon roll is ready!\"\n",
    "\n",
    "tcs.fulfill_order() ➞ \"The iced coffee is ready!\"\n",
    "\n",
    "tcs.fulfill_order() ➞ \"All orders have been fulfilled!\"\n",
    "\n",
    "all orders have been presumably served\n",
    "tcs.list_orders() ➞ []\n",
    "\n",
    "an empty list is returned if all orders have been exhausted\n",
    "tcs.due_amount() ➞ 0.0\n",
    "\n",
    "no new orders taken, expect a zero payable\n",
    "tcs.cheapest_item() ➞ \"lemonade\"\n",
    "\n",
    "tcs.drinks_only() ➞ [\"orange juice\", \"lemonade\", \"cranberry juice\", \"pineapple juice\", \"lemon iced tea\", \"vanilla chai latte\", \"hot chocolate\", \"iced coffee\"]\n",
    "\n",
    "tcs.food_only() ➞ [\"tuna sandwich\", \"ham and cheese sandwich\", \"bacon and egg\", \"steak\", \"hamburger\", \"cinnamon roll\"]\n",
    "```\n"
   ]
  },
  {
   "cell_type": "code",
   "execution_count": 12,
   "id": "42f93d52",
   "metadata": {},
   "outputs": [],
   "source": [
    "class CoffeeShop:\n",
    "    def __init__(self,name, menu):\n",
    "        self.name = name\n",
    "        self.menu = menu\n",
    "        self.orders = []\n",
    "        \n",
    "    def add_order(self,item_name):\n",
    "        items = [order['name'].lower() for order in self.menu]\n",
    "        if  item_name in items:\n",
    "            print(\"Order added!\")\n",
    "            self.orders.append(item_name)\n",
    "        else:\n",
    "            print( \"This item is currently unavailable!\")\n",
    "        \n",
    "    def fulfill_order(self):\n",
    "        if len(self.orders)  != 0:\n",
    "            print(f\"The {self.orders.pop(0)} is ready!\")\n",
    "        else:\n",
    "            print( \"All orders have been fulfilled!\")\n",
    "        \n",
    "    def list_orders(self):\n",
    "        return self.orders\n",
    "        \n",
    "    def due_amount(self):\n",
    "        res = [order['price'] for order in self.menu if order['name'].lower() in self.orders]\n",
    "        return round(sum(res),4)\n",
    "    \n",
    "    def cheapest_item(self):\n",
    "        cheapest = min([order['price'] for order in self.menu])\n",
    "        for order in self.menu:\n",
    "            if order[\"price\"] == cheapest:\n",
    "                res = order[\"name\"]\n",
    "                break\n",
    "        return res\n",
    "    \n",
    "    def drinks_only(self):\n",
    "        res = [order['name'] for order in self.menu if order['type'] == 'drink']\n",
    "        return res\n",
    "    \n",
    "    def food_only(self):\n",
    "        res = [order['name'] for order in self.menu if order['type'] == 'food']\n",
    "        return res"
   ]
  },
  {
   "cell_type": "code",
   "execution_count": 13,
   "id": "20980120",
   "metadata": {},
   "outputs": [],
   "source": [
    "name = \"Radinas\"\n",
    "menu = [{'name':'cinnamon roll','type':'food','price': 2.35},{'name':'Soup of the Day','type':'food','price': 3.5},{'name':'Pizza','type':'food','price': 5.0},  {'name':'Sandwich','type':'food','price': 3.0},{'name':'Juice','type':'drink','price':2.0},{'name':'Green Tea','type':'drink','price':3.0},{'name':'Chai Latte','type':'drink','price':4.50},{'name':'Expresso','type':'drink','price':1.00},{'name':'iced coffee','type':'drink','price':3.45},{'name':'Cappuccino','type':'drink','price':4.45}]"
   ]
  },
  {
   "cell_type": "code",
   "execution_count": 14,
   "id": "a6b50218",
   "metadata": {},
   "outputs": [],
   "source": [
    "tcs=CoffeeShop(name,menu)"
   ]
  },
  {
   "cell_type": "code",
   "execution_count": 15,
   "id": "6d72e2fc",
   "metadata": {},
   "outputs": [
    {
     "name": "stdout",
     "output_type": "stream",
     "text": [
      "This item is currently unavailable!\n"
     ]
    }
   ],
   "source": [
    "tcs.add_order(\"hot cocoa\") "
   ]
  },
  {
   "cell_type": "code",
   "execution_count": 16,
   "id": "3045c282",
   "metadata": {},
   "outputs": [
    {
     "name": "stdout",
     "output_type": "stream",
     "text": [
      "Order added!\n",
      "Order added!\n"
     ]
    }
   ],
   "source": [
    "tcs.add_order(\"cinnamon roll\")\n",
    "tcs.add_order(\"iced coffee\")"
   ]
  },
  {
   "cell_type": "code",
   "execution_count": 17,
   "id": "cb13535a",
   "metadata": {},
   "outputs": [
    {
     "data": {
      "text/plain": [
       "['cinnamon roll', 'iced coffee']"
      ]
     },
     "execution_count": 17,
     "metadata": {},
     "output_type": "execute_result"
    }
   ],
   "source": [
    "tcs.list_orders()"
   ]
  },
  {
   "cell_type": "code",
   "execution_count": 18,
   "id": "6e72c8d4",
   "metadata": {},
   "outputs": [
    {
     "data": {
      "text/plain": [
       "5.8"
      ]
     },
     "execution_count": 18,
     "metadata": {},
     "output_type": "execute_result"
    }
   ],
   "source": [
    "tcs.due_amount()"
   ]
  },
  {
   "cell_type": "code",
   "execution_count": 19,
   "id": "da6141ca",
   "metadata": {},
   "outputs": [
    {
     "name": "stdout",
     "output_type": "stream",
     "text": [
      "The cinnamon roll is ready!\n"
     ]
    }
   ],
   "source": [
    "tcs.fulfill_order()"
   ]
  },
  {
   "cell_type": "code",
   "execution_count": 20,
   "id": "1d18641b",
   "metadata": {},
   "outputs": [
    {
     "name": "stdout",
     "output_type": "stream",
     "text": [
      "The iced coffee is ready!\n"
     ]
    }
   ],
   "source": [
    "tcs.fulfill_order()"
   ]
  },
  {
   "cell_type": "code",
   "execution_count": 21,
   "id": "4cf05a0a",
   "metadata": {},
   "outputs": [
    {
     "name": "stdout",
     "output_type": "stream",
     "text": [
      "All orders have been fulfilled!\n"
     ]
    }
   ],
   "source": [
    "tcs.fulfill_order()"
   ]
  },
  {
   "cell_type": "code",
   "execution_count": 22,
   "id": "9789dd35",
   "metadata": {},
   "outputs": [
    {
     "data": {
      "text/plain": [
       "[]"
      ]
     },
     "execution_count": 22,
     "metadata": {},
     "output_type": "execute_result"
    }
   ],
   "source": [
    "tcs.list_orders()"
   ]
  },
  {
   "cell_type": "code",
   "execution_count": 23,
   "id": "46498840",
   "metadata": {},
   "outputs": [
    {
     "data": {
      "text/plain": [
       "0"
      ]
     },
     "execution_count": 23,
     "metadata": {},
     "output_type": "execute_result"
    }
   ],
   "source": [
    "tcs.due_amount()"
   ]
  },
  {
   "cell_type": "code",
   "execution_count": 24,
   "id": "9d041219",
   "metadata": {},
   "outputs": [
    {
     "data": {
      "text/plain": [
       "'Expresso'"
      ]
     },
     "execution_count": 24,
     "metadata": {},
     "output_type": "execute_result"
    }
   ],
   "source": [
    "tcs.cheapest_item()"
   ]
  },
  {
   "cell_type": "code",
   "execution_count": 25,
   "id": "41d70f06",
   "metadata": {},
   "outputs": [
    {
     "data": {
      "text/plain": [
       "['Juice', 'Green Tea', 'Chai Latte', 'Expresso', 'iced coffee', 'Cappuccino']"
      ]
     },
     "execution_count": 25,
     "metadata": {},
     "output_type": "execute_result"
    }
   ],
   "source": [
    "tcs.drinks_only()"
   ]
  },
  {
   "cell_type": "code",
   "execution_count": 26,
   "id": "020048ef",
   "metadata": {},
   "outputs": [
    {
     "data": {
      "text/plain": [
       "['cinnamon roll', 'Soup of the Day', 'Pizza', 'Sandwich']"
      ]
     },
     "execution_count": 26,
     "metadata": {},
     "output_type": "execute_result"
    }
   ],
   "source": [
    "tcs.food_only()"
   ]
  },
  {
   "cell_type": "markdown",
   "id": "da23fd35",
   "metadata": {},
   "source": [
    "#### 4. In this challenge, write a funcion loneliest_number to find the last Lonely number inside a sequence. A number is Lonely if the distance from its closest Prime sets a new record of the sequence.\n",
    "Sequence = from 0 to 3\n",
    "```\n",
    "Any number lower than 3 doesn't have a Prime preceeding it...\n",
    "...so that you'll consider only its next closest Prime.\n",
    "0 has distance 2 from its closest Prime (2)\n",
    "\n",
    "It's a new record! 0 It's the first lonely number of the sequence\n",
    "1 has distance 1 from its closest Prime (2) 2 has distance 1 from 3 3 has distance 1 from 2\n",
    "\n",
    "The sequence 0 to 3 has only one Lonely number: 0\n",
    "Sequence = Numbers from 5 to 10\n",
    "\n",
    "5 has distance 2 from its closest Prime (3 or 7)\n",
    "\n",
    "It's a new record! 5 It's the first lonely number of the sequence\n",
    "6 has distance 1 from 5 or 7 7 has distance 2 from 5 8 has distance 1 from 7 9 has distance 2 from 7 or 11 10 has distance 1 from 11\n",
    "\n",
    "# The sequence 5 to 10 has only one Lonely number: 5\n",
    "Sequence = Numbers from 19 to 24\n",
    "\n",
    "19 has distance 2 from its closest Prime (17)\n",
    "\n",
    "# It's a new record! 19 It's the first lonely number of the sequence\n",
    "20 has distance 1 from 19 21 has distance 2 from 5 22 has distance 1 from 23 23 has distance 4 from 17 or 29\n",
    "\n",
    "# It's a new record! 23 is the second lonely number of the sequence\n",
    "24 has distance 1 from 23\n",
    "\n",
    "The sequence 19 to 24 has two Lonely numbers: 19 and 23\n",
    "The function loneliest_number must accept two integers lo and hi being the inclusive bounds of the sequence to analyze, and returns a dictionay (dict) object with the following keys and values:\n",
    "\n",
    "number: is the last Lonely number found in the given sequence;\n",
    "distance: is the distance of the number from its closest Prime;\n",
    "closest: is the Prime closest to number (if two Primes are equally distant from number, return the higher Prime).\n",
    "Examples\n",
    "\n",
    "loneliest_number(0, 22) ➞ { number: 0, distance: 2, closest: 2 }\n",
    "\n",
    "loneliest_number(8, 123) ➞ { number: 53, distance: 6, closest: 59 }\n",
    "\n",
    "loneliest_number(938, 1190) ➞ { number: 1140, distance: 11, closest: 1151 }\n",
    "\n",
    "loneliest_number(120, 1190) ➞ { number: 211, distance: 12, closest: 223 }\n",
    "\n",
    "```"
   ]
  },
  {
   "cell_type": "code",
   "execution_count": 66,
   "id": "084c9d49",
   "metadata": {},
   "outputs": [],
   "source": [
    "from sympy import nextprime,prevprime\n",
    "\n",
    "def loneliest_number(low,high):\n",
    "    output = {\"number\":0,\"distance\":0,\"closest\":0}\n",
    "    for num in range(low,high+1):\n",
    "        prime_nums = [prevprime(num) if num > 2 else nextprime(num),nextprime(num)]\n",
    "        if num - prime_nums[0] == prime_nums[1] - num:\n",
    "            closest = prime_nums[1]\n",
    "        else:\n",
    "            closest = prime_nums[0] if num - prime_nums[0] < prime_nums[1] - num else prime_nums[1]\n",
    "        if abs(closest - num) > output[\"distance\"]:\n",
    "            output[\"number\"] = num\n",
    "            output[\"distance\"]=abs(closest-num)\n",
    "            output[\"closest\"]=closest\n",
    "             \n",
    "    return output"
   ]
  },
  {
   "cell_type": "code",
   "execution_count": 67,
   "id": "89666318",
   "metadata": {},
   "outputs": [
    {
     "data": {
      "text/plain": [
       "{'number': 0, 'distance': 2, 'closest': 2}"
      ]
     },
     "execution_count": 67,
     "metadata": {},
     "output_type": "execute_result"
    }
   ],
   "source": [
    "loneliest_number(0,22)"
   ]
  },
  {
   "cell_type": "code",
   "execution_count": 68,
   "id": "304f80c2",
   "metadata": {},
   "outputs": [
    {
     "data": {
      "text/plain": [
       "{'number': 120, 'distance': 7, 'closest': 127}"
      ]
     },
     "execution_count": 68,
     "metadata": {},
     "output_type": "execute_result"
    }
   ],
   "source": [
    "loneliest_number(8, 123)"
   ]
  },
  {
   "cell_type": "code",
   "execution_count": 69,
   "id": "2782e4c0",
   "metadata": {},
   "outputs": [
    {
     "data": {
      "text/plain": [
       "{'number': 1140, 'distance': 11, 'closest': 1151}"
      ]
     },
     "execution_count": 69,
     "metadata": {},
     "output_type": "execute_result"
    }
   ],
   "source": [
    "loneliest_number(938, 1190) "
   ]
  },
  {
   "cell_type": "code",
   "execution_count": 71,
   "id": "7d969401",
   "metadata": {},
   "outputs": [
    {
     "data": {
      "text/plain": [
       "{'number': 211, 'distance': 12, 'closest': 223}"
      ]
     },
     "execution_count": 71,
     "metadata": {},
     "output_type": "execute_result"
    }
   ],
   "source": [
    "loneliest_number(120, 1190)"
   ]
  },
  {
   "cell_type": "markdown",
   "id": "6c33d921",
   "metadata": {},
   "source": [
    "#### 5. Implement a class Selfie that can store the current state of the object in the form of binary string. It can take multiple pictures and then recover to a state it was before. During testing an object will be provided with new attributes and their values. It will store its state. Then the values will be changed. Then it will be given new attributes. It will store its state again. It will be repeated few times.\n",
    "Later the states of the object will be recovered given an index. The return value should be a new Selfie with the requested historic state and the state history of the new object should be updated with a copy of current object's state history.\n",
    "\n",
    "The object also knows how many states it has stored. If the index is not within the range of stored states, the object stays as is. If the argument is invalid, n < 0 or n >= self.n_states(), the current object (or a copy thereof) should be returned.\n",
    "\n",
    "Examples\n",
    "\n",
    "p = Selfie()\n",
    "\n",
    "p.x = 2\n",
    "\n",
    "p.save_state()\n",
    "\n",
    "p.x = 5\n",
    "\n",
    "p = p.recover_state(0)\n",
    "\n",
    "p.x ➞ 2"
   ]
  },
  {
   "cell_type": "code",
   "execution_count": null,
   "id": "63870dd9",
   "metadata": {},
   "outputs": [],
   "source": []
  }
 ],
 "metadata": {
  "kernelspec": {
   "display_name": "Python 3",
   "language": "python",
   "name": "python3"
  },
  "language_info": {
   "codemirror_mode": {
    "name": "ipython",
    "version": 3
   },
   "file_extension": ".py",
   "mimetype": "text/x-python",
   "name": "python",
   "nbconvert_exporter": "python",
   "pygments_lexer": "ipython3",
   "version": "3.7.10"
  }
 },
 "nbformat": 4,
 "nbformat_minor": 5
}
