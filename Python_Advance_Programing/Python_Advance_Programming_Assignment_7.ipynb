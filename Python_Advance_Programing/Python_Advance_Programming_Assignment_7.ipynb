{
 "cells": [
  {
   "cell_type": "markdown",
   "id": "8a287319",
   "metadata": {},
   "source": [
    "### 1. Write a function that counts how many concentric layers a rug.\n",
    "\n",
    "Examples\n",
    "\n",
    "count_layers([\n",
    "  \"AAAA\",\n",
    "  \"ABBA\",\n",
    "  \"AAAA\"\n",
    "]) ➞ 2\n",
    "\n",
    "count_layers([\n",
    "  \"AAAAAAAAA\",\n",
    "  \"ABBBBBBBA\",\n",
    "  \"ABBAAABBA\",\n",
    "  \"ABBBBBBBA\",\n",
    "  \"AAAAAAAAA\"\n",
    "]) ➞ 3\n",
    "\n",
    "count_layers([\n",
    "  \"AAAAAAAAAAA\",\n",
    "  \"AABBBBBBBAA\",\n",
    "  \"AABCCCCCBAA\",\n",
    "  \"AABCAAACBAA\",\n",
    "  \"AABCADACBAA\",\n",
    "  \"AABCAAACBAA\",\n",
    "  \"AABCCCCCBAA\",\n",
    "  \"AABBBBBBBAA\",\n",
    "  \"AAAAAAAAAAA\"\n",
    "]) ➞ 5\n"
   ]
  },
  {
   "cell_type": "code",
   "execution_count": 20,
   "id": "7ea87d94",
   "metadata": {},
   "outputs": [],
   "source": [
    "def count_layers(lst):\n",
    "    \"\"\"\n",
    "    function that counts how many concentric layers a rug\n",
    "    \"\"\"\n",
    "    try:\n",
    "        mid = len(lst)//2 # middle index\n",
    "        mid_str = len(lst[mid])//2 # middle index of mid string\n",
    "        len_str = len(lst[mid]) # lenght of middle string\n",
    "        middle = lst[mid] # mid string\n",
    "        count = 1\n",
    "        temp = middle[mid_str] # middle str character\n",
    "        while mid_str < len_str-1:\n",
    "            if middle[mid_str+1] != temp:\n",
    "                count += 1\n",
    "            mid_str += 1\n",
    "            temp = middle[mid_str]\n",
    "        return count\n",
    "    except Exception as e:\n",
    "        print (\"Error occured : \",e)"
   ]
  },
  {
   "cell_type": "code",
   "execution_count": 24,
   "id": "1929fdf8",
   "metadata": {},
   "outputs": [
    {
     "data": {
      "text/plain": [
       "5"
      ]
     },
     "execution_count": 24,
     "metadata": {},
     "output_type": "execute_result"
    }
   ],
   "source": [
    "count_layers([ \"AAAAAAAAAAA\", \"AABBBBBBBAA\", \"AABCCCCCBAA\", \"AABCAAACBAA\", \"AABCADACBAA\", \"AABCAAACBAA\", \"AABCCCCCBAA\", \"AABBBBBBBAA\", \"AAAAAAAAAAA\" ]) "
   ]
  },
  {
   "cell_type": "markdown",
   "id": "399b34fe",
   "metadata": {},
   "source": [
    "### 2. There are many different styles of music and many albums exhibit multiple styles. Create a function that takes a list of musical styles from albums and returns how many styles are unique.\n",
    "\n",
    "Examples\n",
    "\n",
    "unique_styles([\n",
    "  \"Dub,Dancehall\",\n",
    "  \"Industrial,Heavy Metal\",\n",
    "  \"Techno,Dubstep\",\n",
    "  \"Synth-pop,Euro-Disco\",\n",
    "  \"Industrial,Techno,Minimal\"\n",
    "]) ➞ 9\n",
    "\n",
    "unique_styles([\n",
    "  \"Soul\",\n",
    "  \"House,Folk\",\n",
    "  \"Trance,Downtempo,Big Beat,House\",\n",
    "  \"Deep House\",\n",
    "  \"Soul\"\n",
    "]) ➞ 7\n",
    "\n",
    "\n"
   ]
  },
  {
   "cell_type": "code",
   "execution_count": 42,
   "id": "46913d91",
   "metadata": {},
   "outputs": [],
   "source": [
    "def unique_styles(list_of_lists):\n",
    "    \"\"\"\n",
    "    function that takes a list of musical styles from albums\n",
    "    and returns how many styles are unique\n",
    "    \"\"\"\n",
    "    try:\n",
    "        r = []\n",
    "        for i in list_of_lists:\n",
    "            r += i.split(\",\")\n",
    "        return len(set(r))\n",
    "    except Exception as e:\n",
    "        print (\"Error occured : \",e)"
   ]
  },
  {
   "cell_type": "code",
   "execution_count": 43,
   "id": "d8718769",
   "metadata": {},
   "outputs": [
    {
     "data": {
      "text/plain": [
       "7"
      ]
     },
     "execution_count": 43,
     "metadata": {},
     "output_type": "execute_result"
    }
   ],
   "source": [
    "s = [ \"Dub,Dancehall\", \"Industrial,Heavy Metal\", \"Techno,Dubstep\", \"Synth-pop,Euro-Disco\", \"Industrial,Techno,Minimal\" ]\n",
    "s1 = [ \"Soul\", \"House,Folk\", \"Trance,Downtempo,Big Beat,House\", \"Deep House\", \"Soul\" ]\n",
    "unique_styles(s1)"
   ]
  },
  {
   "cell_type": "markdown",
   "id": "60569bcc",
   "metadata": {},
   "source": [
    "### 3. Create a function that finds a target number in a list of prime numbers. Implement a binary search algorithm in your function. The target number will be from 2 through 97. If the target is prime then return \"yes\" else return \"no\".\n",
    "\n",
    "Examples\n",
    "\n",
    "primes = [2, 3, 5, 7, 11, 13, 17, 19, 23, 29, 31, 37, 41, 43, 47, 53, 59, 61, 67, 71, 73, 79, 83, 89, 97]\n",
    "\n",
    "\n",
    "is_prime(primes, 3) ➞ \"yes\"\n",
    "\n",
    "is_prime(primes, 4) ➞ \"no\"\n",
    "\n",
    "is_prime(primes, 67) ➞ \"yes\"\n",
    "\n",
    "is_prime(primes, 36) ➞ \"no\"\n"
   ]
  },
  {
   "cell_type": "code",
   "execution_count": 59,
   "id": "ed023baf",
   "metadata": {},
   "outputs": [],
   "source": [
    "primes = [2, 3, 5, 7, 11, 13, 17, 19, 23, 29, 31, 37, 41, 43, 47, 53, 59, 61, 67, 71, 73, 79, 83, 89, 97]\n",
    "def is_prime(primes, num):\n",
    "    \"\"\"\n",
    "    function that finds a target number in a list of prime numbers\n",
    "    \"\"\"\n",
    "    try:\n",
    "        low = 0\n",
    "        high = len(primes) - 1\n",
    "        mid = 0\n",
    "\n",
    "        while low <= high:\n",
    "            mid = (high + low) // 2\n",
    "            if primes[mid] < num:\n",
    "                low = mid + 1\n",
    "            elif primes[mid] > num:\n",
    "                high = mid - 1\n",
    "            else:\n",
    "                return (\"yes\")\n",
    "        return (\"no\")\n",
    "    except Exception as e:\n",
    "        print (\"Error occured : \",e)"
   ]
  },
  {
   "cell_type": "code",
   "execution_count": 60,
   "id": "b92eaa9a",
   "metadata": {},
   "outputs": [
    {
     "data": {
      "text/plain": [
       "'no'"
      ]
     },
     "execution_count": 60,
     "metadata": {},
     "output_type": "execute_result"
    }
   ],
   "source": [
    "is_prime(primes, 36)"
   ]
  },
  {
   "cell_type": "markdown",
   "id": "dbc2f0ef",
   "metadata": {},
   "source": [
    "### 4. Create a function that takes in n, a, b and returns the number of positive values raised to the nth power that lie in the range [a, b], inclusive.\n",
    "\n",
    "Examples\n",
    "\n",
    "power_ranger(2, 49, 65) ➞ 2\n",
    "\n",
    "2 squares (n^2) lie between 49 and 65, 49 (7^2) and 64 (8^2)\n",
    "\n",
    "power_ranger(3, 1, 27) ➞ 3\n",
    "\n",
    "3 cubes (n^3) lie between 1 and 27, 1 (1^3), 8 (2^3) and 27 (3^3)\n",
    "\n",
    "power_ranger(10, 1, 5) ➞ 1\n",
    "\n",
    "\n",
    "1 value raised to the 10th power lies between 1 and 5, 1 (1^10)\n",
    "\n",
    "power_ranger(5, 31, 33) ➞ 1\n",
    "\n",
    "power_ranger(4, 250, 1300) ➞ 3\n",
    "\n"
   ]
  },
  {
   "cell_type": "code",
   "execution_count": 65,
   "id": "8779881c",
   "metadata": {},
   "outputs": [],
   "source": [
    "def power_ranger(n,a,b):\n",
    "    \"\"\"\n",
    "    function that takes in n, a, b and \n",
    "    returns the number of positive values raised to the nth power\n",
    "    that lie in the range [a, b], inclusive\n",
    "    \"\"\"\n",
    "    try:\n",
    "        count = 0\n",
    "        i = 1\n",
    "        while i**n <= b:\n",
    "            if a <= i**n <= b:\n",
    "                count += 1\n",
    "            i += 1\n",
    "        return count\n",
    "    except Exception as e:\n",
    "        print (\"Error occured : \",e)"
   ]
  },
  {
   "cell_type": "code",
   "execution_count": 69,
   "id": "488cd1af",
   "metadata": {},
   "outputs": [
    {
     "data": {
      "text/plain": [
       "3"
      ]
     },
     "execution_count": 69,
     "metadata": {},
     "output_type": "execute_result"
    }
   ],
   "source": [
    "power_ranger(3, 1, 27)"
   ]
  },
  {
   "cell_type": "markdown",
   "id": "ce8b7056",
   "metadata": {},
   "source": [
    "### 5. Given a number, return the difference between the maximum and minimum numbers that can be formed when the digits are rearranged.\n",
    "\n",
    "Examples\n",
    "\n",
    "rearranged_difference(972882) ➞ 760833\n",
    "\n",
    "988722 - 227889 = 760833\n",
    "\n",
    "rearranged_difference(3320707) ➞ 7709823\n",
    "\n",
    "7733200 - 23377 = 7709823\n",
    "\n",
    "rearranged_difference(90010) ➞ 90981\n",
    "\n",
    "91000 - 19 = 90981\n",
    "\n"
   ]
  },
  {
   "cell_type": "code",
   "execution_count": 80,
   "id": "5ea42162",
   "metadata": {},
   "outputs": [],
   "source": [
    "def rearranged_difference(num):\n",
    "    \"\"\"\n",
    "    return the difference between the maximum and minimum numbers\n",
    "    that can be formed when the digits are rearranged.\n",
    "    \"\"\"\n",
    "    try:\n",
    "        maximum = sorted(list(str(num)),reverse = True)\n",
    "        minimum = sorted(list(str(num)))\n",
    "        diff = int(''.join(maximum)) - int(''.join(minimum))\n",
    "        return diff\n",
    "    except Exception as e:\n",
    "        print (\"Error occured : \",e)    "
   ]
  },
  {
   "cell_type": "code",
   "execution_count": 82,
   "id": "ab1cb694",
   "metadata": {},
   "outputs": [
    {
     "data": {
      "text/plain": [
       "7709823"
      ]
     },
     "execution_count": 82,
     "metadata": {},
     "output_type": "execute_result"
    }
   ],
   "source": [
    "rearranged_difference(3320707)"
   ]
  }
 ],
 "metadata": {
  "kernelspec": {
   "display_name": "Python 3",
   "language": "python",
   "name": "python3"
  },
  "language_info": {
   "codemirror_mode": {
    "name": "ipython",
    "version": 3
   },
   "file_extension": ".py",
   "mimetype": "text/x-python",
   "name": "python",
   "nbconvert_exporter": "python",
   "pygments_lexer": "ipython3",
   "version": "3.7.10"
  }
 },
 "nbformat": 4,
 "nbformat_minor": 5
}
