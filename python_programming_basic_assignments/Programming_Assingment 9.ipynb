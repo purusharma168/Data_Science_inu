{
 "cells": [
  {
   "cell_type": "markdown",
   "id": "98fd4108",
   "metadata": {},
   "source": [
    "1. Write a Python program to check if the given number is a Disarium Number?\n",
    "2. Write a Python program to print all disarium numbers between 1 to 100?\n",
    "3. Write a Python program to check if the given number is Happy Number?\n",
    "4. Write a Python program to print all happy numbers between 1 and 100?\n",
    "5. Write a Python program to determine whether the given number is a Harshad Number?\n",
    "6. Write a Python program to print all pronic numbers between 1 and 100?"
   ]
  },
  {
   "cell_type": "code",
   "execution_count": 5,
   "id": "8dace321",
   "metadata": {},
   "outputs": [
    {
     "name": "stdout",
     "output_type": "stream",
     "text": [
      "Enter the number: 67\n",
      "67 is Not a Disarium Number\n"
     ]
    }
   ],
   "source": [
    "# Q1\n",
    "num = int(input(\"Enter the number: \"))\n",
    "count = 0\n",
    "temp=num\n",
    "while(temp>0):\n",
    "    rem = temp%10\n",
    "    count=count+1\n",
    "    temp//=10  \n",
    "length =  count\n",
    "res = 0\n",
    "power=length\n",
    "temp1=num\n",
    "for i in range(1,length+1):\n",
    "    rem = temp1%10\n",
    "    res+=(rem**power)\n",
    "    power-=1\n",
    "    temp1//=10\n",
    "if(res == num):\n",
    "    print(\"{} is Disarium Number\".format(num))\n",
    "else:\n",
    "    print(\"{} is Not a Disarium Number\".format(num))"
   ]
  },
  {
   "cell_type": "code",
   "execution_count": 4,
   "id": "0b0b468d",
   "metadata": {},
   "outputs": [
    {
     "name": "stdout",
     "output_type": "stream",
     "text": [
      "1 is Disarium Number\n",
      "2 is Disarium Number\n",
      "3 is Disarium Number\n",
      "4 is Disarium Number\n",
      "5 is Disarium Number\n",
      "6 is Disarium Number\n",
      "7 is Disarium Number\n",
      "8 is Disarium Number\n",
      "9 is Disarium Number\n",
      "89 is Disarium Number\n"
     ]
    }
   ],
   "source": [
    "#Q2\n",
    "for num in range(1,101):\n",
    "    count = 0\n",
    "    temp=num\n",
    "    while(temp>0):\n",
    "        rem = temp%10\n",
    "        count=count+1\n",
    "        temp//=10  \n",
    "    length =  count\n",
    "    res = 0\n",
    "    power=length\n",
    "    temp1=num\n",
    "    for i in range(1,length+1):\n",
    "        rem = temp1%10\n",
    "        res+=(rem**power)\n",
    "        power-=1\n",
    "        temp1//=10\n",
    "    if(res == num):\n",
    "        print(\"{} is Disarium Number\".format(num))"
   ]
  },
  {
   "cell_type": "code",
   "execution_count": 6,
   "id": "9247c902",
   "metadata": {},
   "outputs": [
    {
     "name": "stdout",
     "output_type": "stream",
     "text": [
      "Enter the number: 45\n",
      "Not a Happy Number\n"
     ]
    }
   ],
   "source": [
    "# Q3\n",
    "def Happy_Number(num):\n",
    "    rem = my_sum = 0\n",
    "    while(num > 0):\n",
    "        rem = num%10\n",
    "        my_sum = my_sum + (rem*rem)\n",
    "        num//=10\n",
    "    return my_sum\n",
    "num = int(input(\"Enter the number: \"))\n",
    "result = num\n",
    "while(result != 1 and result != 4):    \n",
    "    result = Happy_Number(result)\n",
    "if(result == 1):\n",
    "    print(\"Happy Number\")\n",
    "else:\n",
    "    print(\"Not a Happy Number\")"
   ]
  },
  {
   "cell_type": "code",
   "execution_count": 7,
   "id": "fa55557b",
   "metadata": {},
   "outputs": [
    {
     "name": "stdout",
     "output_type": "stream",
     "text": [
      "1\n",
      "7\n",
      "10\n",
      "13\n",
      "19\n",
      "23\n",
      "28\n",
      "31\n",
      "32\n",
      "44\n",
      "49\n",
      "68\n",
      "70\n",
      "79\n",
      "82\n",
      "86\n",
      "91\n",
      "94\n",
      "97\n",
      "100\n"
     ]
    }
   ],
   "source": [
    "# Q4\n",
    "def Happy_Number(num):\n",
    "    rem = my_sum = 0\n",
    "    while(num > 0):\n",
    "        rem = num%10\n",
    "        my_sum = my_sum + (rem*rem)\n",
    "        num//=10\n",
    "    return my_sum\n",
    "\n",
    "for i in range(1,101):\n",
    "    result = i\n",
    "    while(result != 1 and result != 4):    \n",
    "        result = Happy_Number(result)\n",
    "    if(result == 1):\n",
    "        print(i)"
   ]
  },
  {
   "cell_type": "code",
   "execution_count": 8,
   "id": "b02fcf63",
   "metadata": {},
   "outputs": [
    {
     "name": "stdout",
     "output_type": "stream",
     "text": [
      "Enter the number: 34\n",
      "Not a Harshad Number\n"
     ]
    }
   ],
   "source": [
    "# Q5\n",
    "def Harshad_number(num):\n",
    "    rem = my_sum = 0\n",
    "    temp = num\n",
    "    while(temp>0):\n",
    "        rem =temp%10\n",
    "        my_sum+=rem\n",
    "        temp//=10\n",
    "    if(num%my_sum==0):\n",
    "        print(\"Harshad Number\")\n",
    "    else:\n",
    "        print(\"Not a Harshad Number\")\n",
    "\n",
    "    \n",
    "num=int(input(\"Enter the number: \"))\n",
    "Harshad_number(num)"
   ]
  },
  {
   "cell_type": "code",
   "execution_count": 9,
   "id": "01c1d3dd",
   "metadata": {},
   "outputs": [],
   "source": [
    "# Q6\n",
    "def pronic_number(num):\n",
    "    flag = False\n",
    "    for i in range(1,num+1):\n",
    "        if(i*(i+1) == num):\n",
    "            flag=True\n",
    "\n",
    "for i in range(1,101):\n",
    "    if(pronic_number(i)):\n",
    "        print(i)"
   ]
  },
  {
   "cell_type": "code",
   "execution_count": null,
   "id": "04b8ad61",
   "metadata": {},
   "outputs": [],
   "source": []
  }
 ],
 "metadata": {
  "kernelspec": {
   "display_name": "Python 3",
   "language": "python",
   "name": "python3"
  },
  "language_info": {
   "codemirror_mode": {
    "name": "ipython",
    "version": 3
   },
   "file_extension": ".py",
   "mimetype": "text/x-python",
   "name": "python",
   "nbconvert_exporter": "python",
   "pygments_lexer": "ipython3",
   "version": "3.9.6"
  }
 },
 "nbformat": 4,
 "nbformat_minor": 5
}
